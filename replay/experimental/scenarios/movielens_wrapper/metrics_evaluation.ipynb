{
 "cells": [
  {
   "cell_type": "code",
   "execution_count": 1,
   "id": "73b428c1",
   "metadata": {
    "id": "73b428c1",
    "tags": []
   },
   "outputs": [],
   "source": [
    "%load_ext autoreload\n",
    "%autoreload 2"
   ]
  },
  {
   "cell_type": "code",
   "execution_count": 2,
   "id": "3f2ebbc6",
   "metadata": {
    "id": "3f2ebbc6",
    "tags": []
   },
   "outputs": [],
   "source": [
    "import warnings\n",
    "from optuna.exceptions import ExperimentalWarning\n",
    "warnings.filterwarnings(\"ignore\", category=UserWarning)\n",
    "warnings.filterwarnings(\"ignore\", category=ExperimentalWarning)\n",
    "warnings.filterwarnings(\"ignore\", category=FutureWarning)"
   ]
  },
  {
   "cell_type": "code",
   "execution_count": 3,
   "id": "95754d27",
   "metadata": {
    "id": "95754d27",
    "tags": []
   },
   "outputs": [
    {
     "data": {
      "text/html": [
       "<style type='text/css'>\n",
       ".datatable table.frame { margin-bottom: 0; }\n",
       ".datatable table.frame thead { border-bottom: none; }\n",
       ".datatable table.frame tr.coltypes td {  color: #FFFFFF;  line-height: 6px;  padding: 0 0.5em;}\n",
       ".datatable .bool    { background: #DDDD99; }\n",
       ".datatable .object  { background: #565656; }\n",
       ".datatable .int     { background: #5D9E5D; }\n",
       ".datatable .float   { background: #4040CC; }\n",
       ".datatable .str     { background: #CC4040; }\n",
       ".datatable .time    { background: #40CC40; }\n",
       ".datatable .row_index {  background: var(--jp-border-color3);  border-right: 1px solid var(--jp-border-color0);  color: var(--jp-ui-font-color3);  font-size: 9px;}\n",
       ".datatable .frame tbody td { text-align: left; }\n",
       ".datatable .frame tr.coltypes .row_index {  background: var(--jp-border-color0);}\n",
       ".datatable th:nth-child(2) { padding-left: 12px; }\n",
       ".datatable .hellipsis {  color: var(--jp-cell-editor-border-color);}\n",
       ".datatable .vellipsis {  background: var(--jp-layout-color0);  color: var(--jp-cell-editor-border-color);}\n",
       ".datatable .na {  color: var(--jp-cell-editor-border-color);  font-size: 80%;}\n",
       ".datatable .sp {  opacity: 0.25;}\n",
       ".datatable .footer { font-size: 9px; }\n",
       ".datatable .frame_dimensions {  background: var(--jp-border-color3);  border-top: 1px solid var(--jp-border-color0);  color: var(--jp-ui-font-color3);  display: inline-block;  opacity: 0.6;  padding: 1px 10px 1px 5px;}\n",
       "</style>\n"
      ],
      "text/plain": [
       "<IPython.core.display.HTML object>"
      ]
     },
     "metadata": {},
     "output_type": "display_data"
    },
    {
     "name": "stdout",
     "output_type": "stream",
     "text": [
      "'nlp' extra dependecy package 'gensim' isn't installed. Look at README.md in repo 'LightAutoML' for installation instructions.\n",
      "'nlp' extra dependecy package 'nltk' isn't installed. Look at README.md in repo 'LightAutoML' for installation instructions.\n",
      "'nlp' extra dependecy package 'transformers' isn't installed. Look at README.md in repo 'LightAutoML' for installation instructions.\n",
      "'nlp' extra dependecy package 'gensim' isn't installed. Look at README.md in repo 'LightAutoML' for installation instructions.\n",
      "'nlp' extra dependecy package 'nltk' isn't installed. Look at README.md in repo 'LightAutoML' for installation instructions.\n",
      "'nlp' extra dependecy package 'transformers' isn't installed. Look at README.md in repo 'LightAutoML' for installation instructions.\n"
     ]
    }
   ],
   "source": [
    "import numpy as np\n",
    "import pandas as pd\n",
    "import time\n",
    "from tqdm import tqdm\n",
    "import matplotlib.pyplot as plt\n",
    "import psutil\n",
    "\n",
    "\n",
    "# from pyspark.sql import SparkSession\n",
    "from replay.utils.session_handler import get_spark_session, State\n",
    "\n",
    "from replay.models import UCB, Wilson, RandomRec, LinUCB, ThompsonSampling, LinTS\n",
    "from replay.experimental.scenarios.movielens_wrapper.replay_offline import OBPOfflinePolicyLearner\n",
    "from replay.experimental.scenarios.movielens_wrapper.dataset import MovielensBanditDataset\n",
    "from replay.experimental.scenarios.movielens_wrapper.utils import get_est_rewards_by_reg, bandit_subset\n",
    "from replay.utils.spark_utils import convert2spark"
   ]
  },
  {
   "cell_type": "code",
   "execution_count": 4,
   "id": "9e42a85f",
   "metadata": {
    "id": "9e42a85f",
    "outputId": "60b7eed8-18ef-4706-e880-3526779241e0",
    "tags": []
   },
   "outputs": [
    {
     "name": "stderr",
     "output_type": "stream",
     "text": [
      "24/10/04 11:40:55 WARN Utils: Your hostname, hdilab-hdilabALIEN05 resolves to a loopback address: 127.0.1.1; using 172.21.136.110 instead (on interface enp3s0)\n",
      "24/10/04 11:40:55 WARN Utils: Set SPARK_LOCAL_IP if you need to bind to another address\n",
      "WARNING: An illegal reflective access operation has occurred\n",
      "WARNING: Illegal reflective access by org.apache.spark.unsafe.Platform (file:/home/hdilab/sudakovcom/.conda/lib/python3.9/site-packages/pyspark/jars/spark-unsafe_2.12-3.2.4.jar) to constructor java.nio.DirectByteBuffer(long,int)\n",
      "WARNING: Please consider reporting this to the maintainers of org.apache.spark.unsafe.Platform\n",
      "WARNING: Use --illegal-access=warn to enable warnings of further illegal reflective access operations\n",
      "WARNING: All illegal access operations will be denied in a future release\n",
      "Using Spark's default log4j profile: org/apache/spark/log4j-defaults.properties\n",
      "Setting default log level to \"WARN\".\n",
      "To adjust logging level use sc.setLogLevel(newLevel). For SparkR, use setLogLevel(newLevel).\n",
      "24/10/04 11:40:55 WARN NativeCodeLoader: Unable to load native-hadoop library for your platform... using builtin-java classes where applicable\n",
      "24/10/04 11:40:56 WARN SparkConf: Note that spark.local.dir will be overridden by the value set by the cluster manager (via SPARK_LOCAL_DIRS in mesos/standalone/kubernetes and LOCAL_DIRS in YARN).\n"
     ]
    }
   ],
   "source": [
    "spark = State(get_spark_session()).session\n",
    "spark.sparkContext.setLogLevel('ERROR')"
   ]
  },
  {
   "cell_type": "markdown",
   "id": "324b7d5b",
   "metadata": {
    "id": "324b7d5b"
   },
   "source": [
    "Lets define OpenBanditDataset class with random policy. For the purpose of demonstration we won't use the whole dataset but only subset of size 10000."
   ]
  },
  {
   "cell_type": "code",
   "execution_count": 5,
   "id": "ca63994c",
   "metadata": {},
   "outputs": [],
   "source": [
    "from rs_datasets import MovieLens\n",
    "\n",
    "data = MovieLens(\"1m\")"
   ]
  },
  {
   "cell_type": "markdown",
   "id": "b890579f",
   "metadata": {},
   "source": [
    "Оставим только 300 самых популярных айтемов"
   ]
  },
  {
   "cell_type": "code",
   "execution_count": 6,
   "id": "309e0bc2",
   "metadata": {},
   "outputs": [],
   "source": [
    "logs = data.ratings\n",
    "logs['cnt'] = 1\n",
    "logs = logs[['item_id', 'cnt']].groupby(by=[\"item_id\"]).sum()\n",
    "logs = logs.sort_values(by=['cnt'], ascending=False).reset_index()\n",
    "popular_items = logs.iloc[:1500]['item_id'].tolist()\n",
    "# popular_items = logs['item_id'].tolist()"
   ]
  },
  {
   "cell_type": "code",
   "execution_count": 7,
   "id": "331c924f",
   "metadata": {},
   "outputs": [
    {
     "name": "stdout",
     "output_type": "stream",
     "text": [
      "размер датасета логов после выброса непопулярных айтемов: (869950, 5)\n"
     ]
    }
   ],
   "source": [
    "data.ratings = data.ratings[data.ratings['item_id'].isin(popular_items)]\n",
    "print('размер датасета логов после выброса непопулярных айтемов:', data.ratings.shape)"
   ]
  },
  {
   "cell_type": "markdown",
   "id": "0002f77e",
   "metadata": {},
   "source": [
    "Оставим информацию только о фичах юзеров и айтемов которые остались в логах"
   ]
  },
  {
   "cell_type": "code",
   "execution_count": 8,
   "id": "adcbd325",
   "metadata": {},
   "outputs": [
    {
     "data": {
      "text/plain": [
       "((6040, 5), (1500, 3))"
      ]
     },
     "execution_count": 8,
     "metadata": {},
     "output_type": "execute_result"
    }
   ],
   "source": [
    "data.items = data.items[data.items['item_id'].isin(popular_items)]\n",
    "users = set(data.ratings['user_id'].tolist())\n",
    "data.users = data.users[data.users['user_id'].isin(users)]\n",
    "data.users.shape, data.items.shape"
   ]
  },
  {
   "cell_type": "code",
   "execution_count": 9,
   "id": "986319cd",
   "metadata": {},
   "outputs": [
    {
     "name": "stderr",
     "output_type": "stream",
     "text": [
      "04-Oct-24 11:41:01, replay, INFO: Columns with ids of users or items are present in mapping. The dataframe will be treated as an interactions log.\n",
      "INFO:replay:Columns with ids of users or items are present in mapping. The dataframe will be treated as an interactions log.\n"
     ]
    },
    {
     "name": "stderr",
     "output_type": "stream",
     "text": [
      "04-Oct-24 11:41:07, replay, INFO: Column with ids of users or items is absent in mapping. The dataframe will be treated as a users'/items' features dataframe.\n",
      "INFO:replay:Column with ids of users or items is absent in mapping. The dataframe will be treated as a users'/items' features dataframe.\n",
      "04-Oct-24 11:41:08, replay, INFO: Column with ids of users or items is absent in mapping. The dataframe will be treated as a users'/items' features dataframe.\n",
      "INFO:replay:Column with ids of users or items is absent in mapping. The dataframe will be treated as a users'/items' features dataframe.\n"
     ]
    },
    {
     "name": "stdout",
     "output_type": "stream",
     "text": [
      "fit started\n",
      "predict started\n"
     ]
    },
    {
     "name": "stderr",
     "output_type": "stream",
     "text": [
      "100%|██████████| 869950/869950 [01:52<00:00, 7703.02it/s]\n"
     ]
    }
   ],
   "source": [
    "dataset = MovielensBanditDataset(data)"
   ]
  },
  {
   "cell_type": "markdown",
   "id": "149409e3",
   "metadata": {},
   "source": [
    "# Metrics evaluation"
   ]
  },
  {
   "cell_type": "code",
   "execution_count": 10,
   "id": "53fa9b16",
   "metadata": {},
   "outputs": [],
   "source": [
    "import warnings\n",
    "warnings.filterwarnings(\"ignore\")"
   ]
  },
  {
   "cell_type": "code",
   "execution_count": 11,
   "id": "09aaad78",
   "metadata": {},
   "outputs": [],
   "source": [
    "bandit_feedback_train, bandit_feedback_test = dataset.obtain_batch_bandit_feedback(test_size=0.3, is_timeseries_split=True)"
   ]
  },
  {
   "cell_type": "code",
   "execution_count": 12,
   "id": "16b51d8e",
   "metadata": {},
   "outputs": [
    {
     "name": "stdout",
     "output_type": "stream",
     "text": [
      "momory usage: 20.0\n",
      "UCB\n"
     ]
    },
    {
     "name": "stderr",
     "output_type": "stream",
     "text": [
      "100%|██████████| 229/229 [00:59<00:00,  3.88it/s]\n"
     ]
    },
    {
     "name": "stdout",
     "output_type": "stream",
     "text": [
      "{'hr@1': 0.003137472718287669, 'mrr@1': 0.003137472718287669, 'ndcg@1': 0.003137472718287669, 'cov@1': 0.005333333333333333}\n"
     ]
    },
    {
     "name": "stderr",
     "output_type": "stream",
     "text": [
      "100%|██████████| 229/229 [00:54<00:00,  4.19it/s]\n"
     ]
    },
    {
     "name": "stdout",
     "output_type": "stream",
     "text": [
      "{'hr@3': 0.005252306828513527, 'mrr@3': 0.004093457213400368, 'ndcg@3': 0.004392101241787269, 'cov@3': 0.01}\n"
     ]
    },
    {
     "name": "stderr",
     "output_type": "stream",
     "text": [
      "100%|██████████| 229/229 [00:53<00:00,  4.29it/s]\n"
     ]
    },
    {
     "name": "stdout",
     "output_type": "stream",
     "text": [
      "{'hr@10': 0.00806021547926409, 'mrr@10': 0.00452776810467312, 'ndcg@10': 0.005355937743317153, 'cov@10': 0.027333333333333334}\n"
     ]
    }
   ],
   "source": [
    "print('momory usage:', psutil.virtual_memory().percent)\n",
    "    \n",
    "print('UCB')\n",
    "model_1 = UCB(exploration_coef = 2, sample = True, seed = 123)\n",
    "learner_1 = OBPOfflinePolicyLearner(n_actions=dataset.n_actions,\n",
    "                                    replay_model=model_1)\n",
    "learner_1.fit(bandit_feedback_train)\n",
    "\n",
    "print(learner_1.predict_and_evaluate_new(bandit_feedback_test, 1))\n",
    "print(learner_1.predict_and_evaluate_new(bandit_feedback_test, 3))\n",
    "print(learner_1.predict_and_evaluate_new(bandit_feedback_test, 10))"
   ]
  },
  {
   "cell_type": "code",
   "execution_count": 13,
   "id": "27a1f38d",
   "metadata": {},
   "outputs": [
    {
     "name": "stdout",
     "output_type": "stream",
     "text": [
      "momory usage: 27.1\n",
      "LinUCB\n"
     ]
    },
    {
     "name": "stderr",
     "output_type": "stream",
     "text": [
      "[autoreload of replay.models.ucb failed: Traceback (most recent call last):\n",
      "  File \"/home/hdilab/sudakovcom/.conda/lib/python3.9/site-packages/IPython/extensions/autoreload.py\", line 273, in check\n",
      "    superreload(m, reload, self.old_objects)\n",
      "  File \"/home/hdilab/sudakovcom/.conda/lib/python3.9/site-packages/IPython/extensions/autoreload.py\", line 496, in superreload\n",
      "    update_generic(old_obj, new_obj)\n",
      "  File \"/home/hdilab/sudakovcom/.conda/lib/python3.9/site-packages/IPython/extensions/autoreload.py\", line 393, in update_generic\n",
      "    update(a, b)\n",
      "  File \"/home/hdilab/sudakovcom/.conda/lib/python3.9/site-packages/IPython/extensions/autoreload.py\", line 345, in update_class\n",
      "    if update_generic(old_obj, new_obj):\n",
      "  File \"/home/hdilab/sudakovcom/.conda/lib/python3.9/site-packages/IPython/extensions/autoreload.py\", line 393, in update_generic\n",
      "    update(a, b)\n",
      "  File \"/home/hdilab/sudakovcom/.conda/lib/python3.9/site-packages/IPython/extensions/autoreload.py\", line 305, in update_function\n",
      "    setattr(old, name, getattr(new, name))\n",
      "ValueError: optimize() requires a code object with 0 free vars, not 1\n",
      "]\n",
      "100%|██████████| 229/229 [00:26<00:00,  8.78it/s]\n"
     ]
    },
    {
     "name": "stdout",
     "output_type": "stream",
     "text": [
      "{'hr@1': 0.009587229125275192, 'mrr@1': 0.009587229125275192, 'ndcg@1': 0.009587229125275192, 'cov@1': 0.048}\n"
     ]
    },
    {
     "name": "stderr",
     "output_type": "stream",
     "text": [
      "100%|██████████| 229/229 [00:25<00:00,  8.94it/s]\n"
     ]
    },
    {
     "name": "stdout",
     "output_type": "stream",
     "text": [
      "{'hr@3': 0.024031845133832556, 'mrr@3': 0.015771024940098088, 'ndcg@3': 0.017884934273710216, 'cov@3': 0.08733333333333333}\n"
     ]
    },
    {
     "name": "stderr",
     "output_type": "stream",
     "text": [
      "100%|██████████| 229/229 [00:25<00:00,  8.97it/s]\n"
     ]
    },
    {
     "name": "stdout",
     "output_type": "stream",
     "text": [
      "{'hr@10': 0.06216490458087979, 'mrr@10': 0.02186516577173348, 'ndcg@10': 0.031147566431041614, 'cov@10': 0.17}\n"
     ]
    }
   ],
   "source": [
    "print('momory usage:', psutil.virtual_memory().percent)\n",
    "    \n",
    "print('LinUCB')\n",
    "model_2 = LinUCB(eps = -10.0, alpha = 1.0, regr_type = 'disjoint')\n",
    "learner_2 = OBPOfflinePolicyLearner(n_actions=dataset.n_actions,\n",
    "                                    replay_model=model_2)\n",
    "learner_2.fit(bandit_feedback_train)\n",
    "\n",
    "print(learner_2.predict_and_evaluate_new(bandit_feedback_test, 1))\n",
    "print(learner_2.predict_and_evaluate_new(bandit_feedback_test, 3))\n",
    "print(learner_2.predict_and_evaluate_new(bandit_feedback_test, 10))"
   ]
  },
  {
   "cell_type": "code",
   "execution_count": 14,
   "id": "48cbcfa2",
   "metadata": {},
   "outputs": [
    {
     "name": "stdout",
     "output_type": "stream",
     "text": [
      "momory usage: 34.1\n",
      "Random\n"
     ]
    },
    {
     "name": "stderr",
     "output_type": "stream",
     "text": [
      "100%|██████████| 229/229 [00:41<00:00,  5.49it/s]\n"
     ]
    },
    {
     "name": "stdout",
     "output_type": "stream",
     "text": [
      "{'hr@1': 0.0011735538385816873, 'mrr@1': 0.0011735538385816873, 'ndcg@1': 0.0011735538385816873, 'cov@1': 0.7926666666666666}\n"
     ]
    },
    {
     "name": "stderr",
     "output_type": "stream",
     "text": [
      "100%|██████████| 229/229 [00:41<00:00,  5.54it/s]\n"
     ]
    },
    {
     "name": "stdout",
     "output_type": "stream",
     "text": [
      "{'hr@3': 0.0025322369116594088, 'mrr@3': 0.001754318802703772, 'ndcg@3': 0.00195334777705364, 'cov@3': 0.994}\n"
     ]
    },
    {
     "name": "stderr",
     "output_type": "stream",
     "text": [
      "100%|██████████| 229/229 [00:41<00:00,  5.54it/s]\n"
     ]
    },
    {
     "name": "stdout",
     "output_type": "stream",
     "text": [
      "{'hr@10': 0.007225143171832117, 'mrr@10': 0.0024818648864348277, 'ndcg@10': 0.0035642191737491817, 'cov@10': 1.0}\n"
     ]
    }
   ],
   "source": [
    "print('momory usage:', psutil.virtual_memory().percent)\n",
    "\n",
    "print('Random')\n",
    "model_3 = RandomRec(seed=42)\n",
    "learner_3 = OBPOfflinePolicyLearner(n_actions=dataset.n_actions,\n",
    "                                    replay_model=model_3)\n",
    "learner_3.fit(bandit_feedback_train)\n",
    "\n",
    "print(learner_3.predict_and_evaluate_new(bandit_feedback_test, 1))\n",
    "print(learner_3.predict_and_evaluate_new(bandit_feedback_test, 3))\n",
    "print(learner_3.predict_and_evaluate_new(bandit_feedback_test, 10))"
   ]
  },
  {
   "cell_type": "code",
   "execution_count": 15,
   "id": "352841c1",
   "metadata": {},
   "outputs": [
    {
     "name": "stdout",
     "output_type": "stream",
     "text": [
      "momory usage: 39.8\n",
      "LinTS\n"
     ]
    },
    {
     "name": "stderr",
     "output_type": "stream",
     "text": [
      "100%|██████████| 229/229 [01:38<00:00,  2.32it/s]\n"
     ]
    },
    {
     "name": "stdout",
     "output_type": "stream",
     "text": [
      "{'hr@1': 0.006187871398840221, 'mrr@1': 0.006187871398840221, 'ndcg@1': 0.006187871398840221, 'cov@1': 0.064}\n"
     ]
    },
    {
     "name": "stderr",
     "output_type": "stream",
     "text": [
      "100%|██████████| 229/229 [01:38<00:00,  2.33it/s]\n"
     ]
    },
    {
     "name": "stdout",
     "output_type": "stream",
     "text": [
      "{'hr@3': 0.013962941006144041, 'mrr@3': 0.00865714815113251, 'ndcg@3': 0.010014675104411638, 'cov@3': 0.176}\n"
     ]
    },
    {
     "name": "stderr",
     "output_type": "stream",
     "text": [
      "100%|██████████| 229/229 [01:38<00:00,  2.33it/s]\n"
     ]
    },
    {
     "name": "stdout",
     "output_type": "stream",
     "text": [
      "{'hr@10': 0.03548643938533158, 'mrr@10': 0.010791719269673072, 'ndcg@10': 0.016453397191911752, 'cov@10': 0.37}\n"
     ]
    }
   ],
   "source": [
    "print('momory usage:', psutil.virtual_memory().percent)\n",
    "    \n",
    "print('LinTS')\n",
    "model_4 = LinTS(nu = 0.114225, alpha = 1016.561481, regr_type = 'disjoint')\n",
    "learner_4 = OBPOfflinePolicyLearner(n_actions=dataset.n_actions,\n",
    "                                    replay_model=model_4)\n",
    "learner_4.fit(bandit_feedback_train)\n",
    "\n",
    "print(learner_4.predict_and_evaluate_new(bandit_feedback_test, 1))\n",
    "print(learner_4.predict_and_evaluate_new(bandit_feedback_test, 3))\n",
    "print(learner_4.predict_and_evaluate_new(bandit_feedback_test, 10))"
   ]
  },
  {
   "cell_type": "code",
   "execution_count": null,
   "id": "674a9800",
   "metadata": {},
   "outputs": [],
   "source": []
  }
 ],
 "metadata": {
  "colab": {
   "provenance": []
  },
  "kernelspec": {
   "display_name": "Python 3",
   "language": "python",
   "name": "python3"
  },
  "language_info": {
   "codemirror_mode": {
    "name": "ipython",
    "version": 3
   },
   "file_extension": ".py",
   "mimetype": "text/x-python",
   "name": "python",
   "nbconvert_exporter": "python",
   "pygments_lexer": "ipython3",
   "version": "3.9.19"
  }
 },
 "nbformat": 4,
 "nbformat_minor": 5
}
