{
 "cells": [
  {
   "cell_type": "code",
   "execution_count": 1,
   "id": "73b428c1",
   "metadata": {
    "id": "73b428c1",
    "tags": []
   },
   "outputs": [],
   "source": [
    "%load_ext autoreload\n",
    "%autoreload 2"
   ]
  },
  {
   "cell_type": "code",
   "execution_count": 2,
   "id": "3f2ebbc6",
   "metadata": {
    "id": "3f2ebbc6",
    "tags": []
   },
   "outputs": [],
   "source": [
    "import warnings\n",
    "from optuna.exceptions import ExperimentalWarning\n",
    "warnings.filterwarnings(\"ignore\", category=UserWarning)\n",
    "warnings.filterwarnings(\"ignore\", category=ExperimentalWarning)\n",
    "warnings.filterwarnings(\"ignore\", category=FutureWarning)"
   ]
  },
  {
   "cell_type": "code",
   "execution_count": 5,
   "id": "95754d27",
   "metadata": {
    "id": "95754d27",
    "tags": []
   },
   "outputs": [],
   "source": [
    "import numpy as np\n",
    "import pandas as pd\n",
    "import time\n",
    "\n",
    "from pyspark.sql import SparkSession\n",
    "from replay.utils.session_handler import get_spark_session, State\n",
    "\n",
    "from replay.models import UCB, Wilson, RandomRec, LinUCB\n",
    "from replay.experimental.scenarios.movielens_wrapper.replay_offline import OBPOfflinePolicyLearner\n",
    "from replay.experimental.scenarios.movielens_wrapper.MIPS import MIPS\n",
    "from replay.experimental.scenarios.movielens_wrapper.dataset import MovielensBanditDataset\n",
    "from replay.experimental.scenarios.movielens_wrapper.utils import get_est_rewards_by_reg, bandit_subset\n",
    "\n",
    "import obp\n",
    "from obp.dataset import OpenBanditDataset\n",
    "from obp.policy import IPWLearner\n",
    "from obp.ope import (\n",
    "    OffPolicyEvaluation,\n",
    "    DirectMethod,\n",
    "    InverseProbabilityWeighting,\n",
    "    DoublyRobust,\n",
    "    SelfNormalizedInverseProbabilityWeighting,\n",
    "    SelfNormalizedDoublyRobust,\n",
    "    MarginalizedInverseProbabilityWeighting,\n",
    ")"
   ]
  },
  {
   "cell_type": "code",
   "execution_count": 6,
   "id": "9e42a85f",
   "metadata": {
    "id": "9e42a85f",
    "outputId": "60b7eed8-18ef-4706-e880-3526779241e0",
    "tags": []
   },
   "outputs": [
    {
     "name": "stderr",
     "output_type": "stream",
     "text": [
      "24/09/10 14:11:01 WARN Utils: Your hostname, sudakovcom-MS-7D48 resolves to a loopback address: 127.0.1.1; using 10.255.173.26 instead (on interface enp3s0)\n",
      "24/09/10 14:11:01 WARN Utils: Set SPARK_LOCAL_IP if you need to bind to another address\n",
      "Using Spark's default log4j profile: org/apache/spark/log4j-defaults.properties\n",
      "Setting default log level to \"WARN\".\n",
      "To adjust logging level use sc.setLogLevel(newLevel). For SparkR, use setLogLevel(newLevel).\n",
      "24/09/10 14:11:04 WARN NativeCodeLoader: Unable to load native-hadoop library for your platform... using builtin-java classes where applicable\n",
      "24/09/10 14:11:05 WARN SparkConf: Note that spark.local.dir will be overridden by the value set by the cluster manager (via SPARK_LOCAL_DIRS in mesos/standalone/kubernetes and LOCAL_DIRS in YARN).\n"
     ]
    }
   ],
   "source": [
    "spark = State(get_spark_session()).session\n",
    "spark.sparkContext.setLogLevel('ERROR')"
   ]
  },
  {
   "cell_type": "markdown",
   "id": "324b7d5b",
   "metadata": {
    "id": "324b7d5b"
   },
   "source": [
    "Lets define OpenBanditDataset class with random policy. For the purpose of demonstration we won't use the whole dataset but only subset of size 10000."
   ]
  },
  {
   "cell_type": "code",
   "execution_count": 7,
   "id": "ca63994c",
   "metadata": {},
   "outputs": [
    {
     "name": "stdout",
     "output_type": "stream",
     "text": [
      "ratings\n"
     ]
    },
    {
     "data": {
      "text/html": [
       "<div>\n",
       "<style scoped>\n",
       "    .dataframe tbody tr th:only-of-type {\n",
       "        vertical-align: middle;\n",
       "    }\n",
       "\n",
       "    .dataframe tbody tr th {\n",
       "        vertical-align: top;\n",
       "    }\n",
       "\n",
       "    .dataframe thead th {\n",
       "        text-align: right;\n",
       "    }\n",
       "</style>\n",
       "<table border=\"1\" class=\"dataframe\">\n",
       "  <thead>\n",
       "    <tr style=\"text-align: right;\">\n",
       "      <th></th>\n",
       "      <th>user_id</th>\n",
       "      <th>item_id</th>\n",
       "      <th>rating</th>\n",
       "      <th>timestamp</th>\n",
       "    </tr>\n",
       "  </thead>\n",
       "  <tbody>\n",
       "    <tr>\n",
       "      <th>0</th>\n",
       "      <td>1</td>\n",
       "      <td>1193</td>\n",
       "      <td>5</td>\n",
       "      <td>978300760</td>\n",
       "    </tr>\n",
       "    <tr>\n",
       "      <th>1</th>\n",
       "      <td>1</td>\n",
       "      <td>661</td>\n",
       "      <td>3</td>\n",
       "      <td>978302109</td>\n",
       "    </tr>\n",
       "    <tr>\n",
       "      <th>2</th>\n",
       "      <td>1</td>\n",
       "      <td>914</td>\n",
       "      <td>3</td>\n",
       "      <td>978301968</td>\n",
       "    </tr>\n",
       "  </tbody>\n",
       "</table>\n",
       "</div>"
      ],
      "text/plain": [
       "   user_id  item_id  rating  timestamp\n",
       "0        1     1193       5  978300760\n",
       "1        1      661       3  978302109\n",
       "2        1      914       3  978301968"
      ]
     },
     "metadata": {},
     "output_type": "display_data"
    },
    {
     "name": "stdout",
     "output_type": "stream",
     "text": [
      "\n",
      "users\n"
     ]
    },
    {
     "data": {
      "text/html": [
       "<div>\n",
       "<style scoped>\n",
       "    .dataframe tbody tr th:only-of-type {\n",
       "        vertical-align: middle;\n",
       "    }\n",
       "\n",
       "    .dataframe tbody tr th {\n",
       "        vertical-align: top;\n",
       "    }\n",
       "\n",
       "    .dataframe thead th {\n",
       "        text-align: right;\n",
       "    }\n",
       "</style>\n",
       "<table border=\"1\" class=\"dataframe\">\n",
       "  <thead>\n",
       "    <tr style=\"text-align: right;\">\n",
       "      <th></th>\n",
       "      <th>user_id</th>\n",
       "      <th>gender</th>\n",
       "      <th>age</th>\n",
       "      <th>occupation</th>\n",
       "      <th>zip_code</th>\n",
       "    </tr>\n",
       "  </thead>\n",
       "  <tbody>\n",
       "    <tr>\n",
       "      <th>0</th>\n",
       "      <td>1</td>\n",
       "      <td>F</td>\n",
       "      <td>1</td>\n",
       "      <td>10</td>\n",
       "      <td>48067</td>\n",
       "    </tr>\n",
       "    <tr>\n",
       "      <th>1</th>\n",
       "      <td>2</td>\n",
       "      <td>M</td>\n",
       "      <td>56</td>\n",
       "      <td>16</td>\n",
       "      <td>70072</td>\n",
       "    </tr>\n",
       "    <tr>\n",
       "      <th>2</th>\n",
       "      <td>3</td>\n",
       "      <td>M</td>\n",
       "      <td>25</td>\n",
       "      <td>15</td>\n",
       "      <td>55117</td>\n",
       "    </tr>\n",
       "  </tbody>\n",
       "</table>\n",
       "</div>"
      ],
      "text/plain": [
       "   user_id gender  age  occupation zip_code\n",
       "0        1      F    1          10    48067\n",
       "1        2      M   56          16    70072\n",
       "2        3      M   25          15    55117"
      ]
     },
     "metadata": {},
     "output_type": "display_data"
    },
    {
     "name": "stdout",
     "output_type": "stream",
     "text": [
      "\n",
      "items\n"
     ]
    },
    {
     "data": {
      "text/html": [
       "<div>\n",
       "<style scoped>\n",
       "    .dataframe tbody tr th:only-of-type {\n",
       "        vertical-align: middle;\n",
       "    }\n",
       "\n",
       "    .dataframe tbody tr th {\n",
       "        vertical-align: top;\n",
       "    }\n",
       "\n",
       "    .dataframe thead th {\n",
       "        text-align: right;\n",
       "    }\n",
       "</style>\n",
       "<table border=\"1\" class=\"dataframe\">\n",
       "  <thead>\n",
       "    <tr style=\"text-align: right;\">\n",
       "      <th></th>\n",
       "      <th>item_id</th>\n",
       "      <th>title</th>\n",
       "      <th>genres</th>\n",
       "    </tr>\n",
       "  </thead>\n",
       "  <tbody>\n",
       "    <tr>\n",
       "      <th>0</th>\n",
       "      <td>1</td>\n",
       "      <td>Toy Story (1995)</td>\n",
       "      <td>Animation|Children's|Comedy</td>\n",
       "    </tr>\n",
       "    <tr>\n",
       "      <th>1</th>\n",
       "      <td>2</td>\n",
       "      <td>Jumanji (1995)</td>\n",
       "      <td>Adventure|Children's|Fantasy</td>\n",
       "    </tr>\n",
       "    <tr>\n",
       "      <th>2</th>\n",
       "      <td>3</td>\n",
       "      <td>Grumpier Old Men (1995)</td>\n",
       "      <td>Comedy|Romance</td>\n",
       "    </tr>\n",
       "  </tbody>\n",
       "</table>\n",
       "</div>"
      ],
      "text/plain": [
       "   item_id                    title                        genres\n",
       "0        1         Toy Story (1995)   Animation|Children's|Comedy\n",
       "1        2           Jumanji (1995)  Adventure|Children's|Fantasy\n",
       "2        3  Grumpier Old Men (1995)                Comedy|Romance"
      ]
     },
     "metadata": {},
     "output_type": "display_data"
    },
    {
     "name": "stdout",
     "output_type": "stream",
     "text": [
      "\n"
     ]
    }
   ],
   "source": [
    "from rs_datasets import MovieLens\n",
    "\n",
    "data = MovieLens(\"1m\")\n",
    "data.info()"
   ]
  },
  {
   "cell_type": "code",
   "execution_count": 8,
   "id": "986319cd",
   "metadata": {},
   "outputs": [
    {
     "name": "stderr",
     "output_type": "stream",
     "text": [
      "10-Sep-24 14:11:15, replay, INFO: Columns with ids of users or items are present in mapping. The dataframe will be treated as an interactions log.\n",
      "INFO:replay:Columns with ids of users or items are present in mapping. The dataframe will be treated as an interactions log.\n",
      "10-Sep-24 14:11:21, replay, INFO: Column with ids of users or items is absent in mapping. The dataframe will be treated as a users'/items' features dataframe.\n",
      "INFO:replay:Column with ids of users or items is absent in mapping. The dataframe will be treated as a users'/items' features dataframe.\n",
      "10-Sep-24 14:11:22, replay, INFO: Column with ids of users or items is absent in mapping. The dataframe will be treated as a users'/items' features dataframe.\n",
      "INFO:replay:Column with ids of users or items is absent in mapping. The dataframe will be treated as a users'/items' features dataframe.\n"
     ]
    },
    {
     "name": "stdout",
     "output_type": "stream",
     "text": [
      "fit started\n"
     ]
    },
    {
     "name": "stderr",
     "output_type": "stream",
     "text": [
      "INFO:root:Exception while sending command.\n",
      "Traceback (most recent call last):\n",
      "  File \"/home/sudakovcom/Desktop/RePlayHDILab2024/.conda/lib/python3.9/site-packages/py4j/clientserver.py\", line 503, in send_command\n",
      "    self.socket.sendall(command.encode(\"utf-8\"))\n",
      "ConnectionResetError: [Errno 104] Connection reset by peer\n",
      "\n",
      "During handling of the above exception, another exception occurred:\n",
      "\n",
      "Traceback (most recent call last):\n",
      "  File \"/home/sudakovcom/Desktop/RePlayHDILab2024/.conda/lib/python3.9/site-packages/py4j/java_gateway.py\", line 1038, in send_command\n",
      "    response = connection.send_command(command)\n",
      "  File \"/home/sudakovcom/Desktop/RePlayHDILab2024/.conda/lib/python3.9/site-packages/py4j/clientserver.py\", line 506, in send_command\n",
      "    raise Py4JNetworkError(\n",
      "py4j.protocol.Py4JNetworkError: Error while sending\n",
      "/home/sudakovcom/Desktop/RePlayHDILab2024/.conda/lib/python3.9/site-packages/sklearn/linear_model/_logistic.py:814: ConvergenceWarning: lbfgs failed to converge (status=1):\n",
      "STOP: TOTAL NO. of ITERATIONS REACHED LIMIT.\n",
      "\n",
      "Increase the number of iterations (max_iter) or scale the data as shown in:\n",
      "    https://scikit-learn.org/stable/modules/preprocessing.html\n",
      "Please also refer to the documentation for alternative solver options:\n",
      "    https://scikit-learn.org/stable/modules/linear_model.html#logistic-regression\n",
      "  n_iter_i = _check_optimize_result(\n"
     ]
    },
    {
     "name": "stdout",
     "output_type": "stream",
     "text": [
      "predict started\n"
     ]
    },
    {
     "name": "stderr",
     "output_type": "stream",
     "text": [
      "100%|██████████| 50000/50000 [00:04<00:00, 10533.88it/s]\n"
     ]
    }
   ],
   "source": [
    "dataset = MovielensBanditDataset(data)"
   ]
  },
  {
   "cell_type": "code",
   "execution_count": 10,
   "id": "4e6d6e20",
   "metadata": {},
   "outputs": [
    {
     "name": "stdout",
     "output_type": "stream",
     "text": [
      "+--------+-------+------+-----------+----------+-----+---------+---------+-----+---------+-------+------+-------+-------+--------+---+------+-------+------+\n",
      "|item_idx|Mystery|Action|Documentary|Children's|Drama|Adventure|Film-Noir|Crime|Animation|Fantasy|Comedy|Western|Romance|Thriller|War|Sci-Fi|Musical|Horror|\n",
      "+--------+-------+------+-----------+----------+-----+---------+---------+-----+---------+-------+------+-------+-------+--------+---+------+-------+------+\n",
      "|      28|      0|     0|          0|         1|    0|        0|        0|    0|        1|      0|     1|      0|      0|       0|  0|     0|      0|     0|\n",
      "|     255|      0|     0|          0|         1|    0|        1|        0|    0|        0|      1|     0|      0|      0|       0|  0|     0|      0|     0|\n",
      "|     842|      0|     0|          0|         0|    0|        0|        0|    0|        0|      0|     1|      0|      1|       0|  0|     0|      0|     0|\n",
      "|    1380|      0|     0|          0|         0|    1|        0|        0|    0|        0|      0|     1|      0|      0|       0|  0|     0|      0|     0|\n",
      "|    1105|      0|     0|          0|         0|    0|        0|        0|    0|        0|      0|     1|      0|      0|       0|  0|     0|      0|     0|\n",
      "+--------+-------+------+-----------+----------+-----+---------+---------+-----+---------+-------+------+-------+-------+--------+---+------+-------+------+\n",
      "only showing top 5 rows\n",
      "\n"
     ]
    }
   ],
   "source": [
    "dataset.item_features.show(5)"
   ]
  },
  {
   "cell_type": "code",
   "execution_count": 11,
   "id": "9c9ecc88",
   "metadata": {},
   "outputs": [
    {
     "name": "stdout",
     "output_type": "stream",
     "text": [
      "+--------+--------------+--------------+--------------+--------------+------------+--------+--------+------------+------------+------------+------------+------------+------------+------------+------------+------------+------------+-------------+-------------+-------------+-------------+-------------+-------------+-------------+-------------+-------------+-------------+-------------+\n",
      "|user_idx|agegroup_20-29|agegroup_30-39|agegroup_40-49|agegroup_51-60|agegroup_<20|gender_F|gender_M|occupation_0|occupation_1|occupation_2|occupation_3|occupation_4|occupation_5|occupation_6|occupation_7|occupation_8|occupation_9|occupation_10|occupation_11|occupation_12|occupation_13|occupation_14|occupation_15|occupation_16|occupation_17|occupation_18|occupation_19|occupation_20|\n",
      "+--------+--------------+--------------+--------------+--------------+------------+--------+--------+------------+------------+------------+------------+------------+------------+------------+------------+------------+------------+-------------+-------------+-------------+-------------+-------------+-------------+-------------+-------------+-------------+-------------+-------------+\n",
      "|     223|           0.0|           0.0|           0.0|           0.0|         1.0|     1.0|     0.0|         0.0|         0.0|         0.0|         0.0|         0.0|         0.0|         0.0|         0.0|         0.0|         0.0|          1.0|          0.0|          0.0|          0.0|          0.0|          0.0|          0.0|          0.0|          0.0|          0.0|          0.0|\n",
      "|     116|           0.0|           0.0|           0.0|           1.0|         0.0|     0.0|     1.0|         0.0|         0.0|         0.0|         0.0|         0.0|         0.0|         0.0|         0.0|         0.0|         0.0|          0.0|          0.0|          0.0|          0.0|          0.0|          0.0|          1.0|          0.0|          0.0|          0.0|          0.0|\n",
      "|     230|           1.0|           0.0|           0.0|           0.0|         0.0|     0.0|     1.0|         0.0|         0.0|         0.0|         0.0|         0.0|         0.0|         0.0|         0.0|         0.0|         0.0|          0.0|          0.0|          0.0|          0.0|          0.0|          1.0|          0.0|          0.0|          0.0|          0.0|          0.0|\n",
      "|     323|           0.0|           0.0|           1.0|           0.0|         0.0|     0.0|     1.0|         0.0|         0.0|         0.0|         0.0|         0.0|         0.0|         0.0|         1.0|         0.0|         0.0|          0.0|          0.0|          0.0|          0.0|          0.0|          0.0|          0.0|          0.0|          0.0|          0.0|          0.0|\n",
      "|      80|           1.0|           0.0|           0.0|           0.0|         0.0|     0.0|     1.0|         0.0|         0.0|         0.0|         0.0|         0.0|         0.0|         0.0|         0.0|         0.0|         0.0|          0.0|          0.0|          0.0|          0.0|          0.0|          0.0|          0.0|          0.0|          0.0|          0.0|          1.0|\n",
      "+--------+--------------+--------------+--------------+--------------+------------+--------+--------+------------+------------+------------+------------+------------+------------+------------+------------+------------+------------+-------------+-------------+-------------+-------------+-------------+-------------+-------------+-------------+-------------+-------------+-------------+\n",
      "only showing top 5 rows\n",
      "\n"
     ]
    }
   ],
   "source": [
    "dataset.user_features.show(5)"
   ]
  },
  {
   "cell_type": "code",
   "execution_count": 12,
   "id": "32c3ec0e",
   "metadata": {},
   "outputs": [
    {
     "name": "stdout",
     "output_type": "stream",
     "text": [
      "+--------+--------+---------+-------------------+\n",
      "|user_idx|item_idx|relevance|          timestamp|\n",
      "+--------+--------+---------+-------------------+\n",
      "|     223|      42|        1|2001-01-01 01:12:40|\n",
      "|     223|     640|        1|2001-01-01 01:35:09|\n",
      "|     223|     368|        1|2001-01-01 01:32:48|\n",
      "|     223|      76|        1|2001-01-01 01:04:35|\n",
      "|     223|      40|        1|2001-01-07 02:38:11|\n",
      "+--------+--------+---------+-------------------+\n",
      "only showing top 5 rows\n",
      "\n"
     ]
    }
   ],
   "source": [
    "dataset.log.show(5)"
   ]
  },
  {
   "cell_type": "code",
   "execution_count": 13,
   "id": "41232f73",
   "metadata": {},
   "outputs": [
    {
     "data": {
      "text/plain": [
       "array([[0., 0., 0., ..., 0., 0., 0.],\n",
       "       [0., 0., 0., ..., 0., 0., 0.],\n",
       "       [0., 0., 0., ..., 0., 0., 0.],\n",
       "       ...,\n",
       "       [0., 1., 0., ..., 0., 0., 0.],\n",
       "       [0., 1., 0., ..., 0., 0., 0.],\n",
       "       [0., 1., 0., ..., 0., 0., 0.]])"
      ]
     },
     "execution_count": 13,
     "metadata": {},
     "output_type": "execute_result"
    }
   ],
   "source": [
    "dataset.context"
   ]
  },
  {
   "cell_type": "code",
   "execution_count": 14,
   "id": "4af3ad39",
   "metadata": {},
   "outputs": [
    {
     "data": {
      "text/plain": [
       "array([[0, 0, 0, ..., 0, 0, 0],\n",
       "       [0, 0, 0, ..., 0, 0, 0],\n",
       "       [0, 0, 0, ..., 0, 0, 0],\n",
       "       ...,\n",
       "       [0, 0, 0, ..., 0, 0, 0],\n",
       "       [0, 0, 0, ..., 0, 0, 0],\n",
       "       [0, 0, 0, ..., 0, 0, 0]], dtype=int32)"
      ]
     },
     "execution_count": 14,
     "metadata": {},
     "output_type": "execute_result"
    }
   ],
   "source": [
    "dataset.action_context"
   ]
  },
  {
   "cell_type": "code",
   "execution_count": 15,
   "id": "c7e7ea80",
   "metadata": {},
   "outputs": [
    {
     "name": "stderr",
     "output_type": "stream",
     "text": [
      "100%|██████████| 100/100 [00:00<00:00, 10219.54it/s]"
     ]
    },
    {
     "name": "stdout",
     "output_type": "stream",
     "text": [
      "35000\n",
      "100\n"
     ]
    },
    {
     "name": "stderr",
     "output_type": "stream",
     "text": [
      "\n"
     ]
    }
   ],
   "source": [
    "bandit_feedback_train, bandit_feedback_test = dataset.obtain_batch_bandit_feedback(test_size=0.3, is_timeseries_split=True)\n",
    "\n",
    "print(bandit_feedback_train[\"n_rounds\"])\n",
    "print(bandit_feedback_test[\"n_rounds\"])"
   ]
  },
  {
   "cell_type": "code",
   "execution_count": 16,
   "id": "d6f68017",
   "metadata": {
    "id": "d6f68017",
    "outputId": "04b1fb78-6161-4fe9-cc7d-7b4a7c25cfe0",
    "tags": []
   },
   "outputs": [
    {
     "data": {
      "text/plain": [
       "dict_keys(['log', 'item_features', 'user_features', 'n_rounds', 'n_actions', 'action', 'position', 'reward', 'pscore', 'context', 'action_context'])"
      ]
     },
     "execution_count": 16,
     "metadata": {},
     "output_type": "execute_result"
    }
   ],
   "source": [
    "bandit_feedback_train.keys()"
   ]
  },
  {
   "cell_type": "markdown",
   "id": "07d7624e",
   "metadata": {
    "id": "07d7624e"
   },
   "source": [
    "The keys of the dictionary are as follows.\n",
    "- n_rounds: number of rounds, data size of the logged bandit data;\n",
    "- n_actions: number of actions $|\\mathcal{A}|$;\n",
    "- action: action variables sampled by the behavior policy;\n",
    "- position: positions where actions are recommended, there are three positions in the ZOZOTOWN rec interface;\n",
    "- reward: binary reward variables, click indicators;\n",
    "- pscore: action choice probabilities by the behavior policy, propensity scores;\n",
    "- context: context vectors such as user-related features and user-item affinity scores;\n",
    "- action_context: item-related context vectors"
   ]
  },
  {
   "cell_type": "code",
   "execution_count": 17,
   "id": "34f9485f",
   "metadata": {
    "id": "34f9485f",
    "tags": []
   },
   "outputs": [],
   "source": [
    "#Define replay model\n",
    "model_1 = UCB(exploration_coef =2.0, sample= False, seed= 123)\n",
    "model_2 = LinUCB(eps = 10.0, alpha = 1.0, regr_type = 'disjoint')\n",
    "model_3 = RandomRec(seed=42)\n",
    "\n",
    "#Define learner which connects OBP data format with replay\n",
    "learner_1 = OBPOfflinePolicyLearner(n_actions=dataset.n_actions,\n",
    "                                    replay_model=model_1,\n",
    "                                    len_list=dataset.len_list,) #len_list is the number of predicted items per user\n",
    "learner_2 = OBPOfflinePolicyLearner(n_actions=dataset.n_actions,\n",
    "                                    replay_model=model_2,\n",
    "                                    len_list=dataset.len_list,) #len_list is the number of predicted items per user\n",
    "\n",
    "learner_3 = OBPOfflinePolicyLearner(n_actions=dataset.n_actions,\n",
    "                                    replay_model=model_3,\n",
    "                                    len_list=dataset.len_list,)"
   ]
  },
  {
   "cell_type": "markdown",
   "id": "ff2a9a3e",
   "metadata": {
    "id": "ff2a9a3e"
   },
   "source": [
    "**RePlayOfflinePolicyLearner** has the following methods\n",
    "- *fit(action, reward, timestamp, context, action_context)*;\n",
    "- *predict(n_rounds, context)* (context can be None thus n_rounds is **required**);\n",
    "- *optimize(bandit_feedback, val_size, param_borders, criterion, budget, new_study)*"
   ]
  },
  {
   "cell_type": "code",
   "execution_count": 18,
   "id": "bae68bb5",
   "metadata": {},
   "outputs": [
    {
     "name": "stdout",
     "output_type": "stream",
     "text": [
      "+--------+--------+---------+-------------------+\n",
      "|user_idx|item_idx|relevance|          timestamp|\n",
      "+--------+--------+---------+-------------------+\n",
      "|     251|    2896|        1|2000-12-28 07:58:07|\n",
      "|     251|      30|        0|2000-12-28 07:58:02|\n",
      "|     251|    2623|        1|2000-12-28 07:51:02|\n",
      "+--------+--------+---------+-------------------+\n",
      "only showing top 3 rows\n",
      "\n"
     ]
    }
   ],
   "source": [
    "bandit_feedback_train['log'].show(3)"
   ]
  },
  {
   "cell_type": "code",
   "execution_count": 19,
   "id": "56181ad2",
   "metadata": {
    "id": "56181ad2",
    "outputId": "9c092915-f786-40b3-a26f-39c0b1b87c43",
    "tags": []
   },
   "outputs": [],
   "source": [
    "#Fit replay model inside our learner\n",
    "learner_1.fit(bandit_feedback_train)\n",
    "learner_2.fit(bandit_feedback_train)\n",
    "learner_3.fit(bandit_feedback_train)"
   ]
  },
  {
   "cell_type": "code",
   "execution_count": 20,
   "id": "dbf9bfa3-85ec-428d-a53a-79896339253f",
   "metadata": {
    "tags": []
   },
   "outputs": [],
   "source": [
    "estimated_rewards_by_reg_model = get_est_rewards_by_reg(dataset.n_actions,\n",
    "                                                        dataset.len_list,\n",
    "                                                        bandit_feedback_train,\n",
    "                                                        bandit_feedback_test)"
   ]
  },
  {
   "cell_type": "markdown",
   "id": "7ba6cfbe",
   "metadata": {
    "id": "7ba6cfbe"
   },
   "source": [
    "When we get distribution over actions - we can run any evaluation procedure from the OBP. Here we use three estimators\n",
    "- *IPW*: Average rewards with importance weights\n",
    "- *DM*: Average predicted rewards using the classifier\n",
    "- *DR*: Combination of the above methods with zero bias and lower variance\n",
    "\n",
    "Also, we can construct confidence intervals for each of these methods."
   ]
  },
  {
   "cell_type": "code",
   "execution_count": 21,
   "id": "60349507",
   "metadata": {},
   "outputs": [
    {
     "name": "stdout",
     "output_type": "stream",
     "text": [
      "+--------+--------+---------+-------------------+\n",
      "|user_idx|item_idx|relevance|          timestamp|\n",
      "+--------+--------+---------+-------------------+\n",
      "|      13|      18|        1|2001-07-23 00:29:36|\n",
      "|      81|      18|        1|2001-01-09 02:05:07|\n",
      "|     193|      18|        1|2003-01-04 02:35:48|\n",
      "|      72|      18|        1|2002-12-10 09:55:34|\n",
      "|      86|      18|        1|2001-03-13 22:06:12|\n",
      "|      24|      18|        1|2000-12-29 00:29:02|\n",
      "|      62|      18|        1|2002-07-02 05:20:55|\n",
      "|      12|      18|        1|2001-05-11 00:05:43|\n",
      "|      22|      18|        1|2001-06-21 14:57:07|\n",
      "|      76|      18|        1|2001-09-19 07:02:10|\n",
      "|      91|      18|        1|2001-07-01 01:21:20|\n",
      "|     206|      18|        1|2000-12-30 07:13:53|\n",
      "|     178|      18|        1|2001-01-27 05:28:25|\n",
      "|      66|      18|        1|2001-06-30 07:36:53|\n",
      "|     109|      46|        1|2002-06-28 01:28:02|\n",
      "|     175|      46|        1|2002-07-07 03:31:48|\n",
      "|     148|      46|        1|2002-04-27 19:58:41|\n",
      "|       8|      46|        0|2001-01-15 19:46:57|\n",
      "|      29|      46|        1|2002-05-31 22:38:14|\n",
      "|     125|      46|        1|2001-01-07 00:34:42|\n",
      "|     249|      46|        1|2001-06-24 03:30:24|\n",
      "|       4|     365|        1|2001-02-09 23:22:29|\n",
      "|      44|     365|        1|2001-01-19 08:16:53|\n",
      "|      94|     365|        1|2001-06-11 07:16:06|\n",
      "|       9|     365|        1|2001-01-12 22:00:55|\n",
      "|     239|     172|        0|2001-11-05 03:06:10|\n",
      "|       0|     172|        1|2002-03-01 07:03:30|\n",
      "|     105|     307|        1|2001-09-13 01:37:43|\n",
      "|      15|     307|        1|2002-07-18 21:54:05|\n",
      "|      14|     307|        1|2002-04-13 17:56:50|\n",
      "|     291|     186|        1|2002-03-23 02:15:31|\n",
      "|     114|     186|        1|2002-12-07 18:35:28|\n",
      "|      10|     186|        1|2000-12-29 07:59:10|\n",
      "|      11|    1229|        1|2000-12-30 18:33:01|\n",
      "|      75|     660|        0|2001-02-01 23:41:59|\n",
      "|     240|     660|        0|2002-03-14 00:41:27|\n",
      "|     122|     473|        1|2001-06-01 08:21:11|\n",
      "|      58|     282|        1|2001-02-08 07:07:44|\n",
      "|     192|    1035|        1|2002-01-19 21:21:53|\n",
      "|      16|    1035|        0|2000-12-31 06:05:24|\n",
      "|      37|      73|        1|2001-02-01 03:39:10|\n",
      "|     139|      73|        1|2001-07-05 21:22:44|\n",
      "|      51|     263|        1|2001-01-21 11:29:30|\n",
      "|       2|     471|        0|2002-02-19 01:27:01|\n",
      "|      87|     471|        0|2000-12-29 00:14:59|\n",
      "|       5|      38|        1|2001-01-02 06:13:05|\n",
      "|     108|      38|        1|2001-01-14 03:10:55|\n",
      "|     156|      38|        1|2001-06-27 00:09:55|\n",
      "|      27|      38|        1|2001-04-08 10:26:29|\n",
      "|      71|     603|        1|2003-01-07 21:11:33|\n",
      "|      21|     475|        0|2001-01-12 18:53:30|\n",
      "|     236|     475|        1|2001-01-06 23:50:54|\n",
      "|     169|    1683|        0|2001-05-05 23:55:38|\n",
      "|     154|     830|        0|2001-01-22 00:07:24|\n",
      "|     137|      54|        1|2001-01-09 02:18:58|\n",
      "|     107|      54|        1|2001-01-04 04:10:48|\n",
      "|      43|      40|        1|2001-02-01 00:12:51|\n",
      "|     190|      40|        1|2001-06-01 10:12:53|\n",
      "|       6|     529|        1|2000-12-28 09:26:05|\n",
      "|      25|     105|        1|2002-04-10 08:48:37|\n",
      "|     290|     105|        1|2001-01-03 03:56:09|\n",
      "|     217|     105|        0|2001-06-25 09:17:55|\n",
      "|      64|     874|        1|2000-12-30 11:06:48|\n",
      "|     168|     601|        1|2001-02-03 08:34:31|\n",
      "|      36|     601|        1|2001-01-14 00:58:19|\n",
      "|      31|     601|        1|2001-01-04 11:18:57|\n",
      "|     170|     601|        1|2001-02-16 21:18:52|\n",
      "|     221|     485|        1|2001-04-13 06:57:07|\n",
      "|     152|     485|        1|2001-01-25 01:11:13|\n",
      "|      68|     698|        1|2002-01-27 00:58:44|\n",
      "|     118|     698|        1|2001-11-05 22:31:28|\n",
      "|     171|     698|        1|2001-05-21 21:16:09|\n",
      "|      28|     153|        1|2002-10-11 20:53:02|\n",
      "|     265|      28|        1|2001-01-11 04:03:07|\n",
      "|     252|      77|        1|2000-12-29 03:12:32|\n",
      "|     235|      77|        1|2001-06-29 06:05:30|\n",
      "|     144|      58|        1|2001-08-23 02:06:32|\n",
      "|      53|      58|        0|2001-05-24 04:42:06|\n",
      "|     238|      58|        1|2001-01-13 02:18:21|\n",
      "|      92|     305|        1|2001-07-11 00:06:00|\n",
      "|     324|      24|        1|2001-07-01 06:52:39|\n",
      "|     115|      27|        1|2001-02-04 16:48:53|\n",
      "|     213|      27|        1|2001-08-12 11:16:45|\n",
      "|      42|      13|        1|2000-12-29 04:07:18|\n",
      "|     186|     364|        1|2001-01-21 03:20:14|\n",
      "|     272|     364|        1|2001-05-11 19:24:38|\n",
      "|     257|     120|        1|2001-06-12 09:52:21|\n",
      "|      90|     324|        1|2001-01-06 05:49:11|\n",
      "|     266|     345|        1|2001-01-02 07:32:55|\n",
      "|     305|    1552|        1|2001-03-04 20:27:53|\n",
      "|      52|     323|        1|2002-01-03 23:32:12|\n",
      "|     136|     621|        1|2001-01-06 23:47:50|\n",
      "|     326|     337|        1|2002-03-17 19:00:49|\n",
      "|      99|     671|        1|2001-09-05 23:12:20|\n",
      "|     329|      32|        1|2001-12-22 03:02:00|\n",
      "|      69|       8|        1|2001-02-02 01:33:55|\n",
      "|     281|     569|        1|2001-01-12 06:43:28|\n",
      "|      18|     309|        1|2001-01-05 00:31:13|\n",
      "|     143|     880|        1|2000-12-31 01:46:53|\n",
      "|      74|     616|        0|2001-02-13 03:30:29|\n",
      "+--------+--------+---------+-------------------+\n",
      "\n"
     ]
    }
   ],
   "source": [
    "bandit_feedback_test['log'].show(100)"
   ]
  },
  {
   "cell_type": "code",
   "execution_count": 22,
   "id": "b1c61250-5902-438f-815b-1703f869bff0",
   "metadata": {
    "tags": []
   },
   "outputs": [],
   "source": [
    "def get_dist(learner):\n",
    "    all_action_dist = np.zeros((bandit_feedback_test[\"n_rounds\"], dataset.n_actions, dataset.len_list))\n",
    "    batch_size = 300\n",
    "    num_batchs = bandit_feedback_test[\"n_rounds\"] // batch_size\n",
    "    for i in range(num_batchs+1):\n",
    "        j = min((i+1)*batch_size, bandit_feedback_test[\"n_rounds\"])\n",
    "        bandit_feedback_subset = bandit_subset([i*batch_size, j], bandit_feedback_test) #The first parameter is a slice of subset [a, b]\n",
    "        print(type(bandit_feedback_subset[\"log\"].select('user_idx')))\n",
    "        print(bandit_feedback_subset[\"log\"].select('user_idx').count())\n",
    "        action_dist = learner.predict(bandit_feedback_subset[\"n_rounds\"], bandit_feedback_subset[\"log\"].select('user_idx'))\n",
    "        all_action_dist[i*batch_size:j, :, :] = action_dist\n",
    "    return all_action_dist"
   ]
  },
  {
   "cell_type": "code",
   "execution_count": 25,
   "id": "88269ba1-a4b0-4aab-97a3-ad4329c9e9d4",
   "metadata": {
    "tags": []
   },
   "outputs": [
    {
     "name": "stdout",
     "output_type": "stream",
     "text": [
      "<class 'pyspark.sql.dataframe.DataFrame'>\n",
      "100\n",
      "0.516777753829956\n",
      "<class 'pyspark.sql.dataframe.DataFrame'>\n",
      "100\n",
      "+--------+--------+-----------------+-------------------+\n",
      "|user_idx|item_idx|        relevance|      Softmax_Score|\n",
      "+--------+--------+-----------------+-------------------+\n",
      "|      18|    3131|17.32050807568877|0.05000000000000002|\n",
      "|      18|    3132|17.32050807568877|0.05000000000000002|\n",
      "|      18|    3141|17.32050807568877|0.05000000000000002|\n",
      "|      18|    3127|17.32050807568877|0.05000000000000002|\n",
      "|      18|    3158|17.32050807568877|0.05000000000000002|\n",
      "|      18|    3144|17.32050807568877|0.05000000000000002|\n",
      "|      18|    3145|17.32050807568877|0.05000000000000002|\n",
      "|      18|    3146|17.32050807568877|0.05000000000000002|\n",
      "|      18|    3147|17.32050807568877|0.05000000000000002|\n",
      "|      18|    3148|17.32050807568877|0.05000000000000002|\n",
      "|      18|    3149|17.32050807568877|0.05000000000000002|\n",
      "|      18|    3150|17.32050807568877|0.05000000000000002|\n",
      "|      18|    3151|17.32050807568877|0.05000000000000002|\n",
      "|      18|    3152|17.32050807568877|0.05000000000000002|\n",
      "|      18|    3153|17.32050807568877|0.05000000000000002|\n",
      "|      18|    3154|17.32050807568877|0.05000000000000002|\n",
      "|      18|    3155|17.32050807568877|0.05000000000000002|\n",
      "|      18|    3156|17.32050807568877|0.05000000000000002|\n",
      "|      18|    3157|17.32050807568877|0.05000000000000002|\n",
      "|      18|    3882|17.32050807568877|0.05000000000000002|\n",
      "|     186|    3123|17.32050807568877|0.05000000000000002|\n",
      "|     186|    3124|17.32050807568877|0.05000000000000002|\n",
      "|     186|    3133|17.32050807568877|0.05000000000000002|\n",
      "|     186|    3119|17.32050807568877|0.05000000000000002|\n",
      "|     186|    3150|17.32050807568877|0.05000000000000002|\n",
      "|     186|    3136|17.32050807568877|0.05000000000000002|\n",
      "|     186|    3137|17.32050807568877|0.05000000000000002|\n",
      "|     186|    3138|17.32050807568877|0.05000000000000002|\n",
      "|     186|    3139|17.32050807568877|0.05000000000000002|\n",
      "|     186|    3140|17.32050807568877|0.05000000000000002|\n",
      "|     186|    3141|17.32050807568877|0.05000000000000002|\n",
      "|     186|    3142|17.32050807568877|0.05000000000000002|\n",
      "|     186|    3143|17.32050807568877|0.05000000000000002|\n",
      "|     186|    3144|17.32050807568877|0.05000000000000002|\n",
      "|     186|    3145|17.32050807568877|0.05000000000000002|\n",
      "|     186|    3146|17.32050807568877|0.05000000000000002|\n",
      "|     186|    3147|17.32050807568877|0.05000000000000002|\n",
      "|     186|    3148|17.32050807568877|0.05000000000000002|\n",
      "|     186|    3149|17.32050807568877|0.05000000000000002|\n",
      "|     186|    3882|17.32050807568877|0.05000000000000002|\n",
      "|      99|    2859|17.32050807568877|0.05000000000000002|\n",
      "|      99|    2860|17.32050807568877|0.05000000000000002|\n",
      "|      99|    2856|17.32050807568877|0.05000000000000002|\n",
      "|      99|    2862|17.32050807568877|0.05000000000000002|\n",
      "|      99|    2854|17.32050807568877|0.05000000000000002|\n",
      "|      99|    2864|17.32050807568877|0.05000000000000002|\n",
      "|      99|    1390|17.32050807568877|0.05000000000000002|\n",
      "|      99|    2857|17.32050807568877|0.05000000000000002|\n",
      "|      99|    1386|17.32050807568877|0.05000000000000002|\n",
      "|      99|    2855|17.32050807568877|0.05000000000000002|\n",
      "|      99|    2845|17.32050807568877|0.05000000000000002|\n",
      "|      99|    2853|17.32050807568877|0.05000000000000002|\n",
      "|      99|    2852|17.32050807568877|0.05000000000000002|\n",
      "|      99|    2851|17.32050807568877|0.05000000000000002|\n",
      "|      99|    2850|17.32050807568877|0.05000000000000002|\n",
      "|      99|    2849|17.32050807568877|0.05000000000000002|\n",
      "|      99|    2848|17.32050807568877|0.05000000000000002|\n",
      "|      99|    2847|17.32050807568877|0.05000000000000002|\n",
      "|      99|    2846|17.32050807568877|0.05000000000000002|\n",
      "|      99|    3882|17.32050807568877|0.05000000000000002|\n",
      "|     105|    2911|17.32050807568877|0.05000000000000002|\n",
      "|     105|    2909|17.32050807568877|0.05000000000000002|\n",
      "|     105|    2910|17.32050807568877|0.05000000000000002|\n",
      "|     105|    2907|17.32050807568877|0.05000000000000002|\n",
      "|     105|    2912|17.32050807568877|0.05000000000000002|\n",
      "|     105|    2906|17.32050807568877|0.05000000000000002|\n",
      "|     105|    2914|17.32050807568877|0.05000000000000002|\n",
      "|     105|    2916|17.32050807568877|0.05000000000000002|\n",
      "|     105|    2908|17.32050807568877|0.05000000000000002|\n",
      "|     105|    2917|17.32050807568877|0.05000000000000002|\n",
      "|     105|    2897|17.32050807568877|0.05000000000000002|\n",
      "|     105|    2905|17.32050807568877|0.05000000000000002|\n",
      "|     105|    2904|17.32050807568877|0.05000000000000002|\n",
      "|     105|    2903|17.32050807568877|0.05000000000000002|\n",
      "|     105|    2902|17.32050807568877|0.05000000000000002|\n",
      "|     105|    2901|17.32050807568877|0.05000000000000002|\n",
      "|     105|    1563|17.32050807568877|0.05000000000000002|\n",
      "|     105|    2899|17.32050807568877|0.05000000000000002|\n",
      "|     105|    2898|17.32050807568877|0.05000000000000002|\n",
      "|     105|    3882|17.32050807568877|0.05000000000000002|\n",
      "|      28|    3115|17.32050807568877|0.05000000000000002|\n",
      "|      28|    3124|17.32050807568877|0.05000000000000002|\n",
      "|      28|    3110|17.32050807568877|0.05000000000000002|\n",
      "|      28|    3126|17.32050807568877|0.05000000000000002|\n",
      "|      28|    3142|17.32050807568877|0.05000000000000002|\n",
      "|      28|    3128|17.32050807568877|0.05000000000000002|\n",
      "|      28|    3129|17.32050807568877|0.05000000000000002|\n",
      "|      28|    3130|17.32050807568877|0.05000000000000002|\n",
      "|      28|    3131|17.32050807568877|0.05000000000000002|\n",
      "|      28|    3132|17.32050807568877|0.05000000000000002|\n",
      "|      28|    3133|17.32050807568877|0.05000000000000002|\n",
      "|      28|    3134|17.32050807568877|0.05000000000000002|\n",
      "|      28|    3135|17.32050807568877|0.05000000000000002|\n",
      "|      28|    3136|17.32050807568877|0.05000000000000002|\n",
      "|      28|    3137|17.32050807568877|0.05000000000000002|\n",
      "|      28|    3138|17.32050807568877|0.05000000000000002|\n",
      "|      28|    3139|17.32050807568877|0.05000000000000002|\n",
      "|      28|    3140|17.32050807568877|0.05000000000000002|\n",
      "|      28|    3141|17.32050807568877|0.05000000000000002|\n",
      "|      28|    3882|17.32050807568877|0.05000000000000002|\n",
      "+--------+--------+-----------------+-------------------+\n",
      "only showing top 100 rows\n",
      "\n",
      "[18, 186, 99, 105, 28, 58, 305, 21, 24, 27, 66, 69, 170, 206, 13, 148, 62, 90, 108, 324, 137, 236, 115, 171, 190, 238, 9, 44, 53, 74, 94, 114, 266, 92, 11, 240, 14, 25, 6, 29, 42, 68, 175, 192, 249, 76, 144, 156, 8, 87, 178, 37, 265, 15, 152, 252, 4, 5, 22, 239, 75, 291, 12, 51, 64, 86, 168, 169, 91, 257, 326, 136, 31, 36, 118, 0, 139, 272, 329, 52, 107, 109, 221, 16, 71, 81, 125, 213, 2, 10, 143, 154, 217, 281, 290, 43, 72, 122, 193, 235]\n",
      "[13, 81, 193, 72, 86, 24, 62, 12, 22, 76, 91, 206, 178, 66, 109, 175, 148, 8, 29, 125, 249, 4, 44, 94, 9, 239, 0, 105, 15, 14, 291, 114, 10, 11, 75, 240, 122, 58, 192, 16, 37, 139, 51, 2, 87, 5, 108, 156, 27, 71, 21, 236, 169, 154, 137, 107, 43, 190, 6, 25, 290, 217, 64, 168, 36, 31, 170, 221, 152, 68, 118, 171, 28, 265, 252, 235, 144, 53, 238, 92, 324, 115, 213, 42, 186, 272, 257, 90, 266, 305, 52, 136, 326, 99, 329, 69, 281, 18, 143, 74]\n",
      "+--------+--------+-----------------+-------------------+\n",
      "|user_idx|item_idx|        relevance|      Softmax_Score|\n",
      "+--------+--------+-----------------+-------------------+\n",
      "|      18|    3131|17.32050807568877|0.05000000000000002|\n",
      "|      18|    3132|17.32050807568877|0.05000000000000002|\n",
      "|      18|    3141|17.32050807568877|0.05000000000000002|\n",
      "|      18|    3127|17.32050807568877|0.05000000000000002|\n",
      "|      18|    3158|17.32050807568877|0.05000000000000002|\n",
      "|      18|    3144|17.32050807568877|0.05000000000000002|\n",
      "|      18|    3145|17.32050807568877|0.05000000000000002|\n",
      "|      18|    3146|17.32050807568877|0.05000000000000002|\n",
      "|      18|    3147|17.32050807568877|0.05000000000000002|\n",
      "|      18|    3148|17.32050807568877|0.05000000000000002|\n",
      "|      18|    3149|17.32050807568877|0.05000000000000002|\n",
      "|      18|    3150|17.32050807568877|0.05000000000000002|\n",
      "|      18|    3151|17.32050807568877|0.05000000000000002|\n",
      "|      18|    3152|17.32050807568877|0.05000000000000002|\n",
      "|      18|    3153|17.32050807568877|0.05000000000000002|\n",
      "|      18|    3154|17.32050807568877|0.05000000000000002|\n",
      "|      18|    3155|17.32050807568877|0.05000000000000002|\n",
      "|      18|    3156|17.32050807568877|0.05000000000000002|\n",
      "|      18|    3157|17.32050807568877|0.05000000000000002|\n",
      "|      18|    3882|17.32050807568877|0.05000000000000002|\n",
      "|     186|    3123|17.32050807568877|0.05000000000000002|\n",
      "|     186|    3124|17.32050807568877|0.05000000000000002|\n",
      "|     186|    3133|17.32050807568877|0.05000000000000002|\n",
      "|     186|    3119|17.32050807568877|0.05000000000000002|\n",
      "|     186|    3150|17.32050807568877|0.05000000000000002|\n",
      "|     186|    3136|17.32050807568877|0.05000000000000002|\n",
      "|     186|    3137|17.32050807568877|0.05000000000000002|\n",
      "|     186|    3138|17.32050807568877|0.05000000000000002|\n",
      "|     186|    3139|17.32050807568877|0.05000000000000002|\n",
      "|     186|    3140|17.32050807568877|0.05000000000000002|\n",
      "|     186|    3141|17.32050807568877|0.05000000000000002|\n",
      "|     186|    3142|17.32050807568877|0.05000000000000002|\n",
      "|     186|    3143|17.32050807568877|0.05000000000000002|\n",
      "|     186|    3144|17.32050807568877|0.05000000000000002|\n",
      "|     186|    3145|17.32050807568877|0.05000000000000002|\n",
      "|     186|    3146|17.32050807568877|0.05000000000000002|\n",
      "|     186|    3147|17.32050807568877|0.05000000000000002|\n",
      "|     186|    3148|17.32050807568877|0.05000000000000002|\n",
      "|     186|    3149|17.32050807568877|0.05000000000000002|\n",
      "|     186|    3882|17.32050807568877|0.05000000000000002|\n",
      "|      99|    2859|17.32050807568877|0.05000000000000002|\n",
      "|      99|    2860|17.32050807568877|0.05000000000000002|\n",
      "|      99|    2856|17.32050807568877|0.05000000000000002|\n",
      "|      99|    2862|17.32050807568877|0.05000000000000002|\n",
      "|      99|    2854|17.32050807568877|0.05000000000000002|\n",
      "|      99|    2864|17.32050807568877|0.05000000000000002|\n",
      "|      99|    1390|17.32050807568877|0.05000000000000002|\n",
      "|      99|    2857|17.32050807568877|0.05000000000000002|\n",
      "|      99|    1386|17.32050807568877|0.05000000000000002|\n",
      "|      99|    2855|17.32050807568877|0.05000000000000002|\n",
      "|      99|    2845|17.32050807568877|0.05000000000000002|\n",
      "|      99|    2853|17.32050807568877|0.05000000000000002|\n",
      "|      99|    2852|17.32050807568877|0.05000000000000002|\n",
      "|      99|    2851|17.32050807568877|0.05000000000000002|\n",
      "|      99|    2850|17.32050807568877|0.05000000000000002|\n",
      "|      99|    2849|17.32050807568877|0.05000000000000002|\n",
      "|      99|    2848|17.32050807568877|0.05000000000000002|\n",
      "|      99|    2847|17.32050807568877|0.05000000000000002|\n",
      "|      99|    2846|17.32050807568877|0.05000000000000002|\n",
      "|      99|    3882|17.32050807568877|0.05000000000000002|\n",
      "|     105|    2911|17.32050807568877|0.05000000000000002|\n",
      "|     105|    2909|17.32050807568877|0.05000000000000002|\n",
      "|     105|    2910|17.32050807568877|0.05000000000000002|\n",
      "|     105|    2907|17.32050807568877|0.05000000000000002|\n",
      "|     105|    2912|17.32050807568877|0.05000000000000002|\n",
      "|     105|    2906|17.32050807568877|0.05000000000000002|\n",
      "|     105|    2914|17.32050807568877|0.05000000000000002|\n",
      "|     105|    2916|17.32050807568877|0.05000000000000002|\n",
      "|     105|    2908|17.32050807568877|0.05000000000000002|\n",
      "|     105|    2917|17.32050807568877|0.05000000000000002|\n",
      "|     105|    2897|17.32050807568877|0.05000000000000002|\n",
      "|     105|    2905|17.32050807568877|0.05000000000000002|\n",
      "|     105|    2904|17.32050807568877|0.05000000000000002|\n",
      "|     105|    2903|17.32050807568877|0.05000000000000002|\n",
      "|     105|    2902|17.32050807568877|0.05000000000000002|\n",
      "|     105|    2901|17.32050807568877|0.05000000000000002|\n",
      "|     105|    1563|17.32050807568877|0.05000000000000002|\n",
      "|     105|    2899|17.32050807568877|0.05000000000000002|\n",
      "|     105|    2898|17.32050807568877|0.05000000000000002|\n",
      "|     105|    3882|17.32050807568877|0.05000000000000002|\n",
      "|      28|    3115|17.32050807568877|0.05000000000000002|\n",
      "|      28|    3124|17.32050807568877|0.05000000000000002|\n",
      "|      28|    3110|17.32050807568877|0.05000000000000002|\n",
      "|      28|    3126|17.32050807568877|0.05000000000000002|\n",
      "|      28|    3142|17.32050807568877|0.05000000000000002|\n",
      "|      28|    3128|17.32050807568877|0.05000000000000002|\n",
      "|      28|    3129|17.32050807568877|0.05000000000000002|\n",
      "|      28|    3130|17.32050807568877|0.05000000000000002|\n",
      "|      28|    3131|17.32050807568877|0.05000000000000002|\n",
      "|      28|    3132|17.32050807568877|0.05000000000000002|\n",
      "|      28|    3133|17.32050807568877|0.05000000000000002|\n",
      "|      28|    3134|17.32050807568877|0.05000000000000002|\n",
      "|      28|    3135|17.32050807568877|0.05000000000000002|\n",
      "|      28|    3136|17.32050807568877|0.05000000000000002|\n",
      "|      28|    3137|17.32050807568877|0.05000000000000002|\n",
      "|      28|    3138|17.32050807568877|0.05000000000000002|\n",
      "|      28|    3139|17.32050807568877|0.05000000000000002|\n",
      "|      28|    3140|17.32050807568877|0.05000000000000002|\n",
      "|      28|    3141|17.32050807568877|0.05000000000000002|\n",
      "|      28|    3882|17.32050807568877|0.05000000000000002|\n",
      "+--------+--------+-----------------+-------------------+\n",
      "only showing top 100 rows\n",
      "\n",
      "[97, 97, 97, 97, 97, 97, 97, 97, 97, 97, 97, 97, 97, 97, 97, 97, 97, 97, 97, 97, 84, 84, 84, 84, 84, 84, 84, 84, 84, 84, 84, 84, 84, 84, 84, 84, 84, 84, 84, 84, 93, 93, 93, 93, 93, 93, 93, 93, 93, 93, 93, 93, 93, 93, 93, 93, 93, 93, 93, 93, 27, 27, 27, 27, 27, 27, 27, 27, 27, 27, 27, 27, 27, 27, 27, 27, 27, 27, 27, 27, 72, 72, 72, 72, 72, 72, 72, 72, 72, 72, 72, 72, 72, 72, 72, 72, 72, 72, 72, 72, 37, 37, 37, 37, 37, 37, 37, 37, 37, 37, 37, 37, 37, 37, 37, 37, 37, 37, 37, 37, 89, 89, 89, 89, 89, 89, 89, 89, 89, 89, 89, 89, 89, 89, 89, 89, 89, 89, 89, 89, 50, 50, 50, 50, 50, 50, 50, 50, 50, 50, 50, 50, 50, 50, 50, 50, 50, 50, 50, 50, 5, 5, 5, 5, 5, 5, 5, 5, 5, 5, 5, 5, 5, 5, 5, 5, 5, 5, 5, 5, 48, 48, 48, 48, 48, 48, 48, 48, 48, 48, 48, 48, 48, 48, 48, 48, 48, 48, 48, 48, 13, 13, 13, 13, 13, 13, 13, 13, 13, 13, 13, 13, 13, 13, 13, 13, 13, 13, 13, 13, 95, 95, 95, 95, 95, 95, 95, 95, 95, 95, 95, 95, 95, 95, 95, 95, 95, 95, 95, 95, 66, 66, 66, 66, 66, 66, 66, 66, 66, 66, 66, 66, 66, 66, 66, 66, 66, 66, 66, 66, 11, 11, 11, 11, 11, 11, 11, 11, 11, 11, 11, 11, 11, 11, 11, 11, 11, 11, 11, 11, 0, 0, 0, 0, 0, 0, 0, 0, 0, 0, 0, 0, 0, 0, 0, 0, 0, 0, 0, 0, 16, 16, 16, 16, 16, 16, 16, 16, 16, 16, 16, 16, 16, 16, 16, 16, 16, 16, 16, 16, 6, 6, 6, 6, 6, 6, 6, 6, 6, 6, 6, 6, 6, 6, 6, 6, 6, 6, 6, 6, 87, 87, 87, 87, 87, 87, 87, 87, 87, 87, 87, 87, 87, 87, 87, 87, 87, 87, 87, 87, 46, 46, 46, 46, 46, 46, 46, 46, 46, 46, 46, 46, 46, 46, 46, 46, 46, 46, 46, 46, 80, 80, 80, 80, 80, 80, 80, 80, 80, 80, 80, 80, 80, 80, 80, 80, 80, 80, 80, 80, 54, 54, 54, 54, 54, 54, 54, 54, 54, 54, 54, 54, 54, 54, 54, 54, 54, 54, 54, 54, 51, 51, 51, 51, 51, 51, 51, 51, 51, 51, 51, 51, 51, 51, 51, 51, 51, 51, 51, 51, 81, 81, 81, 81, 81, 81, 81, 81, 81, 81, 81, 81, 81, 81, 81, 81, 81, 81, 81, 81, 71, 71, 71, 71, 71, 71, 71, 71, 71, 71, 71, 71, 71, 71, 71, 71, 71, 71, 71, 71, 57, 57, 57, 57, 57, 57, 57, 57, 57, 57, 57, 57, 57, 57, 57, 57, 57, 57, 57, 57, 78, 78, 78, 78, 78, 78, 78, 78, 78, 78, 78, 78, 78, 78, 78, 78, 78, 78, 78, 78, 24, 24, 24, 24, 24, 24, 24, 24, 24, 24, 24, 24, 24, 24, 24, 24, 24, 24, 24, 24, 22, 22, 22, 22, 22, 22, 22, 22, 22, 22, 22, 22, 22, 22, 22, 22, 22, 22, 22, 22, 77, 77, 77, 77, 77, 77, 77, 77, 77, 77, 77, 77, 77, 77, 77, 77, 77, 77, 77, 77, 99, 99, 99, 99, 99, 99, 99, 99, 99, 99, 99, 99, 99, 99, 99, 99, 99, 99, 99, 99, 23, 23, 23, 23, 23, 23, 23, 23, 23, 23, 23, 23, 23, 23, 23, 23, 23, 23, 23, 23, 31, 31, 31, 31, 31, 31, 31, 31, 31, 31, 31, 31, 31, 31, 31, 31, 31, 31, 31, 31, 88, 88, 88, 88, 88, 88, 88, 88, 88, 88, 88, 88, 88, 88, 88, 88, 88, 88, 88, 88, 79, 79, 79, 79, 79, 79, 79, 79, 79, 79, 79, 79, 79, 79, 79, 79, 79, 79, 79, 79, 33, 33, 33, 33, 33, 33, 33, 33, 33, 33, 33, 33, 33, 33, 33, 33, 33, 33, 33, 33, 35, 35, 35, 35, 35, 35, 35, 35, 35, 35, 35, 35, 35, 35, 35, 35, 35, 35, 35, 35, 29, 29, 29, 29, 29, 29, 29, 29, 29, 29, 29, 29, 29, 29, 29, 29, 29, 29, 29, 29, 59, 59, 59, 59, 59, 59, 59, 59, 59, 59, 59, 59, 59, 59, 59, 59, 59, 59, 59, 59, 58, 58, 58, 58, 58, 58, 58, 58, 58, 58, 58, 58, 58, 58, 58, 58, 58, 58, 58, 58, 18, 18, 18, 18, 18, 18, 18, 18, 18, 18, 18, 18, 18, 18, 18, 18, 18, 18, 18, 18, 83, 83, 83, 83, 83, 83, 83, 83, 83, 83, 83, 83, 83, 83, 83, 83, 83, 83, 83, 83, 69, 69, 69, 69, 69, 69, 69, 69, 69, 69, 69, 69, 69, 69, 69, 69, 69, 69, 69, 69, 15, 15, 15, 15, 15, 15, 15, 15, 15, 15, 15, 15, 15, 15, 15, 15, 15, 15, 15, 15, 38, 38, 38, 38, 38, 38, 38, 38, 38, 38, 38, 38, 38, 38, 38, 38, 38, 38, 38, 38, 20, 20, 20, 20, 20, 20, 20, 20, 20, 20, 20, 20, 20, 20, 20, 20, 20, 20, 20, 20, 9, 9, 9, 9, 9, 9, 9, 9, 9, 9, 9, 9, 9, 9, 9, 9, 9, 9, 9, 9, 76, 76, 76, 76, 76, 76, 76, 76, 76, 76, 76, 76, 76, 76, 76, 76, 76, 76, 76, 76, 47, 47, 47, 47, 47, 47, 47, 47, 47, 47, 47, 47, 47, 47, 47, 47, 47, 47, 47, 47, 17, 17, 17, 17, 17, 17, 17, 17, 17, 17, 17, 17, 17, 17, 17, 17, 17, 17, 17, 17, 44, 44, 44, 44, 44, 44, 44, 44, 44, 44, 44, 44, 44, 44, 44, 44, 44, 44, 44, 44, 12, 12, 12, 12, 12, 12, 12, 12, 12, 12, 12, 12, 12, 12, 12, 12, 12, 12, 12, 12, 40, 40, 40, 40, 40, 40, 40, 40, 40, 40, 40, 40, 40, 40, 40, 40, 40, 40, 40, 40, 73, 73, 73, 73, 73, 73, 73, 73, 73, 73, 73, 73, 73, 73, 73, 73, 73, 73, 73, 73, 28, 28, 28, 28, 28, 28, 28, 28, 28, 28, 28, 28, 28, 28, 28, 28, 28, 28, 28, 28, 68, 68, 68, 68, 68, 68, 68, 68, 68, 68, 68, 68, 68, 68, 68, 68, 68, 68, 68, 68, 74, 74, 74, 74, 74, 74, 74, 74, 74, 74, 74, 74, 74, 74, 74, 74, 74, 74, 74, 74, 21, 21, 21, 21, 21, 21, 21, 21, 21, 21, 21, 21, 21, 21, 21, 21, 21, 21, 21, 21, 45, 45, 45, 45, 45, 45, 45, 45, 45, 45, 45, 45, 45, 45, 45, 45, 45, 45, 45, 45, 8, 8, 8, 8, 8, 8, 8, 8, 8, 8, 8, 8, 8, 8, 8, 8, 8, 8, 8, 8, 25, 25, 25, 25, 25, 25, 25, 25, 25, 25, 25, 25, 25, 25, 25, 25, 25, 25, 25, 25, 34, 34, 34, 34, 34, 34, 34, 34, 34, 34, 34, 34, 34, 34, 34, 34, 34, 34, 34, 34, 30, 30, 30, 30, 30, 30, 30, 30, 30, 30, 30, 30, 30, 30, 30, 30, 30, 30, 30, 30, 7, 7, 7, 7, 7, 7, 7, 7, 7, 7, 7, 7, 7, 7, 7, 7, 7, 7, 7, 7, 42, 42, 42, 42, 42, 42, 42, 42, 42, 42, 42, 42, 42, 42, 42, 42, 42, 42, 42, 42, 62, 62, 62, 62, 62, 62, 62, 62, 62, 62, 62, 62, 62, 62, 62, 62, 62, 62, 62, 62, 4, 4, 4, 4, 4, 4, 4, 4, 4, 4, 4, 4, 4, 4, 4, 4, 4, 4, 4, 4, 63, 63, 63, 63, 63, 63, 63, 63, 63, 63, 63, 63, 63, 63, 63, 63, 63, 63, 63, 63, 52, 52, 52, 52, 52, 52, 52, 52, 52, 52, 52, 52, 52, 52, 52, 52, 52, 52, 52, 52, 10, 10, 10, 10, 10, 10, 10, 10, 10, 10, 10, 10, 10, 10, 10, 10, 10, 10, 10, 10, 86, 86, 86, 86, 86, 86, 86, 86, 86, 86, 86, 86, 86, 86, 86, 86, 86, 86, 86, 86, 92, 92, 92, 92, 92, 92, 92, 92, 92, 92, 92, 92, 92, 92, 92, 92, 92, 92, 92, 92, 91, 91, 91, 91, 91, 91, 91, 91, 91, 91, 91, 91, 91, 91, 91, 91, 91, 91, 91, 91, 65, 65, 65, 65, 65, 65, 65, 65, 65, 65, 65, 65, 65, 65, 65, 65, 65, 65, 65, 65, 64, 64, 64, 64, 64, 64, 64, 64, 64, 64, 64, 64, 64, 64, 64, 64, 64, 64, 64, 64, 70, 70, 70, 70, 70, 70, 70, 70, 70, 70, 70, 70, 70, 70, 70, 70, 70, 70, 70, 70, 26, 26, 26, 26, 26, 26, 26, 26, 26, 26, 26, 26, 26, 26, 26, 26, 26, 26, 26, 26, 41, 41, 41, 41, 41, 41, 41, 41, 41, 41, 41, 41, 41, 41, 41, 41, 41, 41, 41, 41, 85, 85, 85, 85, 85, 85, 85, 85, 85, 85, 85, 85, 85, 85, 85, 85, 85, 85, 85, 85, 94, 94, 94, 94, 94, 94, 94, 94, 94, 94, 94, 94, 94, 94, 94, 94, 94, 94, 94, 94, 90, 90, 90, 90, 90, 90, 90, 90, 90, 90, 90, 90, 90, 90, 90, 90, 90, 90, 90, 90, 55, 55, 55, 55, 55, 55, 55, 55, 55, 55, 55, 55, 55, 55, 55, 55, 55, 55, 55, 55, 14, 14, 14, 14, 14, 14, 14, 14, 14, 14, 14, 14, 14, 14, 14, 14, 14, 14, 14, 14, 67, 67, 67, 67, 67, 67, 67, 67, 67, 67, 67, 67, 67, 67, 67, 67, 67, 67, 67, 67, 39, 39, 39, 39, 39, 39, 39, 39, 39, 39, 39, 39, 39, 39, 39, 39, 39, 39, 39, 39, 49, 49, 49, 49, 49, 49, 49, 49, 49, 49, 49, 49, 49, 49, 49, 49, 49, 49, 49, 49, 1, 1, 1, 1, 1, 1, 1, 1, 1, 1, 1, 1, 1, 1, 1, 1, 1, 1, 1, 1, 19, 19, 19, 19, 19, 19, 19, 19, 19, 19, 19, 19, 19, 19, 19, 19, 19, 19, 19, 19, 82, 82, 82, 82, 82, 82, 82, 82, 82, 82, 82, 82, 82, 82, 82, 82, 82, 82, 82, 82, 43, 43, 43, 43, 43, 43, 43, 43, 43, 43, 43, 43, 43, 43, 43, 43, 43, 43, 43, 43, 32, 32, 32, 32, 32, 32, 32, 32, 32, 32, 32, 32, 32, 32, 32, 32, 32, 32, 32, 32, 98, 98, 98, 98, 98, 98, 98, 98, 98, 98, 98, 98, 98, 98, 98, 98, 98, 98, 98, 98, 53, 53, 53, 53, 53, 53, 53, 53, 53, 53, 53, 53, 53, 53, 53, 53, 53, 53, 53, 53, 61, 61, 61, 61, 61, 61, 61, 61, 61, 61, 61, 61, 61, 61, 61, 61, 61, 61, 61, 61, 96, 96, 96, 96, 96, 96, 96, 96, 96, 96, 96, 96, 96, 96, 96, 96, 96, 96, 96, 96, 60, 60, 60, 60, 60, 60, 60, 60, 60, 60, 60, 60, 60, 60, 60, 60, 60, 60, 60, 60, 56, 56, 56, 56, 56, 56, 56, 56, 56, 56, 56, 56, 56, 56, 56, 56, 56, 56, 56, 56, 3, 3, 3, 3, 3, 3, 3, 3, 3, 3, 3, 3, 3, 3, 3, 3, 3, 3, 3, 3, 36, 36, 36, 36, 36, 36, 36, 36, 36, 36, 36, 36, 36, 36, 36, 36, 36, 36, 36, 36, 2, 2, 2, 2, 2, 2, 2, 2, 2, 2, 2, 2, 2, 2, 2, 2, 2, 2, 2, 2, 75, 75, 75, 75, 75, 75, 75, 75, 75, 75, 75, 75, 75, 75, 75, 75, 75, 75, 75, 75]\n",
      "+--------+--------+-----------------+-------------------+-------+\n",
      "|user_idx|item_idx|        relevance|      Softmax_Score|new_idx|\n",
      "+--------+--------+-----------------+-------------------+-------+\n",
      "|      18|    3131|17.32050807568877|0.05000000000000002|     97|\n",
      "|      18|    3132|17.32050807568877|0.05000000000000002|     97|\n",
      "|      18|    3141|17.32050807568877|0.05000000000000002|     97|\n",
      "|      18|    3127|17.32050807568877|0.05000000000000002|     97|\n",
      "|      18|    3158|17.32050807568877|0.05000000000000002|     97|\n",
      "|      18|    3144|17.32050807568877|0.05000000000000002|     97|\n",
      "|      18|    3145|17.32050807568877|0.05000000000000002|     97|\n",
      "|      18|    3146|17.32050807568877|0.05000000000000002|     97|\n",
      "|      18|    3147|17.32050807568877|0.05000000000000002|     97|\n",
      "|      18|    3148|17.32050807568877|0.05000000000000002|     97|\n",
      "|      18|    3149|17.32050807568877|0.05000000000000002|     97|\n",
      "|      18|    3150|17.32050807568877|0.05000000000000002|     97|\n",
      "|      18|    3151|17.32050807568877|0.05000000000000002|     97|\n",
      "|      18|    3152|17.32050807568877|0.05000000000000002|     97|\n",
      "|      18|    3153|17.32050807568877|0.05000000000000002|     97|\n",
      "|      18|    3154|17.32050807568877|0.05000000000000002|     97|\n",
      "|      18|    3155|17.32050807568877|0.05000000000000002|     97|\n",
      "|      18|    3156|17.32050807568877|0.05000000000000002|     97|\n",
      "|      18|    3157|17.32050807568877|0.05000000000000002|     97|\n",
      "|      18|    3882|17.32050807568877|0.05000000000000002|     97|\n",
      "|     186|    3123|17.32050807568877|0.05000000000000002|     84|\n",
      "|     186|    3124|17.32050807568877|0.05000000000000002|     84|\n",
      "|     186|    3133|17.32050807568877|0.05000000000000002|     84|\n",
      "|     186|    3119|17.32050807568877|0.05000000000000002|     84|\n",
      "|     186|    3150|17.32050807568877|0.05000000000000002|     84|\n",
      "|     186|    3136|17.32050807568877|0.05000000000000002|     84|\n",
      "|     186|    3137|17.32050807568877|0.05000000000000002|     84|\n",
      "|     186|    3138|17.32050807568877|0.05000000000000002|     84|\n",
      "|     186|    3139|17.32050807568877|0.05000000000000002|     84|\n",
      "|     186|    3140|17.32050807568877|0.05000000000000002|     84|\n",
      "|     186|    3141|17.32050807568877|0.05000000000000002|     84|\n",
      "|     186|    3142|17.32050807568877|0.05000000000000002|     84|\n",
      "|     186|    3143|17.32050807568877|0.05000000000000002|     84|\n",
      "|     186|    3144|17.32050807568877|0.05000000000000002|     84|\n",
      "|     186|    3145|17.32050807568877|0.05000000000000002|     84|\n",
      "|     186|    3146|17.32050807568877|0.05000000000000002|     84|\n",
      "|     186|    3147|17.32050807568877|0.05000000000000002|     84|\n",
      "|     186|    3148|17.32050807568877|0.05000000000000002|     84|\n",
      "|     186|    3149|17.32050807568877|0.05000000000000002|     84|\n",
      "|     186|    3882|17.32050807568877|0.05000000000000002|     84|\n",
      "|      99|    2859|17.32050807568877|0.05000000000000002|     93|\n",
      "|      99|    2860|17.32050807568877|0.05000000000000002|     93|\n",
      "|      99|    2856|17.32050807568877|0.05000000000000002|     93|\n",
      "|      99|    2862|17.32050807568877|0.05000000000000002|     93|\n",
      "|      99|    2854|17.32050807568877|0.05000000000000002|     93|\n",
      "|      99|    2864|17.32050807568877|0.05000000000000002|     93|\n",
      "|      99|    1390|17.32050807568877|0.05000000000000002|     93|\n",
      "|      99|    2857|17.32050807568877|0.05000000000000002|     93|\n",
      "|      99|    1386|17.32050807568877|0.05000000000000002|     93|\n",
      "|      99|    2855|17.32050807568877|0.05000000000000002|     93|\n",
      "|      99|    2845|17.32050807568877|0.05000000000000002|     93|\n",
      "|      99|    2853|17.32050807568877|0.05000000000000002|     93|\n",
      "|      99|    2852|17.32050807568877|0.05000000000000002|     93|\n",
      "|      99|    2851|17.32050807568877|0.05000000000000002|     93|\n",
      "|      99|    2850|17.32050807568877|0.05000000000000002|     93|\n",
      "|      99|    2849|17.32050807568877|0.05000000000000002|     93|\n",
      "|      99|    2848|17.32050807568877|0.05000000000000002|     93|\n",
      "|      99|    2847|17.32050807568877|0.05000000000000002|     93|\n",
      "|      99|    2846|17.32050807568877|0.05000000000000002|     93|\n",
      "|      99|    3882|17.32050807568877|0.05000000000000002|     93|\n",
      "|     105|    2911|17.32050807568877|0.05000000000000002|     27|\n",
      "|     105|    2909|17.32050807568877|0.05000000000000002|     27|\n",
      "|     105|    2910|17.32050807568877|0.05000000000000002|     27|\n",
      "|     105|    2907|17.32050807568877|0.05000000000000002|     27|\n",
      "|     105|    2912|17.32050807568877|0.05000000000000002|     27|\n",
      "|     105|    2906|17.32050807568877|0.05000000000000002|     27|\n",
      "|     105|    2914|17.32050807568877|0.05000000000000002|     27|\n",
      "|     105|    2916|17.32050807568877|0.05000000000000002|     27|\n",
      "|     105|    2908|17.32050807568877|0.05000000000000002|     27|\n",
      "|     105|    2917|17.32050807568877|0.05000000000000002|     27|\n",
      "|     105|    2897|17.32050807568877|0.05000000000000002|     27|\n",
      "|     105|    2905|17.32050807568877|0.05000000000000002|     27|\n",
      "|     105|    2904|17.32050807568877|0.05000000000000002|     27|\n",
      "|     105|    2903|17.32050807568877|0.05000000000000002|     27|\n",
      "|     105|    2902|17.32050807568877|0.05000000000000002|     27|\n",
      "|     105|    2901|17.32050807568877|0.05000000000000002|     27|\n",
      "|     105|    1563|17.32050807568877|0.05000000000000002|     27|\n",
      "|     105|    2899|17.32050807568877|0.05000000000000002|     27|\n",
      "|     105|    2898|17.32050807568877|0.05000000000000002|     27|\n",
      "|     105|    3882|17.32050807568877|0.05000000000000002|     27|\n",
      "|      28|    3115|17.32050807568877|0.05000000000000002|     72|\n",
      "|      28|    3124|17.32050807568877|0.05000000000000002|     72|\n",
      "|      28|    3110|17.32050807568877|0.05000000000000002|     72|\n",
      "|      28|    3126|17.32050807568877|0.05000000000000002|     72|\n",
      "|      28|    3142|17.32050807568877|0.05000000000000002|     72|\n",
      "|      28|    3128|17.32050807568877|0.05000000000000002|     72|\n",
      "|      28|    3129|17.32050807568877|0.05000000000000002|     72|\n",
      "|      28|    3130|17.32050807568877|0.05000000000000002|     72|\n",
      "|      28|    3131|17.32050807568877|0.05000000000000002|     72|\n",
      "|      28|    3132|17.32050807568877|0.05000000000000002|     72|\n",
      "|      28|    3133|17.32050807568877|0.05000000000000002|     72|\n",
      "|      28|    3134|17.32050807568877|0.05000000000000002|     72|\n",
      "|      28|    3135|17.32050807568877|0.05000000000000002|     72|\n",
      "|      28|    3136|17.32050807568877|0.05000000000000002|     72|\n",
      "|      28|    3137|17.32050807568877|0.05000000000000002|     72|\n",
      "|      28|    3138|17.32050807568877|0.05000000000000002|     72|\n",
      "|      28|    3139|17.32050807568877|0.05000000000000002|     72|\n",
      "|      28|    3140|17.32050807568877|0.05000000000000002|     72|\n",
      "|      28|    3141|17.32050807568877|0.05000000000000002|     72|\n",
      "|      28|    3882|17.32050807568877|0.05000000000000002|     72|\n",
      "+--------+--------+-----------------+-------------------+-------+\n",
      "only showing top 100 rows\n",
      "\n",
      "3883\n",
      "0.5725417137145996\n",
      "<class 'pyspark.sql.dataframe.DataFrame'>\n",
      "100\n",
      "0.2916600704193115\n"
     ]
    },
    {
     "name": "stderr",
     "output_type": "stream",
     "text": [
      "/home/sudakovcom/Desktop/RePlayHDILab2024/replay/models/base_rec.py:1515: SparkCollectToMasterWarning: Prediction with sampling performs spark to pandas convertion to master node, this may lead to OOM exception for large item catalogue.\n",
      "  warnings.warn(\n"
     ]
    }
   ],
   "source": [
    "#Predict distribution over actions: shape (n_rounds, n_actions, len_list)\n",
    "import time\n",
    "start = time.time()\n",
    "learner_action_dist_1 = get_dist(learner_1)\n",
    "print(time.time() - start)\n",
    "\n",
    "start = time.time()\n",
    "learner_action_dist_2 = get_dist(learner_2)\n",
    "print(time.time() - start)\n",
    "\n",
    "start = time.time()\n",
    "learner_action_dist_3 = get_dist(learner_3)\n",
    "print(time.time() - start)"
   ]
  },
  {
   "cell_type": "code",
   "execution_count": 31,
   "id": "a270431c",
   "metadata": {
    "id": "a270431c",
    "tags": []
   },
   "outputs": [],
   "source": [
    "def run_exp(learner_action_dist):\n",
    "    Vs = []\n",
    "    CIs = []\n",
    "\n",
    "    # for n_size in [50000, 100000, 200000, 300000, bandit_feedback_test[\"n_rounds\"]]:\n",
    "    for n_size in [20, 40, 60, 80, bandit_feedback_test[\"n_rounds\"]]:\n",
    "        start = time.time()\n",
    "        bandit_feedback_subset = bandit_subset([0, n_size], bandit_feedback_test) #The first parameter is a slice of subset [a, b]\n",
    "\n",
    "        ope = OffPolicyEvaluation(\n",
    "            bandit_feedback=bandit_feedback_subset,\n",
    "            ope_estimators=[InverseProbabilityWeighting(), DirectMethod(), SelfNormalizedDoublyRobust(),\n",
    "                            SelfNormalizedInverseProbabilityWeighting(),]\n",
    "        )\n",
    "\n",
    "        estimated_rewards_by_reg_model_subset = estimated_rewards_by_reg_model[0: n_size, :, :]\n",
    "        \n",
    "        action_dist = learner_action_dist[:n_size, :, :]\n",
    "        estimated_policy_value = ope.estimate_policy_values(\n",
    "            action_dist=action_dist,\n",
    "            estimated_rewards_by_reg_model=estimated_rewards_by_reg_model_subset,\n",
    "        )\n",
    "\n",
    "        estimated_ci = ope.estimate_intervals(\n",
    "            action_dist=action_dist,\n",
    "            estimated_rewards_by_reg_model=estimated_rewards_by_reg_model_subset,\n",
    "            n_bootstrap_samples=10000,\n",
    "            random_state=12345,)\n",
    "        end = time.time()\n",
    "        print(\"n_size =\", n_size, \"time: \", end-start)\n",
    "        Vs.append(estimated_policy_value)\n",
    "        CIs.append(estimated_ci)\n",
    "    return(Vs, CIs)"
   ]
  },
  {
   "cell_type": "code",
   "execution_count": 32,
   "id": "00360e69-673f-4ec0-b390-eee2850789f4",
   "metadata": {
    "tags": []
   },
   "outputs": [
    {
     "name": "stdout",
     "output_type": "stream",
     "text": [
      "n_size = 20 time:  0.41500282287597656\n",
      "n_size = 40 time:  0.4192814826965332\n",
      "n_size = 60 time:  0.4185938835144043\n",
      "n_size = 80 time:  0.45458078384399414\n",
      "n_size = 100 time:  0.43559956550598145\n"
     ]
    }
   ],
   "source": [
    "Vs_1, CIs_1 = run_exp(learner_action_dist_1)"
   ]
  },
  {
   "cell_type": "code",
   "execution_count": 33,
   "id": "7b89b6c6-3517-4e25-a6a9-484b52756e0f",
   "metadata": {
    "tags": []
   },
   "outputs": [
    {
     "name": "stdout",
     "output_type": "stream",
     "text": [
      "n_size = 20 time:  0.4137287139892578\n",
      "n_size = 40 time:  0.4508476257324219\n",
      "n_size = 60 time:  0.4285409450531006\n",
      "n_size = 80 time:  0.4409198760986328\n",
      "n_size = 100 time:  0.44504714012145996\n"
     ]
    }
   ],
   "source": [
    "Vs_2, CIs_2 = run_exp(learner_action_dist_2)"
   ]
  },
  {
   "cell_type": "code",
   "execution_count": 34,
   "id": "1224274f-5417-4f4b-8ac4-4b3c37786a86",
   "metadata": {
    "tags": []
   },
   "outputs": [
    {
     "name": "stdout",
     "output_type": "stream",
     "text": [
      "n_size = 20 time:  0.42566347122192383\n",
      "n_size = 40 time:  0.4263603687286377\n",
      "n_size = 60 time:  0.4235422611236572\n",
      "n_size = 80 time:  0.451932430267334\n",
      "n_size = 100 time:  0.4488232135772705\n"
     ]
    }
   ],
   "source": [
    "Vs_3, CIs_3 = run_exp(learner_action_dist_3)"
   ]
  },
  {
   "cell_type": "code",
   "execution_count": 35,
   "id": "64fbb5bf-78af-4396-aacd-c436187b1032",
   "metadata": {
    "tags": []
   },
   "outputs": [],
   "source": [
    "import matplotlib.pyplot as plt\n",
    "def plot_disjoint_res(Vs, CIs, model): \n",
    "    fig, ax = plt.subplots(4, figsize=(10, 10))\n",
    "\n",
    "    # x = [50000, 100000, 200000, 300000, bandit_feedback_test[\"n_rounds\"]]\n",
    "    x = [20, 40, 60, 80, bandit_feedback_test[\"n_rounds\"]]\n",
    "    colors = ['b', 'r', 'g', 'y', 'k']\n",
    "    i = 0\n",
    "    for name in ['ipw', 'dm', 'sndr', 'snipw']:\n",
    "        y_est = [estimated_ci[name][\"mean\"] for estimated_ci in CIs]\n",
    "        y_up = [estimated_ci[name][\"95.0% CI (upper)\"] for estimated_ci in CIs]\n",
    "        y_low = [estimated_ci[name][\"95.0% CI (lower)\"] for estimated_ci in CIs]\n",
    "\n",
    "        ax[i].plot(x, y_est, '-', label=name, color = colors[i])\n",
    "        ax[i].fill_between(x, y_low, y_up, alpha=0.2, color = colors[i])\n",
    "        #ax.plot(x, y, 'o', color='tab:brown')\n",
    "        i=i+1\n",
    "    fig.suptitle(\"OPE for \" + model, fontsize=16)\n",
    "    fig.legend()"
   ]
  },
  {
   "cell_type": "code",
   "execution_count": 36,
   "id": "90f66b18-7d7e-4bee-aa3c-7a11155ad338",
   "metadata": {
    "tags": []
   },
   "outputs": [
    {
     "data": {
      "image/png": "[encoded data removed]",
      "text/plain": [
       "<Figure size 1000x1000 with 4 Axes>"
      ]
     },
     "metadata": {},
     "output_type": "display_data"
    }
   ],
   "source": [
    "plot_disjoint_res(Vs_1, CIs_1, 'UCB')"
   ]
  },
  {
   "cell_type": "code",
   "execution_count": 37,
   "id": "13e1fe76-fc12-412f-8cec-9b8ecdfccf62",
   "metadata": {
    "tags": []
   },
   "outputs": [
    {
     "data": {
      "image/png": "[encoded data removed]",
      "text/plain": [
       "<Figure size 1000x1000 with 4 Axes>"
      ]
     },
     "metadata": {},
     "output_type": "display_data"
    }
   ],
   "source": [
    "plot_disjoint_res(Vs_2, CIs_2, 'Lin_UCB')"
   ]
  },
  {
   "cell_type": "code",
   "execution_count": 38,
   "id": "135ff720-4b79-4e7e-84b4-5c0aa6348777",
   "metadata": {
    "tags": []
   },
   "outputs": [
    {
     "data": {
      "image/png": "[encoded data removed]",
      "text/plain": [
       "<Figure size 1000x1000 with 4 Axes>"
      ]
     },
     "metadata": {},
     "output_type": "display_data"
    }
   ],
   "source": [
    "plot_disjoint_res(Vs_3, CIs_3, 'Random')"
   ]
  },
  {
   "cell_type": "code",
   "execution_count": 39,
   "id": "055a8d26-a51b-49dd-ab08-0b133ba53ec7",
   "metadata": {
    "tags": []
   },
   "outputs": [
    {
     "name": "stdout",
     "output_type": "stream",
     "text": [
      "Scores for UCB true ipw : 0.000, dm : 861.434, sndr : nan, snipw : nan\n"
     ]
    }
   ],
   "source": [
    "out_str = f\"Scores for UCB true\"\n",
    "for key, val in Vs_1[-1].items():\n",
    "    out_str += f\" {key} : {(1e3 * val):.3f},\"\n",
    "out_str = out_str[:-1]\n",
    "print(out_str)"
   ]
  },
  {
   "cell_type": "code",
   "execution_count": 40,
   "id": "ff005b11-36f1-49fa-87c1-e16a13b4badc",
   "metadata": {
    "tags": []
   },
   "outputs": [
    {
     "name": "stdout",
     "output_type": "stream",
     "text": [
      "Scores for Lin_UCB true ipw : 0.000, dm : 848.265, sndr : nan, snipw : nan\n"
     ]
    }
   ],
   "source": [
    "out_str = f\"Scores for Lin_UCB true\"\n",
    "for key, val in Vs_2[-1].items():\n",
    "    out_str += f\" {key} : {(1e3 * val):.3f},\"\n",
    "out_str = out_str[:-1]\n",
    "print(out_str)"
   ]
  },
  {
   "cell_type": "code",
   "execution_count": 41,
   "id": "7c727b3a-32df-44bd-a870-448af570ed34",
   "metadata": {
    "tags": []
   },
   "outputs": [
    {
     "name": "stdout",
     "output_type": "stream",
     "text": [
      "Scores for random true ipw : 233.996, dm : 848.682, sndr : 815.188, snipw : 818.660\n"
     ]
    }
   ],
   "source": [
    "out_str = f\"Scores for random true\"\n",
    "for key, val in Vs_3[-1].items():\n",
    "    out_str += f\" {key} : {(1e3 * val):.3f},\"\n",
    "out_str = out_str[:-1]\n",
    "print(out_str)"
   ]
  },
  {
   "cell_type": "code",
   "execution_count": 42,
   "id": "6c66d1aa-0706-4ea7-ae38-bb4f7f42159f",
   "metadata": {
    "tags": []
   },
   "outputs": [
    {
     "name": "stdout",
     "output_type": "stream",
     "text": [
      "USB all\n",
      "[{'ipw': 0.0, 'dm': 0.8630288711969263, 'sndr': nan, 'snipw': nan}, {'ipw': 0.0, 'dm': 0.8567164981623355, 'sndr': nan, 'snipw': nan}, {'ipw': 0.0, 'dm': 0.8579815567475925, 'sndr': nan, 'snipw': nan}, {'ipw': 0.0, 'dm': 0.8592530477510675, 'sndr': nan, 'snipw': nan}, {'ipw': 0.0, 'dm': 0.8614335118550928, 'sndr': nan, 'snipw': nan}]\n"
     ]
    }
   ],
   "source": [
    "print(\"USB all\")\n",
    "print(Vs_1)"
   ]
  },
  {
   "cell_type": "code",
   "execution_count": 43,
   "id": "1583fae2-e044-4737-b3da-334fe0b62bef",
   "metadata": {
    "tags": []
   },
   "outputs": [
    {
     "name": "stdout",
     "output_type": "stream",
     "text": [
      "Lin USB all\n",
      "[{'ipw': 0.0, 'dm': 0.8494613894187871, 'sndr': nan, 'snipw': nan}, {'ipw': 0.0, 'dm': 0.843165456878048, 'sndr': nan, 'snipw': nan}, {'ipw': 0.0, 'dm': 0.8445097035414958, 'sndr': nan, 'snipw': nan}, {'ipw': 0.0, 'dm': 0.8459324535433315, 'sndr': nan, 'snipw': nan}, {'ipw': 0.0, 'dm': 0.8482650128706014, 'sndr': nan, 'snipw': nan}]\n"
     ]
    }
   ],
   "source": [
    "print(\"Lin USB all\")\n",
    "print(Vs_2)"
   ]
  },
  {
   "cell_type": "code",
   "execution_count": 44,
   "id": "ab6fd680-6aaf-4fec-a521-a476ed2e42d4",
   "metadata": {
    "tags": []
   },
   "outputs": [
    {
     "name": "stdout",
     "output_type": "stream",
     "text": [
      "Random all\n",
      "[{'ipw': 0.11492761579790356, 'dm': 0.8502604073871158, 'sndr': 0.9348960610516664, 'snipw': 0.9421402386927873}, {'ipw': 0.1927530539599887, 'dm': 0.8436075684739007, 'sndr': 0.8294499460754297, 'snipw': 0.8231957412609653}, {'ipw': 0.18161527167975153, 'dm': 0.8449677797949653, 'sndr': 0.7241362896983998, 'snipw': 0.7262591845077822}, {'ipw': 0.20995205974448963, 'dm': 0.8463338017351887, 'sndr': 0.7854558085607719, 'snipw': 0.7863956957821978}, {'ipw': 0.2339960116737965, 'dm': 0.848681827246503, 'sndr': 0.8151879180699558, 'snipw': 0.8186601332393846}]\n"
     ]
    }
   ],
   "source": [
    "print(\"Random all\")\n",
    "print(Vs_3)"
   ]
  },
  {
   "cell_type": "code",
   "execution_count": 45,
   "id": "39444c6c-8f1c-4833-9ec4-4b90c44aa59b",
   "metadata": {
    "tags": []
   },
   "outputs": [
    {
     "name": "stdout",
     "output_type": "stream",
     "text": [
      "Estimated confidence intervals UCB:\n",
      "                  ipw        dm  sndr  snipw\n",
      "mean              0.0  0.861422   NaN    NaN\n",
      "95.0% CI (lower)  0.0  0.851886   NaN    NaN\n",
      "95.0% CI (upper)  0.0  0.871169   NaN    NaN\n",
      "Estimated confidence intervals Lin UCB:\n",
      "                  ipw        dm  sndr  snipw\n",
      "mean              0.0  0.848251   NaN    NaN\n",
      "95.0% CI (lower)  0.0  0.838038   NaN    NaN\n",
      "95.0% CI (upper)  0.0  0.858698   NaN    NaN\n",
      "Estimated confidence intervals Random:\n",
      "                       ipw        dm      sndr     snipw\n",
      "mean              0.233768  0.848670  0.815293  0.817864\n",
      "95.0% CI (lower)  0.194522  0.838443  0.699603  0.680557\n",
      "95.0% CI (upper)  0.276270  0.859105  0.910747  0.966561\n"
     ]
    }
   ],
   "source": [
    "print(\"Estimated confidence intervals UCB:\")\n",
    "print(pd.DataFrame(CIs_1[-1]).to_string())\n",
    "print(\"Estimated confidence intervals Lin UCB:\")\n",
    "print(pd.DataFrame(CIs_2[-1]).to_string())\n",
    "print(\"Estimated confidence intervals Random:\")\n",
    "print(pd.DataFrame(CIs_3[-1]).to_string())"
   ]
  }
 ],
 "metadata": {
  "colab": {
   "provenance": []
  },
  "kernelspec": {
   "display_name": "Python 3 (ipykernel)",
   "language": "python",
   "name": "python3"
  },
  "language_info": {
   "codemirror_mode": {
    "name": "ipython",
    "version": 3
   },
   "file_extension": ".py",
   "mimetype": "text/x-python",
   "name": "python",
   "nbconvert_exporter": "python",
   "pygments_lexer": "ipython3",
   "version": "3.9.19"
  }
 },
 "nbformat": 4,
 "nbformat_minor": 5
}
