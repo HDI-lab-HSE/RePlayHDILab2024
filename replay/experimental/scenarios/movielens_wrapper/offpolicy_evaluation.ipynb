{
 "cells": [
  {
   "cell_type": "code",
   "execution_count": 1,
   "id": "73b428c1",
   "metadata": {
    "id": "73b428c1",
    "tags": []
   },
   "outputs": [],
   "source": [
    "%load_ext autoreload\n",
    "%autoreload 2"
   ]
  },
  {
   "cell_type": "code",
   "execution_count": 2,
   "id": "3f2ebbc6",
   "metadata": {
    "id": "3f2ebbc6",
    "tags": []
   },
   "outputs": [],
   "source": [
    "import warnings\n",
    "from optuna.exceptions import ExperimentalWarning\n",
    "warnings.filterwarnings(\"ignore\", category=UserWarning)\n",
    "warnings.filterwarnings(\"ignore\", category=ExperimentalWarning)\n",
    "warnings.filterwarnings(\"ignore\", category=FutureWarning)"
   ]
  },
  {
   "cell_type": "code",
   "execution_count": 3,
   "id": "95754d27",
   "metadata": {
    "id": "95754d27",
    "tags": []
   },
   "outputs": [
    {
     "data": {
      "text/html": [
       "<style type='text/css'>\n",
       ".datatable table.frame { margin-bottom: 0; }\n",
       ".datatable table.frame thead { border-bottom: none; }\n",
       ".datatable table.frame tr.coltypes td {  color: #FFFFFF;  line-height: 6px;  padding: 0 0.5em;}\n",
       ".datatable .bool    { background: #DDDD99; }\n",
       ".datatable .object  { background: #565656; }\n",
       ".datatable .int     { background: #5D9E5D; }\n",
       ".datatable .float   { background: #4040CC; }\n",
       ".datatable .str     { background: #CC4040; }\n",
       ".datatable .time    { background: #40CC40; }\n",
       ".datatable .row_index {  background: var(--jp-border-color3);  border-right: 1px solid var(--jp-border-color0);  color: var(--jp-ui-font-color3);  font-size: 9px;}\n",
       ".datatable .frame tbody td { text-align: left; }\n",
       ".datatable .frame tr.coltypes .row_index {  background: var(--jp-border-color0);}\n",
       ".datatable th:nth-child(2) { padding-left: 12px; }\n",
       ".datatable .hellipsis {  color: var(--jp-cell-editor-border-color);}\n",
       ".datatable .vellipsis {  background: var(--jp-layout-color0);  color: var(--jp-cell-editor-border-color);}\n",
       ".datatable .na {  color: var(--jp-cell-editor-border-color);  font-size: 80%;}\n",
       ".datatable .sp {  opacity: 0.25;}\n",
       ".datatable .footer { font-size: 9px; }\n",
       ".datatable .frame_dimensions {  background: var(--jp-border-color3);  border-top: 1px solid var(--jp-border-color0);  color: var(--jp-ui-font-color3);  display: inline-block;  opacity: 0.6;  padding: 1px 10px 1px 5px;}\n",
       "</style>\n"
      ],
      "text/plain": [
       "<IPython.core.display.HTML object>"
      ]
     },
     "metadata": {},
     "output_type": "display_data"
    },
    {
     "name": "stdout",
     "output_type": "stream",
     "text": [
      "'nlp' extra dependecy package 'gensim' isn't installed. Look at README.md in repo 'LightAutoML' for installation instructions.\n",
      "'nlp' extra dependecy package 'nltk' isn't installed. Look at README.md in repo 'LightAutoML' for installation instructions.\n",
      "'nlp' extra dependecy package 'transformers' isn't installed. Look at README.md in repo 'LightAutoML' for installation instructions.\n",
      "'nlp' extra dependecy package 'gensim' isn't installed. Look at README.md in repo 'LightAutoML' for installation instructions.\n",
      "'nlp' extra dependecy package 'nltk' isn't installed. Look at README.md in repo 'LightAutoML' for installation instructions.\n",
      "'nlp' extra dependecy package 'transformers' isn't installed. Look at README.md in repo 'LightAutoML' for installation instructions.\n"
     ]
    }
   ],
   "source": [
    "import numpy as np\n",
    "import pandas as pd\n",
    "import time\n",
    "from tqdm import tqdm\n",
    "import matplotlib.pyplot as plt\n",
    "import psutil\n",
    "\n",
    "\n",
    "# from pyspark.sql import SparkSession\n",
    "from replay.utils.session_handler import get_spark_session, State\n",
    "\n",
    "from replay.models import UCB, RandomRec, LinUCB, LinTS\n",
    "from replay.experimental.scenarios.movielens_wrapper.replay_offline import OBPOfflinePolicyLearner\n",
    "from replay.experimental.scenarios.movielens_wrapper.dataset import MovielensBanditDataset\n",
    "from replay.experimental.scenarios.movielens_wrapper.utils import get_est_rewards_by_reg, bandit_subset\n",
    "from replay.utils.spark_utils import convert2spark\n",
    "\n",
    "# from obp.policy import IPWLearner\n",
    "from obp.ope import (\n",
    "    OffPolicyEvaluation,\n",
    "    DirectMethod,\n",
    "    InverseProbabilityWeighting,\n",
    "    DoublyRobust,\n",
    "    SelfNormalizedInverseProbabilityWeighting,\n",
    "    SelfNormalizedDoublyRobust,\n",
    "    MarginalizedInverseProbabilityWeighting,\n",
    ")\n",
    "\n",
    "from modified_ips import Exp_Smooth_IPS_Min, Exp_Smooth_IPS_Max"
   ]
  },
  {
   "cell_type": "code",
   "execution_count": 4,
   "id": "9e42a85f",
   "metadata": {
    "id": "9e42a85f",
    "outputId": "60b7eed8-18ef-4706-e880-3526779241e0",
    "tags": []
   },
   "outputs": [
    {
     "name": "stderr",
     "output_type": "stream",
     "text": [
      "24/10/03 20:12:11 WARN Utils: Your hostname, hdilab-hdilabALIEN05 resolves to a loopback address: 127.0.1.1; using 172.21.136.110 instead (on interface enp3s0)\n",
      "24/10/03 20:12:11 WARN Utils: Set SPARK_LOCAL_IP if you need to bind to another address\n",
      "WARNING: An illegal reflective access operation has occurred\n",
      "WARNING: Illegal reflective access by org.apache.spark.unsafe.Platform (file:/home/hdilab/sudakovcom/.conda/lib/python3.9/site-packages/pyspark/jars/spark-unsafe_2.12-3.2.4.jar) to constructor java.nio.DirectByteBuffer(long,int)\n",
      "WARNING: Please consider reporting this to the maintainers of org.apache.spark.unsafe.Platform\n",
      "WARNING: Use --illegal-access=warn to enable warnings of further illegal reflective access operations\n",
      "WARNING: All illegal access operations will be denied in a future release\n",
      "Using Spark's default log4j profile: org/apache/spark/log4j-defaults.properties\n",
      "Setting default log level to \"WARN\".\n",
      "To adjust logging level use sc.setLogLevel(newLevel). For SparkR, use setLogLevel(newLevel).\n",
      "24/10/03 20:12:12 WARN NativeCodeLoader: Unable to load native-hadoop library for your platform... using builtin-java classes where applicable\n",
      "24/10/03 20:12:12 WARN SparkConf: Note that spark.local.dir will be overridden by the value set by the cluster manager (via SPARK_LOCAL_DIRS in mesos/standalone/kubernetes and LOCAL_DIRS in YARN).\n"
     ]
    }
   ],
   "source": [
    "spark = State(get_spark_session()).session\n",
    "spark.sparkContext.setLogLevel('ERROR')"
   ]
  },
  {
   "cell_type": "markdown",
   "id": "324b7d5b",
   "metadata": {
    "id": "324b7d5b"
   },
   "source": [
    "Lets define OpenBanditDataset class with random policy. For the purpose of demonstration we won't use the whole dataset but only subset of size 10000."
   ]
  },
  {
   "cell_type": "code",
   "execution_count": 5,
   "id": "ca63994c",
   "metadata": {},
   "outputs": [],
   "source": [
    "from rs_datasets import MovieLens\n",
    "\n",
    "data = MovieLens(\"1m\")"
   ]
  },
  {
   "cell_type": "markdown",
   "id": "b890579f",
   "metadata": {},
   "source": [
    "Оставим только 300 самых популярных айтемов"
   ]
  },
  {
   "cell_type": "code",
   "execution_count": 6,
   "id": "309e0bc2",
   "metadata": {},
   "outputs": [],
   "source": [
    "logs = data.ratings\n",
    "logs['cnt'] = 1\n",
    "logs = logs[['item_id', 'cnt']].groupby(by=[\"item_id\"]).sum()\n",
    "logs = logs.sort_values(by=['cnt'], ascending=False).reset_index()\n",
    "popular_items = logs.iloc[:300]['item_id'].tolist()\n",
    "# popular_items = logs['item_id'].tolist()"
   ]
  },
  {
   "cell_type": "code",
   "execution_count": 7,
   "id": "331c924f",
   "metadata": {},
   "outputs": [
    {
     "name": "stdout",
     "output_type": "stream",
     "text": [
      "размер датасета логов после выброса непопулярных айтемов: (389735, 5)\n"
     ]
    }
   ],
   "source": [
    "data.ratings = data.ratings[data.ratings['item_id'].isin(popular_items)]\n",
    "print('размер датасета логов после выброса непопулярных айтемов:', data.ratings.shape)"
   ]
  },
  {
   "cell_type": "markdown",
   "id": "0002f77e",
   "metadata": {},
   "source": [
    "Оставим информацию только о фичах юзеров и айтемов которые остались в логах"
   ]
  },
  {
   "cell_type": "code",
   "execution_count": 8,
   "id": "adcbd325",
   "metadata": {},
   "outputs": [
    {
     "data": {
      "text/plain": [
       "((6039, 5), (300, 3))"
      ]
     },
     "execution_count": 8,
     "metadata": {},
     "output_type": "execute_result"
    }
   ],
   "source": [
    "data.items = data.items[data.items['item_id'].isin(popular_items)]\n",
    "users = set(data.ratings['user_id'].tolist())\n",
    "data.users = data.users[data.users['user_id'].isin(users)]\n",
    "data.users.shape, data.items.shape"
   ]
  },
  {
   "cell_type": "code",
   "execution_count": 10,
   "id": "986319cd",
   "metadata": {},
   "outputs": [
    {
     "name": "stderr",
     "output_type": "stream",
     "text": [
      "03-Oct-24 20:15:31, replay, INFO: Columns with ids of users or items are present in mapping. The dataframe will be treated as an interactions log.\n",
      "INFO:replay:Columns with ids of users or items are present in mapping. The dataframe will be treated as an interactions log.\n"
     ]
    },
    {
     "name": "stderr",
     "output_type": "stream",
     "text": [
      "03-Oct-24 20:15:33, replay, INFO: Column with ids of users or items is absent in mapping. The dataframe will be treated as a users'/items' features dataframe.\n",
      "INFO:replay:Column with ids of users or items is absent in mapping. The dataframe will be treated as a users'/items' features dataframe.\n",
      "03-Oct-24 20:15:33, replay, INFO: Column with ids of users or items is absent in mapping. The dataframe will be treated as a users'/items' features dataframe.\n",
      "INFO:replay:Column with ids of users or items is absent in mapping. The dataframe will be treated as a users'/items' features dataframe.\n"
     ]
    },
    {
     "name": "stdout",
     "output_type": "stream",
     "text": [
      "fit started\n",
      "predict started\n"
     ]
    },
    {
     "name": "stderr",
     "output_type": "stream",
     "text": [
      "100%|██████████| 389735/389735 [00:22<00:00, 17620.63it/s]\n"
     ]
    }
   ],
   "source": [
    "dataset = MovielensBanditDataset(data)"
   ]
  },
  {
   "cell_type": "code",
   "execution_count": 11,
   "id": "4e2615a7",
   "metadata": {},
   "outputs": [],
   "source": [
    "def optimize_ope_parameters(learner_action_dist, lambda_s, beta_1s, beta_2s, k=20000):\n",
    "    CIPS_MSE = []\n",
    "    for lambda_ in lambda_s:\n",
    "        ope = InverseProbabilityWeighting(lambda_=lambda_, estimator_name='cips')\n",
    "        CIPS_MSE.append(ope._estimate_mse_score(\n",
    "            reward=bandit_feedback_test['reward'][:k],\n",
    "            action=bandit_feedback_test['action'][:k],\n",
    "            pscore=bandit_feedback_test['pscore'][:k],\n",
    "            action_dist=learner_action_dist[:k],\n",
    "            position=bandit_feedback_test['position'][:k],\n",
    "            use_bias_upper_bound = False))\n",
    "        best_idx = np.argmin(np.array(CIPS_MSE))\n",
    "        best_lambda_ = lambda_s[best_idx]\n",
    "        # print(np.array(CIPS_MSE)[best_idx])\n",
    "        \n",
    "    \n",
    "    ESIPSMAX_MSE = []\n",
    "    for beta_1 in beta_1s:\n",
    "        ope = Exp_Smooth_IPS_Max(beta = beta_1)\n",
    "        ESIPSMAX_MSE.append(ope._estimate_mse_score(\n",
    "            reward=bandit_feedback_test['reward'][:k],\n",
    "            action=bandit_feedback_test['action'][:k],\n",
    "            pscore=bandit_feedback_test['pscore'][:k],\n",
    "            action_dist=learner_action_dist[:k],\n",
    "            position=bandit_feedback_test['position'][:k],\n",
    "            use_bias_upper_bound = False))\n",
    "        best_idx = np.argmin(np.array(ESIPSMAX_MSE))\n",
    "        best_beta_1 = beta_1s[best_idx]\n",
    "        # print(np.array(ESIPSMAX_MSE)[best_idx])\n",
    "        \n",
    "    ESIPSMAX_MSE = []\n",
    "    for beta_2 in beta_2s:\n",
    "        ope = Exp_Smooth_IPS_Max(beta = beta_2)\n",
    "        ESIPSMAX_MSE.append(ope._estimate_mse_score(\n",
    "            reward=bandit_feedback_test['reward'][:k],\n",
    "            action=bandit_feedback_test['action'][:k],\n",
    "            pscore=bandit_feedback_test['pscore'][:k],\n",
    "            action_dist=learner_action_dist[:k],\n",
    "            position=bandit_feedback_test['position'][:k],\n",
    "            use_bias_upper_bound = False))\n",
    "        best_idx = np.argmin(np.array(ESIPSMAX_MSE))\n",
    "        best_beta_2 = beta_2s[best_idx]\n",
    "        # print(np.array(ESIPSMAX_MSE)[best_idx])\n",
    "        \n",
    "    return {'lambda_':best_lambda_, 'beta_1': best_beta_1, 'beta_2': best_beta_2}"
   ]
  },
  {
   "cell_type": "code",
   "execution_count": 12,
   "id": "fb3df0fb",
   "metadata": {},
   "outputs": [],
   "source": [
    "dict_opt_algo = {    \n",
    "    'UCB': {'lambda_s': [1, 1.2, 1.4, 1.5, 1.6, 1.7, 1.8, 1.9, 2, 5, 6, 7, 8, 9, 9.5, 9.6, 9.7, 9.8, 9.9, 50, 55, 60, 65, 70, 71, 75, 79, np.inf], \n",
    "                 'beta_1s': [0.1, 0.2, 0.3, 0.4, 0.5, 0.6, 0.7, 0.8, 0.9, 0.95, 0.98, 0.99, 1], \n",
    "                 'beta_2s': [0.1, 0.2, 0.3, 0.4, 0.5, 0.6, 0.7, 0.8, 0.9, 0.95, 0.98, 0.99, 1]},\n",
    "    \n",
    "    'Lin-UCB': {'lambda_s': [1, 1.2, 1.4, 1.5, 1.6, 1.7, 1.8, 1.9, 2, 5, 6, 7, 8, 9, 9.5, 9.6, 9.7, 9.8, 9.9, 50, 55, 60, 65, 70, 71, 75, 79, np.inf], \n",
    "                 'beta_1s': [0.1, 0.2, 0.3, 0.4, 0.5, 0.6, 0.7, 0.8, 0.9, 0.95, 0.98, 0.99, 1], \n",
    "                 'beta_2s': [0.1, 0.2, 0.3, 0.4, 0.5, 0.6, 0.7, 0.8, 0.9, 0.95, 0.98, 0.99, 1]},\n",
    "    \n",
    "    'Random': {'lambda_s': [1, 1.2, 1.4, 1.5, 1.6, 1.7, 1.8, 1.9, 2, 5, 6, 7, 8, 9, 9.5, 9.6, 9.7, 9.8, 9.9, 50, 55, 60, 65, 70, 71, 75, 79, np.inf], \n",
    "                 'beta_1s': [0.1, 0.2, 0.3, 0.4, 0.5, 0.6, 0.7, 0.8, 0.9, 0.95, 0.98, 0.99, 1], \n",
    "                 'beta_2s': [0.1, 0.2, 0.3, 0.4, 0.5, 0.6, 0.7, 0.8, 0.9, 0.95, 0.98, 0.99, 1]},\n",
    "    \n",
    "    'LinTS': {'lambda_s': [1, 1.2, 1.4, 1.5, 1.6, 1.7, 1.8, 1.9, 2, 5, 6, 7, 8, 9, 9.5, 9.6, 9.7, 9.8, 9.9, 50, 55, 60, 65, 70, 71, 75, 79, np.inf], \n",
    "                 'beta_1s': [0.1, 0.2, 0.3, 0.4, 0.5, 0.6, 0.7, 0.8, 0.9, 0.95, 0.98, 0.99, 1], \n",
    "                 'beta_2s': [0.1, 0.2, 0.3, 0.4, 0.5, 0.6, 0.7, 0.8, 0.9, 0.95, 0.98, 0.99, 1]},\n",
    "}"
   ]
  },
  {
   "cell_type": "code",
   "execution_count": 13,
   "id": "18b9a269",
   "metadata": {},
   "outputs": [],
   "source": [
    "def get_dist(learner):\n",
    "    all_action_dist = np.zeros((bandit_feedback_test[\"n_rounds\"], bandit_feedback_test[\"n_actions\"], 1))\n",
    "    if isinstance(learner.replay_model, (LinUCB)):\n",
    "        log_distinct = bandit_feedback_test['log'].toPandas().drop_duplicates(subset=[\"user_idx\"], keep='first')\n",
    "        users_all = bandit_feedback_test['log'].toPandas()['user_idx'].tolist()\n",
    "        batch_size = 10\n",
    "        num_batchs = log_distinct.shape[0] // batch_size\n",
    "        for batch_idx in tqdm(range(num_batchs+1)):\n",
    "            j = min((batch_idx+1)*batch_size, log_distinct.shape[0])\n",
    "            if j == batch_idx*batch_size:\n",
    "                break\n",
    "            log_subset = log_distinct.iloc[batch_idx*batch_size: j]\n",
    "            n_rounds = log_subset.shape[0]\n",
    "            \n",
    "            action_dist = learner.predict(n_rounds, convert2spark(log_subset).select('user_idx'))\n",
    "\n",
    "            users_distinct = log_subset['user_idx'].tolist()\n",
    "\n",
    "            user2ind = {}\n",
    "            for i in range(n_rounds):\n",
    "                user2ind[users_distinct[i]] = i\n",
    "\n",
    "            for i in range(bandit_feedback_test[\"n_rounds\"]):\n",
    "                if users_all[i] in users_distinct:\n",
    "                    all_action_dist[i] = action_dist[user2ind[users_all[i]]]\n",
    "\n",
    "    else:\n",
    "        batch_size = 300\n",
    "        num_batchs = bandit_feedback_test[\"n_rounds\"] // batch_size\n",
    "        for batch_idx in tqdm(range(num_batchs+1)):\n",
    "            j = min((batch_idx+1)*batch_size, log_distinct.shape[0])\n",
    "            if j == batch_idx*batch_size:\n",
    "                break\n",
    "            bandit_feedback_subset = bandit_subset([batch_idx*batch_size, j], bandit_feedback_test) #The first parameter is a slice of subset [a, b]\n",
    "            action_dist = learner.predict(bandit_feedback_subset[\"n_rounds\"], bandit_feedback_subset[\"log\"].select('user_idx'))\n",
    "            all_action_dist[batch_idx*batch_size:j] = action_dist\n",
    "    return all_action_dist"
   ]
  },
  {
   "cell_type": "code",
   "execution_count": 14,
   "id": "1879ef62",
   "metadata": {},
   "outputs": [],
   "source": [
    "def run_exp(learner_action_dist, lambda_, beta_1, beta_2):\n",
    "    Vs = []\n",
    "    CIs = []\n",
    "\n",
    "    for n_size in [10000, 20000, 30000, 40000, 50000, 60000, 70000, 80000, 90000, 100000, 110000, bandit_feedback_test['n_rounds']]:\n",
    "    # for n_size in [50000, 100000, 150000, 200000, 250000, bandit_feedback_test[\"n_rounds\"]]:\n",
    "        start = time.time()\n",
    "        bandit_feedback_subset = bandit_subset([0, n_size], bandit_feedback_test) #The first parameter is a slice of subset [a, b]\n",
    "\n",
    "        ope = OffPolicyEvaluation(\n",
    "            bandit_feedback=bandit_feedback_subset,\n",
    "            ope_estimators=[InverseProbabilityWeighting(), DirectMethod(), SelfNormalizedDoublyRobust(),\n",
    "                            SelfNormalizedInverseProbabilityWeighting(),\n",
    "                            Exp_Smooth_IPS_Max(beta = beta_1), Exp_Smooth_IPS_Min(beta = beta_2), InverseProbabilityWeighting(lambda_ = lambda_, estimator_name='cips')]\n",
    "        )\n",
    "\n",
    "        estimated_rewards_by_reg_model_subset = estimated_rewards_by_reg_model[0: n_size, :]\n",
    "        \n",
    "        action_dist = learner_action_dist[:n_size, :]\n",
    "        estimated_policy_value = ope.estimate_policy_values(\n",
    "            action_dist=action_dist,\n",
    "            estimated_rewards_by_reg_model=estimated_rewards_by_reg_model_subset,\n",
    "        )\n",
    "\n",
    "        estimated_ci = ope.estimate_intervals(\n",
    "            action_dist=action_dist,\n",
    "            estimated_rewards_by_reg_model=estimated_rewards_by_reg_model_subset,\n",
    "            n_bootstrap_samples=100,\n",
    "            random_state=12345,)\n",
    "        end = time.time()\n",
    "        print(\"n_size =\", n_size, \"time: \", end-start)\n",
    "        Vs.append(estimated_policy_value)\n",
    "        CIs.append(estimated_ci)\n",
    "    return(Vs, CIs)"
   ]
  },
  {
   "cell_type": "code",
   "execution_count": 15,
   "id": "6500ad60",
   "metadata": {},
   "outputs": [],
   "source": [
    "import warnings\n",
    "warnings.filterwarnings(\"ignore\")"
   ]
  },
  {
   "cell_type": "markdown",
   "id": "337ab3d2",
   "metadata": {},
   "source": [
    "Подсчет Vs, CIs для разного числа негативных семплов для LinUCB:"
   ]
  },
  {
   "cell_type": "code",
   "execution_count": 17,
   "id": "b9b3bdf7",
   "metadata": {},
   "outputs": [],
   "source": [
    "bandit_feedback_train, bandit_feedback_test = dataset.obtain_batch_bandit_feedback(test_size=0.3, is_timeseries_split=True)"
   ]
  },
  {
   "cell_type": "code",
   "execution_count": 20,
   "id": "5c29737d",
   "metadata": {},
   "outputs": [],
   "source": [
    "estimated_rewards_by_reg_model = get_est_rewards_by_reg(bandit_feedback_train['n_actions'],\n",
    "                                                        dataset.len_list,\n",
    "                                                        bandit_feedback_train,\n",
    "                                                        bandit_feedback_test)\n",
    "\n",
    "np.save('estimated_rewards_by_reg_model.npy', estimated_rewards_by_reg_model)\n",
    "estimated_rewards_by_reg_model = np.load('estimated_rewards_by_reg_model.npy')"
   ]
  },
  {
   "cell_type": "markdown",
   "id": "36214c06",
   "metadata": {},
   "source": [
    "UCB:"
   ]
  },
  {
   "cell_type": "code",
   "execution_count": 21,
   "id": "3b022e92",
   "metadata": {},
   "outputs": [
    {
     "name": "stdout",
     "output_type": "stream",
     "text": [
      "momory usage: 19.2\n",
      "train_size: 272814\n",
      "test_size: 116921\n"
     ]
    },
    {
     "name": "stderr",
     "output_type": "stream",
     "text": [
      "100%|██████████| 390/390 [01:14<00:00,  5.27it/s]\n"
     ]
    },
    {
     "name": "stdout",
     "output_type": "stream",
     "text": [
      "{'lambda_': 2, 'beta_1': 1, 'beta_2': 1}\n",
      "momory usage: 21.5\n",
      "n_size = 10000 time:  0.2087242603302002\n",
      "n_size = 20000 time:  0.35932183265686035\n",
      "n_size = 30000 time:  0.39600181579589844\n",
      "n_size = 40000 time:  0.6599392890930176\n",
      "n_size = 50000 time:  0.6767599582672119\n",
      "n_size = 60000 time:  0.72117018699646\n",
      "n_size = 70000 time:  1.2147328853607178\n",
      "n_size = 80000 time:  1.262704610824585\n",
      "n_size = 90000 time:  1.2793278694152832\n",
      "n_size = 100000 time:  1.3133249282836914\n",
      "n_size = 110000 time:  1.3495111465454102\n",
      "n_size = 116921 time:  1.359591007232666\n",
      "Vs: {'ipw': 0.915853680772732, 'dm': 0.9063334558141214, 'sndr': 0.9011282843968118, 'snipw': 0.9010273227190392, 'ESIPSMAX': 0.915853680772732, 'ESIPSMIN': 0.915853680772732, 'cips': 0.9158047803091275}\n",
      "CIs: {'ipw': {'mean': 0.9156946174039569, '95.0% CI (lower)': 0.9132860626882853, '95.0% CI (upper)': 0.9184284623960143}, 'dm': {'mean': 0.9063330105491708, '95.0% CI (lower)': 0.906288217645985, '95.0% CI (upper)': 0.9063819846718812}, 'sndr': {'mean': 0.9009828302448524, '95.0% CI (lower)': 0.8990224294794461, '95.0% CI (upper)': 0.9028280122473789}, 'snipw': {'mean': 0.9008708343581593, '95.0% CI (lower)': 0.8985012706902459, '95.0% CI (upper)': 0.9035604223192448}, 'ESIPSMAX': {'mean': 0.9156946174039569, '95.0% CI (lower)': 0.9132860626882853, '95.0% CI (upper)': 0.9184284623960143}, 'ESIPSMIN': {'mean': 0.9156946174039569, '95.0% CI (lower)': 0.9132860626882853, '95.0% CI (upper)': 0.9184284623960143}, 'cips': {'mean': 0.9156449388267884, '95.0% CI (lower)': 0.9132388991541123, '95.0% CI (upper)': 0.9183787386660114}}\n"
     ]
    }
   ],
   "source": [
    "print('momory usage:', psutil.virtual_memory().percent)\n",
    "bandit_feedback_train, bandit_feedback_test = dataset.obtain_batch_bandit_feedback(test_size=0.3, is_timeseries_split=True)\n",
    "\n",
    "print('train_size:', bandit_feedback_train[\"n_rounds\"])\n",
    "print('test_size:', bandit_feedback_test[\"n_rounds\"])\n",
    "    \n",
    "model_1 = UCB(exploration_coef = 0.01, sample = True, seed = 123)\n",
    "learner_1 = OBPOfflinePolicyLearner(n_actions=dataset.n_actions,\n",
    "                                    replay_model=model_1)\n",
    "learner_1.fit(bandit_feedback_train)\n",
    "\n",
    "learner_action_dist_1 = get_dist(learner_1)\n",
    "\n",
    "opt_params_ips_1 = optimize_ope_parameters(learner_action_dist_1, dict_opt_algo['UCB']['lambda_s'], dict_opt_algo['UCB']['beta_1s'], dict_opt_algo['UCB']['beta_2s'])\n",
    "print(opt_params_ips_1)\n",
    "\n",
    "print('momory usage:', psutil.virtual_memory().percent)\n",
    "\n",
    "Vs_1, CIs_1 = run_exp(learner_action_dist_1, opt_params_ips_1['lambda_'], opt_params_ips_1['beta_1'], opt_params_ips_1['beta_2'])\n",
    "\n",
    "np.save(f'./Vs_CIs/Vs_1_opt_{0}.npy', Vs_1)\n",
    "np.save(f'./Vs_CIs/CIs_1_opt_{0}.npy', CIs_1)\n",
    "print('Vs:', Vs_1[-1])\n",
    "print('CIs:', CIs_1[-1])"
   ]
  },
  {
   "cell_type": "markdown",
   "id": "03c5800c",
   "metadata": {},
   "source": [
    "LinUCB"
   ]
  },
  {
   "cell_type": "code",
   "execution_count": null,
   "id": "6e2cf9c3",
   "metadata": {},
   "outputs": [],
   "source": [
    "print('momory usage:', psutil.virtual_memory().percent)\n",
    "bandit_feedback_train, bandit_feedback_test = dataset.obtain_batch_bandit_feedback(test_size=0.3, is_timeseries_split=True)\n",
    "\n",
    "print('train_size:', bandit_feedback_train[\"n_rounds\"])\n",
    "print('test_size:', bandit_feedback_test[\"n_rounds\"])\n",
    "    \n",
    "model_2 = LinUCB(eps = -10.0, alpha = 1.0, regr_type = 'disjoint')\n",
    "learner_2 = OBPOfflinePolicyLearner(n_actions=dataset.n_actions,\n",
    "                                    replay_model=model_1)\n",
    "learner_2.fit(bandit_feedback_train)\n",
    "\n",
    "learner_action_dist_2 = get_dist(learner_2)\n",
    "\n",
    "opt_params_ips_2 = optimize_ope_parameters(learner_action_dist_2, dict_opt_algo['LinUCB']['lambda_s'], dict_opt_algo['LinUCB']['beta_1s'], dict_opt_algo['LinUCB']['beta_2s'])\n",
    "print(opt_params_ips_2)\n",
    "\n",
    "print('momory usage:', psutil.virtual_memory().percent)\n",
    "\n",
    "Vs_2, CIs_2 = run_exp(learner_action_dist_2, opt_params_ips_2['lambda_'], opt_params_ips_2['beta_1'], opt_params_ips_2['beta_2'])\n",
    "\n",
    "np.save(f'./Vs_CIs/Vs_2_opt_{0}.npy', Vs_2)\n",
    "np.save(f'./Vs_CIs/CIs_2_opt_{0}.npy', CIs_2)\n",
    "print('Vs:', Vs_2[-1])\n",
    "print('CIs:', CIs_2[-1])"
   ]
  },
  {
   "cell_type": "markdown",
   "id": "c5d3131b",
   "metadata": {},
   "source": [
    "Random"
   ]
  },
  {
   "cell_type": "code",
   "execution_count": null,
   "id": "625a4467",
   "metadata": {},
   "outputs": [],
   "source": [
    "print('momory usage:', psutil.virtual_memory().percent)\n",
    "bandit_feedback_train, bandit_feedback_test = dataset.obtain_batch_bandit_feedback(test_size=0.3, is_timeseries_split=True)\n",
    "\n",
    "print('train_size:', bandit_feedback_train[\"n_rounds\"])\n",
    "print('test_size:', bandit_feedback_test[\"n_rounds\"])\n",
    "    \n",
    "model_3 = RandomRec(seed=42)\n",
    "learner_3 = OBPOfflinePolicyLearner(n_actions=dataset.n_actions,\n",
    "                                    replay_model=model_3)\n",
    "learner_3.fit(bandit_feedback_train)\n",
    "\n",
    "learner_action_dist_3 = get_dist(learner_3)\n",
    "\n",
    "opt_params_ips_3 = optimize_ope_parameters(learner_action_dist_3, dict_opt_algo['Random']['lambda_s'], dict_opt_algo['Random']['beta_1s'], dict_opt_algo['Random']['beta_2s'])\n",
    "print(opt_params_ips_3)\n",
    "print('momory usage:', psutil.virtual_memory().percent)\n",
    "\n",
    "Vs_3, CIs_3 = run_exp(learner_action_dist_3, opt_params_ips_3['lambda_'], opt_params_ips_3['beta_1'], opt_params_ips_3['beta_2'])\n",
    "\n",
    "np.save(f'./Vs_CIs/Vs_3_opt_{0}.npy', Vs_3)\n",
    "np.save(f'./Vs_CIs/CIs_3_opt_{0}.npy', CIs_3)\n",
    "print('Vs:', Vs_3[-1])\n",
    "print('CIs:', CIs_3[-1])"
   ]
  },
  {
   "cell_type": "markdown",
   "id": "3abd27ea",
   "metadata": {},
   "source": [
    "LinTS"
   ]
  },
  {
   "cell_type": "code",
   "execution_count": null,
   "id": "33d2aaf3",
   "metadata": {},
   "outputs": [],
   "source": [
    "print('momory usage:', psutil.virtual_memory().percent)\n",
    "bandit_feedback_train, bandit_feedback_test = dataset.obtain_batch_bandit_feedback(test_size=0.3, is_timeseries_split=True)\n",
    "\n",
    "print('train_size:', bandit_feedback_train[\"n_rounds\"])\n",
    "print('test_size:', bandit_feedback_test[\"n_rounds\"])\n",
    "    \n",
    "model_4 = LinTS(nu = -10.0, alpha = 1.0, regr_type = 'disjoint')\n",
    "learner_4 = OBPOfflinePolicyLearner(n_actions=dataset.n_actions,\n",
    "                                    replay_model=model_1)\n",
    "learner_4.fit(bandit_feedback_train)\n",
    "\n",
    "learner_action_dist_4 = get_dist(learner_4)\n",
    "\n",
    "opt_params_ips_4 = optimize_ope_parameters(learner_action_dist_4, dict_opt_algo['LinTS']['lambda_s'], dict_opt_algo['LinTS']['beta_1s'], dict_opt_algo['LinTS']['beta_2s'])\n",
    "print(opt_params_ips_4)\n",
    "\n",
    "print('momory usage:', psutil.virtual_memory().percent)\n",
    "\n",
    "Vs_4, CIs_4 = run_exp(learner_action_dist_4, opt_params_ips_4['lambda_'], opt_params_ips_4['beta_1'], opt_params_ips_4['beta_2'])\n",
    "\n",
    "np.save(f'./Vs_CIs/Vs_4_opt_{0}.npy', Vs_4)\n",
    "np.save(f'./Vs_CIs/CIs_4_opt_{0}.npy', CIs_4)\n",
    "print('Vs:', Vs_4[-1])\n",
    "print('CIs:', CIs_4[-1])"
   ]
  },
  {
   "cell_type": "markdown",
   "id": "faf14cb5",
   "metadata": {},
   "source": [
    "### Теперь строим графики:"
   ]
  },
  {
   "cell_type": "code",
   "execution_count": 32,
   "id": "76df64a4",
   "metadata": {},
   "outputs": [],
   "source": [
    "# estimated_rewards_by_reg_model = np.load('estimated_rewards_by_reg_model.npy')"
   ]
  },
  {
   "cell_type": "code",
   "execution_count": 31,
   "id": "de4a8e6f",
   "metadata": {},
   "outputs": [],
   "source": [
    "ucb_v = np.load('./Vs_CIs/Vs_1_opt_0.npy', allow_pickle=True)\n",
    "ucb_ci = np.load('./Vs_CIs/CIs_1_opt_0.npy', allow_pickle=True)\n",
    "\n",
    "linucb_v = np.load('./Vs_CIs/Vs_2_opt_0.npy', allow_pickle=True)\n",
    "linucb_ci = np.load('./Vs_CIs/CIs_2_opt_0.npy', allow_pickle=True)\n",
    "\n",
    "random_v = np.load('./Vs_CIs/Vs_3_opt_0.npy', allow_pickle=True)\n",
    "random_ci = np.load('./Vs_CIs/CIs_3_opt_0.npy', allow_pickle=True)\n",
    "\n",
    "lints_v = np.load('./Vs_CIs/Vs_4_opt_0.npy', allow_pickle=True)\n",
    "lints_ci = np.load('./Vs_CIs/CIs_4_opt_0.npy', allow_pickle=True)"
   ]
  },
  {
   "cell_type": "code",
   "execution_count": 32,
   "id": "c7140f8a",
   "metadata": {},
   "outputs": [],
   "source": [
    "def plot_disjoint_res(Vs, CIs, model): \n",
    "    fig, ax = plt.subplots(7, figsize=(10, 10))\n",
    "\n",
    "    x = [10000, 20000, 30000, 40000, 50000, 60000, 70000, 80000, 90000, 100000, 110000, bandit_feedback_test['n_rounds']]\n",
    "    # x = [50000, 100000, 150000, 200000, 250000, 282099]\n",
    "    colors = ['b', 'r', 'g', 'y', 'aqua', 'pink', 'orange']\n",
    "    i = 0\n",
    "    for name in ['ipw', 'dm', 'sndr', 'snipw', 'ESIPSMAX',  'ESIPSMIN', 'cips']:\n",
    "        y_est = [estimated_ci[name][\"mean\"] for estimated_ci in CIs]\n",
    "        y_up = [estimated_ci[name][\"95.0% CI (upper)\"] for estimated_ci in CIs]\n",
    "        y_low = [estimated_ci[name][\"95.0% CI (lower)\"] for estimated_ci in CIs]\n",
    "\n",
    "        ax[i].plot(x, y_est, '-', label=name, color = colors[i])\n",
    "        ax[i].fill_between(x, y_low, y_up, alpha=0.2, color = colors[i])\n",
    "        i=i+1\n",
    "    fig.suptitle(\"OPE for \" + model, fontsize=16)\n",
    "    fig.legend()\n",
    "    plt.tight_layout()"
   ]
  },
  {
   "cell_type": "code",
   "execution_count": 33,
   "id": "15f6c9e3",
   "metadata": {},
   "outputs": [],
   "source": [
    "# plot_disjoint_res(ucb_v, ucb_ci, 'UCB')"
   ]
  },
  {
   "cell_type": "code",
   "execution_count": 34,
   "id": "48332e26",
   "metadata": {},
   "outputs": [],
   "source": [
    "# plot_disjoint_res(linucb_v, linucb_ci, 'LinUCB')"
   ]
  },
  {
   "cell_type": "code",
   "execution_count": 35,
   "id": "6014742c",
   "metadata": {},
   "outputs": [],
   "source": [
    "# def plot_res_two_politics(CIs_p1, CIs_p2, model_p1, model_p2):\n",
    "#     fig, ax = plt.subplots(7, figsize=(10, 15))\n",
    "#     x = [50000, 100000, 150000, 200000, 250000, 282099]\n",
    "#     colors = ['b', 'r', 'g', 'y', 'aqua', 'pink', 'orange']\n",
    "#     i=0\n",
    "#     for name in ['ipw', 'dm', 'sndr', 'snipw', 'ESIPSMAX',  'ESIPSMIN', 'cips']:\n",
    "#         y_est = [estimated_ci[name][\"mean\"] for estimated_ci in CIs_p1]\n",
    "#         y_up = [estimated_ci[name][\"95.0% CI (upper)\"] for estimated_ci in CIs_p1]\n",
    "#         y_low = [estimated_ci[name][\"95.0% CI (lower)\"] for estimated_ci in CIs_p1]\n",
    "\n",
    "#         ax[i].plot(x, y_est, '-', label=model_p1+\"_\"+name, color = colors[0])\n",
    "#         ax[i].fill_between(x, y_low, y_up, alpha=0.2, color = colors[0])\n",
    "        \n",
    "#         y_est = [estimated_ci[name][\"mean\"] for estimated_ci in CIs_p2]\n",
    "#         y_up = [estimated_ci[name][\"95.0% CI (upper)\"] for estimated_ci in CIs_p2]\n",
    "#         y_low = [estimated_ci[name][\"95.0% CI (lower)\"] for estimated_ci in CIs_p2]\n",
    "\n",
    "#         ax[i].plot(x, y_est, '-', label=model_p2+\"_\"+name, color = colors[1])\n",
    "#         ax[i].fill_between(x, y_low, y_up, alpha=0.2, color = colors[1])\n",
    "#         ax[i].set_title(name)\n",
    "        \n",
    "#         i = i+1\n",
    "#     fig.suptitle(\"OPE for \" + model_p1 + \" and \" + model_p2, fontsize=16)\n",
    "#     fig.legend()\n",
    "#     plt.tight_layout()"
   ]
  },
  {
   "cell_type": "code",
   "execution_count": 36,
   "id": "a722bb52",
   "metadata": {},
   "outputs": [],
   "source": [
    "def plot_join_res(Vs, CIs, model):\n",
    "    fig, ax = plt.subplots(figsize=(10, 10))\n",
    "    # x = [50000, 100000, 150000, 200000, 250000, 282099]\n",
    "    x = [10000, 20000, 30000, 40000, 50000, 60000, 70000, 80000, 90000, 100000, 110000, bandit_feedback_test['n_rounds']]\n",
    "    colors = ['b', 'r', 'g', 'y', 'aqua', 'pink', 'orange']\n",
    "    i = 0\n",
    "    for name in ['ipw', 'dm']:\n",
    "        y_est = [estimated_ci[name][\"mean\"] for estimated_ci in CIs]\n",
    "        y_up = [estimated_ci[name][\"95.0% CI (upper)\"] for estimated_ci in CIs]\n",
    "        y_low = [estimated_ci[name][\"95.0% CI (lower)\"] for estimated_ci in CIs]\n",
    "\n",
    "        ax.plot(x, y_est, '-', label=name, color = colors[i])\n",
    "        ax.fill_between(x, y_low, y_up, alpha=0.2, color = colors[i])\n",
    "        #ax.plot(x, y, 'o', color='tab:brown')\n",
    "        i=i+1\n",
    "    fig.suptitle(\"OPE for \" + model, fontsize=16)\n",
    "    fig.legend()"
   ]
  },
  {
   "cell_type": "code",
   "execution_count": 37,
   "id": "37d8ce3a",
   "metadata": {},
   "outputs": [
    {
     "data": {
      "image/png": "[encoded data removed]",
      "text/plain": [
       "<Figure size 1000x1000 with 1 Axes>"
      ]
     },
     "metadata": {},
     "output_type": "display_data"
    }
   ],
   "source": [
    "plot_join_res(ucb_v, ucb_ci, 'UCB')"
   ]
  },
  {
   "cell_type": "code",
   "execution_count": 39,
   "id": "bd2b2d08",
   "metadata": {},
   "outputs": [
    {
     "data": {
      "image/png": "[encoded data removed]",
      "text/plain": [
       "<Figure size 1000x1000 with 1 Axes>"
      ]
     },
     "metadata": {},
     "output_type": "display_data"
    }
   ],
   "source": [
    "plot_join_res(ucb_v, ucb_ci, 'UCB')"
   ]
  },
  {
   "cell_type": "code",
   "execution_count": null,
   "id": "37d50bb9",
   "metadata": {},
   "outputs": [],
   "source": []
  },
  {
   "cell_type": "code",
   "execution_count": null,
   "id": "364c65a8",
   "metadata": {},
   "outputs": [],
   "source": []
  },
  {
   "cell_type": "code",
   "execution_count": 39,
   "id": "16f0b65a",
   "metadata": {},
   "outputs": [],
   "source": [
    "# plot_join_res(linucb_v, linucb_ci, 'linucb')"
   ]
  },
  {
   "cell_type": "code",
   "execution_count": 40,
   "id": "6062d248",
   "metadata": {},
   "outputs": [],
   "source": [
    "# plot_join_res(linucb_v_250, linucb_ci_250, 'linucb-250neg')"
   ]
  },
  {
   "cell_type": "code",
   "execution_count": 41,
   "id": "caa6621e",
   "metadata": {},
   "outputs": [],
   "source": [
    "# plot_join_res(random_v, random_ci, 'random')"
   ]
  },
  {
   "cell_type": "code",
   "execution_count": null,
   "id": "887c91bb",
   "metadata": {},
   "outputs": [],
   "source": []
  },
  {
   "cell_type": "code",
   "execution_count": null,
   "id": "ee04f8cd",
   "metadata": {},
   "outputs": [],
   "source": []
  },
  {
   "cell_type": "code",
   "execution_count": null,
   "id": "e8a78f14",
   "metadata": {},
   "outputs": [],
   "source": []
  },
  {
   "cell_type": "code",
   "execution_count": null,
   "id": "122fb512",
   "metadata": {},
   "outputs": [],
   "source": [
    "# # n_negatives = [0, 50, 100, 150, 200, 250, 300, 350, 400]\n",
    "# n_negatives = [250]\n",
    "\n",
    "# for n_neg in n_negatives:\n",
    "#     print('n_neg:', n_neg)\n",
    "#     print(1, 'momory usage:', psutil.virtual_memory().percent)\n",
    "#     bandit_feedback_train, bandit_feedback_test = dataset.obtain_batch_bandit_feedback(test_size=0.3, is_timeseries_split=True, n_neg=n_neg)\n",
    "#     print(2, 'momory usage:', psutil.virtual_memory().percent)\n",
    "        \n",
    "#     model_2 = LinUCB(eps = -10.0, alpha = 1.0, regr_type = 'disjoint')\n",
    "#     learner_2 = OBPOfflinePolicyLearner(n_actions=dataset.n_actions,\n",
    "#                                         replay_model=model_2)\n",
    "#     learner_2.fit(bandit_feedback_train)\n",
    "#     print(3, 'momory usage:', psutil.virtual_memory().percent)\n",
    "    \n",
    "#     # learner_action_dist_2 = get_dist(learner_2)\n",
    "    \n",
    "#     # np.save(f'./Vs_CIs/learner_action_dist_2_{n_neg}.npy', learner_action_dist_2)\n",
    "#     learner_action_dist_2 = np.load(f'./Vs_CIs/learner_action_dist_2_{n_neg}.npy')\n",
    "    \n",
    "#     print(4, 'momory usage:', psutil.virtual_memory().percent)\n",
    "    \n",
    "#     opt_params_ips_2 = optimize_ope_parameters(learner_action_dist_2, dict_opt_algo['Lin-UCB']['lambda_s'], dict_opt_algo['Lin-UCB']['beta_1s'], dict_opt_algo['Lin-UCB']['beta_2s'])\n",
    "#     print(opt_params_ips_2)\n",
    "    \n",
    "#     print(5, 'momory usage:', psutil.virtual_memory().percent)\n",
    "    \n",
    "#     Vs_2, CIs_2 = run_exp(learner_action_dist_2, opt_params_ips_2['lambda_'], opt_params_ips_2['beta_1'], opt_params_ips_2['beta_2'])\n",
    "    \n",
    "#     np.save(f'./Vs_CIs/Vs_2_opt_{n_neg}.npy', Vs_2)\n",
    "#     np.save(f'./Vs_CIs/CIs_2_opt_{n_neg}.npy', CIs_2)\n",
    "#     print('Vs:', Vs_2[-1])\n",
    "#     print('CIs:', CIs_2[-1])"
   ]
  }
 ],
 "metadata": {
  "colab": {
   "provenance": []
  },
  "kernelspec": {
   "display_name": "Python 3 (ipykernel)",
   "language": "python",
   "name": "python3"
  },
  "language_info": {
   "codemirror_mode": {
    "name": "ipython",
    "version": 3
   },
   "file_extension": ".py",
   "mimetype": "text/x-python",
   "name": "python",
   "nbconvert_exporter": "python",
   "pygments_lexer": "ipython3",
   "version": "3.9.19"
  }
 },
 "nbformat": 4,
 "nbformat_minor": 5
}
