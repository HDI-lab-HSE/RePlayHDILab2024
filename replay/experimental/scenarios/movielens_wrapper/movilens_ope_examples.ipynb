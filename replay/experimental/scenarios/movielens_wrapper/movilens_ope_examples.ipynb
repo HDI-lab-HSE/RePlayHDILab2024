{
 "cells": [
  {
   "cell_type": "code",
   "execution_count": 30,
   "id": "8b1b04a2-ff93-4cb5-903c-1107ccd5d24b",
   "metadata": {
    "tags": []
   },
   "outputs": [],
   "source": [
    "n_items = 1500\n",
    "n_users = 600"
   ]
  },
  {
   "cell_type": "code",
   "execution_count": 31,
   "id": "641d7a8e-3131-4b45-b5ce-eb47248e8b13",
   "metadata": {
    "tags": []
   },
   "outputs": [
    {
     "name": "stdout",
     "output_type": "stream",
     "text": [
      "The autoreload extension is already loaded. To reload it, use:\n",
      "  %reload_ext autoreload\n"
     ]
    }
   ],
   "source": [
    "%load_ext autoreload\n",
    "%autoreload 2"
   ]
  },
  {
   "cell_type": "code",
   "execution_count": 32,
   "id": "271e422c-411d-4692-bb6a-22ba861e3184",
   "metadata": {
    "tags": []
   },
   "outputs": [],
   "source": [
    "import warnings\n",
    "from optuna.exceptions import ExperimentalWarning\n",
    "warnings.filterwarnings(\"ignore\", category=UserWarning)\n",
    "warnings.filterwarnings(\"ignore\", category=ExperimentalWarning)\n",
    "warnings.filterwarnings(\"ignore\", category=FutureWarning)"
   ]
  },
  {
   "cell_type": "code",
   "execution_count": 33,
   "id": "07847d69-c6f3-4b63-9c1b-aed91d426439",
   "metadata": {
    "tags": []
   },
   "outputs": [],
   "source": [
    "import warnings\n",
    "warnings.filterwarnings(\"ignore\")"
   ]
  },
  {
   "cell_type": "code",
   "execution_count": 59,
   "id": "7cc6ce9d-c449-4913-9587-53a2f1a53fb5",
   "metadata": {
    "tags": []
   },
   "outputs": [],
   "source": [
    "import numpy as np\n",
    "import pandas as pd\n",
    "import time\n",
    "from tqdm import tqdm\n",
    "import matplotlib.pyplot as plt\n",
    "import psutil\n",
    "\n",
    "# from pyspark.sql import SparkSession\n",
    "\n",
    "from replay.utils.session_handler import get_spark_session, State\n",
    "\n",
    "from replay.models import UCB, RandomRec\n",
    "# from replay.models.old_bandits.lin_ucb import LinUCB\n",
    "# from replay.models.old_bandits.lin_ts import LinTS\n",
    "from replay.models import UCB, RandomRec, LinUCB, LinTS\n",
    "from replay.experimental.scenarios.movielens_wrapper.replay_offline import OBPOfflinePolicyLearner\n",
    "from replay.experimental.scenarios.movielens_wrapper.dataset import MovielensBanditDataset\n",
    "from replay.experimental.scenarios.movielens_wrapper.utils import get_est_rewards_by_reg, bandit_subset\n",
    "from replay.utils.spark_utils import convert2spark\n",
    "\n",
    "# from obp.policy import IPWLearner\n",
    "from obp.ope import (\n",
    "    OffPolicyEvaluation,\n",
    "    DirectMethod,\n",
    "    InverseProbabilityWeighting,\n",
    "    DoublyRobust,\n",
    "    SelfNormalizedInverseProbabilityWeighting,\n",
    "    SelfNormalizedDoublyRobust,\n",
    ")\n",
    "\n",
    "from replay.experimental.scenarios.movielens_wrapper.modified_ips import Exp_Smooth_IPS_Min, Exp_Smooth_IPS_Max"
   ]
  },
  {
   "cell_type": "code",
   "execution_count": 35,
   "id": "3b6807e9-e038-42fb-90c7-9cfe6f430777",
   "metadata": {
    "tags": []
   },
   "outputs": [],
   "source": [
    "from rs_datasets import MovieLens\n",
    "\n",
    "data = MovieLens(\"1m\")"
   ]
  },
  {
   "cell_type": "code",
   "execution_count": 36,
   "id": "75bcd545-f676-4e11-9f29-db49c8fb10d1",
   "metadata": {
    "tags": []
   },
   "outputs": [],
   "source": [
    "logs = data.ratings\n",
    "logs['cnt'] = 1\n",
    "logs = logs[['item_id', 'cnt']].groupby(by=[\"item_id\"]).sum()\n",
    "logs = logs.sort_values(by=['cnt'], ascending=False).reset_index()\n",
    "popular_items = logs.iloc[:n_items]['item_id'].tolist()"
   ]
  },
  {
   "cell_type": "code",
   "execution_count": 37,
   "id": "5417df84-efba-47d7-bf7e-7973d2dc2509",
   "metadata": {
    "tags": []
   },
   "outputs": [
    {
     "name": "stdout",
     "output_type": "stream",
     "text": [
      "размер датасета логов после выброса непопулярных айтемов: (869950, 5)\n"
     ]
    }
   ],
   "source": [
    "data.ratings = data.ratings[data.ratings['item_id'].isin(popular_items)]\n",
    "print('размер датасета логов после выброса непопулярных айтемов:', data.ratings.shape)"
   ]
  },
  {
   "cell_type": "code",
   "execution_count": 38,
   "id": "a875f810-d24b-45ea-8fd7-6b42f3563614",
   "metadata": {
    "tags": []
   },
   "outputs": [],
   "source": [
    "logs = data.ratings\n",
    "logs['cnt'] = 1\n",
    "logs = logs[['user_id', 'cnt']].groupby(by=[\"user_id\"]).sum()\n",
    "logs = logs.sort_values(by=['cnt'], ascending=False).reset_index()\n",
    "popular_users = logs.iloc[:n_users]['user_id'].tolist()"
   ]
  },
  {
   "cell_type": "code",
   "execution_count": 39,
   "id": "ee151268-8988-44d6-9fdc-a356a7565729",
   "metadata": {
    "tags": []
   },
   "outputs": [
    {
     "name": "stdout",
     "output_type": "stream",
     "text": [
      "размер датасета логов после выброса непопулярных юзеров: (313742, 5)\n"
     ]
    }
   ],
   "source": [
    "data.ratings = data.ratings[data.ratings['user_id'].isin(popular_users)]\n",
    "print('размер датасета логов после выброса непопулярных юзеров:', data.ratings.shape)"
   ]
  },
  {
   "cell_type": "code",
   "execution_count": 40,
   "id": "cd0a77cf-954e-4e1e-bad8-b1f5cffef08c",
   "metadata": {
    "tags": []
   },
   "outputs": [],
   "source": [
    "items = set(data.ratings['item_id'].tolist())\n",
    "users = set(data.ratings['user_id'].tolist())"
   ]
  },
  {
   "cell_type": "code",
   "execution_count": 41,
   "id": "1fdab11e-ebf2-46ae-81bc-91ff1a531fa1",
   "metadata": {
    "tags": []
   },
   "outputs": [
    {
     "data": {
      "text/plain": [
       "((600, 5), (1500, 3))"
      ]
     },
     "execution_count": 41,
     "metadata": {},
     "output_type": "execute_result"
    }
   ],
   "source": [
    "data.items = data.items[data.items['item_id'].isin(items)]\n",
    "data.users = data.users[data.users['user_id'].isin(users)]\n",
    "data.users.shape, data.items.shape"
   ]
  },
  {
   "cell_type": "code",
   "execution_count": 42,
   "id": "7322837d-6ee7-4a8f-a68c-dbc3873b9b58",
   "metadata": {
    "tags": []
   },
   "outputs": [
    {
     "name": "stderr",
     "output_type": "stream",
     "text": [
      "21-Oct-24 18:53:20, replay, INFO: Columns with ids of users or items are present in mapping. The dataframe will be treated as an interactions log.\n",
      "INFO:replay:Columns with ids of users or items are present in mapping. The dataframe will be treated as an interactions log.\n",
      "21-Oct-24 18:53:21, replay, INFO: Column with ids of users or items is absent in mapping. The dataframe will be treated as a users'/items' features dataframe.\n",
      "INFO:replay:Column with ids of users or items is absent in mapping. The dataframe will be treated as a users'/items' features dataframe.\n",
      "21-Oct-24 18:53:21, replay, INFO: Column with ids of users or items is absent in mapping. The dataframe will be treated as a users'/items' features dataframe.\n",
      "INFO:replay:Column with ids of users or items is absent in mapping. The dataframe will be treated as a users'/items' features dataframe.\n"
     ]
    },
    {
     "name": "stdout",
     "output_type": "stream",
     "text": [
      "loading pretrained model\n"
     ]
    }
   ],
   "source": [
    "dataset = MovielensBanditDataset(data)"
   ]
  },
  {
   "cell_type": "code",
   "execution_count": 43,
   "id": "180ad847-c5d4-40b5-8f29-0e3667aa1079",
   "metadata": {
    "tags": []
   },
   "outputs": [
    {
     "data": {
      "text/plain": [
       "(313742, 28)"
      ]
     },
     "execution_count": 43,
     "metadata": {},
     "output_type": "execute_result"
    }
   ],
   "source": [
    "dataset.context.shape"
   ]
  },
  {
   "cell_type": "code",
   "execution_count": 44,
   "id": "ff89f9c2-4082-4273-a2fa-02349532af9f",
   "metadata": {
    "tags": []
   },
   "outputs": [
    {
     "data": {
      "text/plain": [
       "array([0.00047309, 0.00147602, 0.00158358, ..., 0.00043823, 0.00172168,\n",
       "       0.00032693])"
      ]
     },
     "execution_count": 44,
     "metadata": {},
     "output_type": "execute_result"
    }
   ],
   "source": [
    "dataset.pscore"
   ]
  },
  {
   "cell_type": "code",
   "execution_count": 45,
   "id": "dc7ff60f",
   "metadata": {},
   "outputs": [
    {
     "name": "stderr",
     "output_type": "stream",
     "text": [
      "24/10/21 18:53:22 WARN TaskSetManager: Stage 5862 contains a task of very large size (1026 KiB). The maximum recommended task size is 1000 KiB.\n",
      "24/10/21 18:53:22 WARN WindowExec: No Partition Defined for Window operation! Moving all data to a single partition, this can cause serious performance degradation.\n",
      "24/10/21 18:53:22 WARN WindowExec: No Partition Defined for Window operation! Moving all data to a single partition, this can cause serious performance degradation.\n",
      "24/10/21 18:53:22 WARN TaskSetManager: Stage 5865 contains a task of very large size (1026 KiB). The maximum recommended task size is 1000 KiB.\n",
      "24/10/21 18:53:22 WARN WindowExec: No Partition Defined for Window operation! Moving all data to a single partition, this can cause serious performance degradation.\n",
      "24/10/21 18:53:22 WARN TaskSetManager: Stage 5868 contains a task of very large size (1026 KiB). The maximum recommended task size is 1000 KiB.\n"
     ]
    },
    {
     "name": "stdout",
     "output_type": "stream",
     "text": [
      "train_size: 219618\n",
      "test_size: 94124\n"
     ]
    },
    {
     "name": "stderr",
     "output_type": "stream",
     "text": [
      "24/10/21 18:53:22 WARN TaskSetManager: Stage 5873 contains a task of very large size (1026 KiB). The maximum recommended task size is 1000 KiB.\n"
     ]
    }
   ],
   "source": [
    "bandit_feedback_train, bandit_feedback_test = dataset.obtain_batch_bandit_feedback(test_size=0.3, is_timeseries_split=True)\n",
    "print('train_size:', bandit_feedback_train[\"n_rounds\"])\n",
    "print('test_size:', bandit_feedback_test[\"n_rounds\"])"
   ]
  },
  {
   "cell_type": "code",
   "execution_count": 46,
   "id": "a26f934a-0b21-4aee-b80a-899aac32379f",
   "metadata": {
    "tags": []
   },
   "outputs": [],
   "source": [
    "viewed_items = bandit_feedback_train[\"log\"].toPandas().groupby(\"user_idx\")[\"item_idx\"].apply(list)"
   ]
  },
  {
   "cell_type": "code",
   "execution_count": 47,
   "id": "39598161-0364-4d12-9b27-0bc9d04cefaa",
   "metadata": {
    "tags": []
   },
   "outputs": [],
   "source": [
    "viewed_items_all = { i: viewed_items[i] if i in viewed_items.index else [] for i in range(n_users)}"
   ]
  },
  {
   "cell_type": "code",
   "execution_count": 48,
   "id": "d1e06f39-f5f6-4d68-aa05-66f5764c632f",
   "metadata": {
    "tags": []
   },
   "outputs": [],
   "source": [
    "viewed_items_for_test = [viewed_items_all[item_idx] for item_idx in bandit_feedback_test['log'].toPandas()['user_idx'].values]"
   ]
  },
  {
   "cell_type": "code",
   "execution_count": 49,
   "id": "2d43489a-ff7c-4929-831a-e0ec92ede621",
   "metadata": {
    "tags": []
   },
   "outputs": [],
   "source": [
    "viewed_items_for_test = np.array(viewed_items_for_test)"
   ]
  },
  {
   "cell_type": "code",
   "execution_count": 50,
   "id": "812ea61e-d56b-47d5-8ba6-6c9d5161d6e2",
   "metadata": {
    "tags": []
   },
   "outputs": [
    {
     "data": {
      "text/plain": [
       "array([list([382, 1, 26, 121, 95, 53, 268, 1477, 1325, 1306, 819, 433, 117, 1021, 25, 0, 54, 884, 958, 591, 1390, 1424, 555, 155, 184, 16, 308, 669, 36, 83, 193, 702, 802, 1087, 149, 509, 118, 1031, 97, 146, 137, 349, 358, 38, 243, 400, 205, 1340, 216, 502, 181, 237, 212, 1357, 293, 1007, 206, 208, 141, 728, 102, 406, 14, 40, 78, 91, 46, 18, 887, 124, 410, 515, 301, 122, 79, 128, 81, 8, 830, 476, 1235, 1380, 687, 526, 387, 449, 1346, 957, 173, 1247, 614, 549, 187, 1114, 1038, 1382, 1409, 238, 62, 590, 316, 1470, 999, 618, 453, 1095, 353, 48, 23, 13, 9, 210, 629, 719, 1101, 579, 415, 800, 540, 1111, 788, 35, 798, 581, 481, 323, 659, 993, 1015, 1351, 76, 30, 74, 326, 552, 178, 1212, 550, 463, 457, 145, 200, 755, 152, 1110, 6, 1249, 1122, 103, 668, 204, 15, 235, 259, 870, 138, 244, 87, 370, 165, 1412, 133, 132, 1308, 383, 442, 1161, 228, 544, 312, 198, 267, 70, 1214, 179, 177, 368, 486, 219, 22, 167, 491, 1172]),\n",
       "       list([382, 1, 26, 121, 95, 53, 268, 1477, 1325, 1306, 819, 433, 117, 1021, 25, 0, 54, 884, 958, 591, 1390, 1424, 555, 155, 184, 16, 308, 669, 36, 83, 193, 702, 802, 1087, 149, 509, 118, 1031, 97, 146, 137, 349, 358, 38, 243, 400, 205, 1340, 216, 502, 181, 237, 212, 1357, 293, 1007, 206, 208, 141, 728, 102, 406, 14, 40, 78, 91, 46, 18, 887, 124, 410, 515, 301, 122, 79, 128, 81, 8, 830, 476, 1235, 1380, 687, 526, 387, 449, 1346, 957, 173, 1247, 614, 549, 187, 1114, 1038, 1382, 1409, 238, 62, 590, 316, 1470, 999, 618, 453, 1095, 353, 48, 23, 13, 9, 210, 629, 719, 1101, 579, 415, 800, 540, 1111, 788, 35, 798, 581, 481, 323, 659, 993, 1015, 1351, 76, 30, 74, 326, 552, 178, 1212, 550, 463, 457, 145, 200, 755, 152, 1110, 6, 1249, 1122, 103, 668, 204, 15, 235, 259, 870, 138, 244, 87, 370, 165, 1412, 133, 132, 1308, 383, 442, 1161, 228, 544, 312, 198, 267, 70, 1214, 179, 177, 368, 486, 219, 22, 167, 491, 1172]),\n",
       "       list([382, 1, 26, 121, 95, 53, 268, 1477, 1325, 1306, 819, 433, 117, 1021, 25, 0, 54, 884, 958, 591, 1390, 1424, 555, 155, 184, 16, 308, 669, 36, 83, 193, 702, 802, 1087, 149, 509, 118, 1031, 97, 146, 137, 349, 358, 38, 243, 400, 205, 1340, 216, 502, 181, 237, 212, 1357, 293, 1007, 206, 208, 141, 728, 102, 406, 14, 40, 78, 91, 46, 18, 887, 124, 410, 515, 301, 122, 79, 128, 81, 8, 830, 476, 1235, 1380, 687, 526, 387, 449, 1346, 957, 173, 1247, 614, 549, 187, 1114, 1038, 1382, 1409, 238, 62, 590, 316, 1470, 999, 618, 453, 1095, 353, 48, 23, 13, 9, 210, 629, 719, 1101, 579, 415, 800, 540, 1111, 788, 35, 798, 581, 481, 323, 659, 993, 1015, 1351, 76, 30, 74, 326, 552, 178, 1212, 550, 463, 457, 145, 200, 755, 152, 1110, 6, 1249, 1122, 103, 668, 204, 15, 235, 259, 870, 138, 244, 87, 370, 165, 1412, 133, 132, 1308, 383, 442, 1161, 228, 544, 312, 198, 267, 70, 1214, 179, 177, 368, 486, 219, 22, 167, 491, 1172]),\n",
       "       ...,\n",
       "       list([4, 143, 10, 44, 764, 1425, 137, 178, 450, 1405, 772, 149, 404, 397, 653, 1221, 20, 1098, 163, 64, 467, 57, 148, 37, 0, 2, 321, 22, 1008, 33, 9, 1191, 1404, 122, 175, 3, 195, 677, 66, 233, 696, 151, 1332, 462, 103, 80, 843, 358, 71, 451, 98, 489, 337, 116, 379, 556, 34, 568, 100, 945, 107, 698, 796, 941, 123, 153, 176, 114, 700, 140, 258, 891, 678, 591, 54, 1007, 83, 1456, 69, 217, 310, 1435, 36, 17, 94, 173, 614, 126, 230, 220, 16, 583, 61, 232, 872, 271, 695, 110, 757, 351, 1270, 802, 87, 39, 199, 1417, 121, 1389, 187, 238, 276, 179, 854, 24, 170, 592, 182, 702, 387, 675, 1030, 508, 185, 164, 224, 542, 805, 645, 127, 1041, 45, 1222, 808, 62, 90, 11, 95, 81, 690, 784, 1230, 1069, 7, 243, 131, 134, 1, 225, 144, 18, 50, 13, 922, 281, 331, 836, 791, 491, 253, 1258, 704, 336, 426, 375, 713, 174, 67, 1390, 240, 1158, 526, 676, 1118, 1487, 742, 1314, 1306, 1434, 815, 124, 117, 42, 89, 869, 416, 347, 747, 12, 1344, 154, 48, 633, 787, 8, 594, 1303, 816, 410, 318, 152, 915, 884, 1226, 46, 684, 985, 263, 361, 1367, 510, 478, 465, 303, 600]),\n",
       "       list([4, 143, 10, 44, 764, 1425, 137, 178, 450, 1405, 772, 149, 404, 397, 653, 1221, 20, 1098, 163, 64, 467, 57, 148, 37, 0, 2, 321, 22, 1008, 33, 9, 1191, 1404, 122, 175, 3, 195, 677, 66, 233, 696, 151, 1332, 462, 103, 80, 843, 358, 71, 451, 98, 489, 337, 116, 379, 556, 34, 568, 100, 945, 107, 698, 796, 941, 123, 153, 176, 114, 700, 140, 258, 891, 678, 591, 54, 1007, 83, 1456, 69, 217, 310, 1435, 36, 17, 94, 173, 614, 126, 230, 220, 16, 583, 61, 232, 872, 271, 695, 110, 757, 351, 1270, 802, 87, 39, 199, 1417, 121, 1389, 187, 238, 276, 179, 854, 24, 170, 592, 182, 702, 387, 675, 1030, 508, 185, 164, 224, 542, 805, 645, 127, 1041, 45, 1222, 808, 62, 90, 11, 95, 81, 690, 784, 1230, 1069, 7, 243, 131, 134, 1, 225, 144, 18, 50, 13, 922, 281, 331, 836, 791, 491, 253, 1258, 704, 336, 426, 375, 713, 174, 67, 1390, 240, 1158, 526, 676, 1118, 1487, 742, 1314, 1306, 1434, 815, 124, 117, 42, 89, 869, 416, 347, 747, 12, 1344, 154, 48, 633, 787, 8, 594, 1303, 816, 410, 318, 152, 915, 884, 1226, 46, 684, 985, 263, 361, 1367, 510, 478, 465, 303, 600]),\n",
       "       list([4, 143, 10, 44, 764, 1425, 137, 178, 450, 1405, 772, 149, 404, 397, 653, 1221, 20, 1098, 163, 64, 467, 57, 148, 37, 0, 2, 321, 22, 1008, 33, 9, 1191, 1404, 122, 175, 3, 195, 677, 66, 233, 696, 151, 1332, 462, 103, 80, 843, 358, 71, 451, 98, 489, 337, 116, 379, 556, 34, 568, 100, 945, 107, 698, 796, 941, 123, 153, 176, 114, 700, 140, 258, 891, 678, 591, 54, 1007, 83, 1456, 69, 217, 310, 1435, 36, 17, 94, 173, 614, 126, 230, 220, 16, 583, 61, 232, 872, 271, 695, 110, 757, 351, 1270, 802, 87, 39, 199, 1417, 121, 1389, 187, 238, 276, 179, 854, 24, 170, 592, 182, 702, 387, 675, 1030, 508, 185, 164, 224, 542, 805, 645, 127, 1041, 45, 1222, 808, 62, 90, 11, 95, 81, 690, 784, 1230, 1069, 7, 243, 131, 134, 1, 225, 144, 18, 50, 13, 922, 281, 331, 836, 791, 491, 253, 1258, 704, 336, 426, 375, 713, 174, 67, 1390, 240, 1158, 526, 676, 1118, 1487, 742, 1314, 1306, 1434, 815, 124, 117, 42, 89, 869, 416, 347, 747, 12, 1344, 154, 48, 633, 787, 8, 594, 1303, 816, 410, 318, 152, 915, 884, 1226, 46, 684, 985, 263, 361, 1367, 510, 478, 465, 303, 600])],\n",
       "      dtype=object)"
      ]
     },
     "execution_count": 50,
     "metadata": {},
     "output_type": "execute_result"
    }
   ],
   "source": [
    "viewed_items_for_test"
   ]
  },
  {
   "cell_type": "code",
   "execution_count": 51,
   "id": "8491304e-62f9-4925-b23c-0d4e50d29d64",
   "metadata": {
    "tags": []
   },
   "outputs": [],
   "source": [
    "estimated_rewards_by_reg_model = get_est_rewards_by_reg(bandit_feedback_train['n_actions'],\n",
    "                                                        dataset.len_list,\n",
    "                                                        bandit_feedback_train,\n",
    "                                                        bandit_feedback_test)"
   ]
  },
  {
   "cell_type": "code",
   "execution_count": 52,
   "id": "e0cb4398-8447-4896-99d8-77f462044161",
   "metadata": {
    "tags": []
   },
   "outputs": [],
   "source": [
    "param_borders_1 = {\n",
    "    \"coef\": [0, 10],\n",
    "}\n",
    "param_borders_2 = {\n",
    "    \"eps\": [-10, 10],\n",
    "    \"alpha\": [0.001, 10]\n",
    "}\n",
    "param_borders_3 = {\n",
    "    \"distribution\": [\"popular_based\", \"relevance\"],\n",
    "    \"alpha\": [-0.5, 1000],\n",
    "}\n",
    "param_borders_4 = {\n",
    "    \"nu\": [0.001, 10],\n",
    "    \"alpha\": [100, 1500]\n",
    "}\n",
    "\n",
    "model_1 = UCB(exploration_coef = 0.009720683864699153, sample = True, seed = 123)\n",
    "learner_1 = OBPOfflinePolicyLearner(n_actions=dataset.n_actions,\n",
    "                                    replay_model=model_1)\n",
    "\n",
    "model_2 = LinUCB(eps = -10, alpha = 10, regr_type = 'disjoint')\n",
    "learner_2 = OBPOfflinePolicyLearner(n_actions=dataset.n_actions,\n",
    "                                    replay_model=model_2)\n",
    "\n",
    "model_3 = RandomRec(distribution = 'relevance', alpha = 153.974492960275, seed=42)\n",
    "learner_3 = OBPOfflinePolicyLearner(n_actions=dataset.n_actions,\n",
    "                                    replay_model=model_3)\n",
    "\n",
    "model_4 = LinTS(nu = 9.585195706830213, alpha = 140.03084149742904, regr_type = 'disjoint')\n",
    "learner_4 = OBPOfflinePolicyLearner(n_actions=dataset.n_actions,\n",
    "                                    replay_model=model_4)"
   ]
  },
  {
   "cell_type": "code",
   "execution_count": 53,
   "id": "e9780be6-82ec-42dc-814a-9436d47869ab",
   "metadata": {
    "tags": []
   },
   "outputs": [],
   "source": [
    "# bandit_feedback_optimize = bandit_subset([0, 100000], bandit_feedback_train)\n",
    "# learner_1.optimize(bandit_feedback_optimize, val_size=0.3, param_borders=param_borders_1, budget=20)"
   ]
  },
  {
   "cell_type": "code",
   "execution_count": 54,
   "id": "a8ba96c9-f723-4245-aae4-8dc5154d6a00",
   "metadata": {
    "tags": []
   },
   "outputs": [],
   "source": [
    "def get_dist(learner):\n",
    "    all_action_dist = np.zeros((bandit_feedback_test[\"n_rounds\"], bandit_feedback_test[\"n_actions\"], 1))\n",
    "    if isinstance(learner.replay_model, (LinUCB, LinTS)):\n",
    "        log_distinct = bandit_feedback_test['log'].toPandas().drop_duplicates(subset=[\"user_idx\"], keep='first')\n",
    "        users_all = bandit_feedback_test['log'].toPandas()['user_idx'].tolist()\n",
    "        batch_size = 10\n",
    "        num_batchs = log_distinct.shape[0] // batch_size\n",
    "        for batch_idx in tqdm(range(num_batchs+1)):\n",
    "            j = min((batch_idx+1)*batch_size, log_distinct.shape[0])\n",
    "            if j == batch_idx*batch_size:\n",
    "                break\n",
    "            log_subset = log_distinct.iloc[batch_idx*batch_size: j]\n",
    "            n_rounds = log_subset.shape[0]\n",
    "            \n",
    "            action_dist = learner.predict(n_rounds, convert2spark(log_subset).select('user_idx'))\n",
    "\n",
    "            users_distinct = log_subset['user_idx'].tolist()\n",
    "\n",
    "            user2ind = {}\n",
    "            for i in range(n_rounds):\n",
    "                user2ind[users_distinct[i]] = i\n",
    "\n",
    "            for i in range(bandit_feedback_test[\"n_rounds\"]):\n",
    "                if users_all[i] in users_distinct:\n",
    "                    all_action_dist[i] = action_dist[user2ind[users_all[i]]]\n",
    "\n",
    "    else:\n",
    "        batch_size = 300\n",
    "        num_batchs = bandit_feedback_test[\"n_rounds\"] // batch_size\n",
    "        for batch_idx in tqdm(range(num_batchs+1)):\n",
    "            j = min((batch_idx+1)*batch_size, bandit_feedback_test[\"n_rounds\"])\n",
    "            if j == batch_idx*batch_size:\n",
    "                break\n",
    "            bandit_feedback_subset = bandit_subset([batch_idx*batch_size, j], bandit_feedback_test) #The first parameter is a slice of subset [a, b]\n",
    "            action_dist = learner.predict(bandit_feedback_subset[\"n_rounds\"], bandit_feedback_subset[\"log\"].select('user_idx'))\n",
    "            all_action_dist[batch_idx*batch_size:j] = action_dist\n",
    "    return all_action_dist"
   ]
  },
  {
   "cell_type": "code",
   "execution_count": 55,
   "id": "084f97b3",
   "metadata": {},
   "outputs": [
    {
     "name": "stderr",
     "output_type": "stream",
     "text": [
      "24/10/21 18:53:48 WARN HintErrorLogger: A join hint (strategy=broadcast) is specified but it is not part of a join relation.\n",
      "24/10/21 18:53:48 WARN HintErrorLogger: A join hint (strategy=broadcast) is specified but it is not part of a join relation.\n",
      "24/10/21 18:53:48 WARN HintErrorLogger: A join hint (strategy=broadcast) is specified but it is not part of a join relation.\n",
      "24/10/21 18:53:48 WARN HintErrorLogger: A join hint (strategy=broadcast) is specified but it is not part of a join relation.\n",
      "100%|██████████| 314/314 [00:54<00:00,  5.79it/s]\n"
     ]
    }
   ],
   "source": [
    "learner_1.fit(bandit_feedback_train)\n",
    "all_action_dist_1 = get_dist(learner_1)"
   ]
  },
  {
   "cell_type": "code",
   "execution_count": 56,
   "id": "43374978-8ea7-4026-8737-9c9043b3251e",
   "metadata": {
    "tags": []
   },
   "outputs": [
    {
     "name": "stderr",
     "output_type": "stream",
     "text": [
      "24/10/21 18:55:16 WARN HintErrorLogger: A join hint (strategy=broadcast) is specified but it is not part of a join relation.\n",
      "24/10/21 18:55:16 WARN HintErrorLogger: A join hint (strategy=broadcast) is specified but it is not part of a join relation.\n",
      "24/10/21 18:55:16 WARN HintErrorLogger: A join hint (strategy=broadcast) is specified but it is not part of a join relation.\n",
      "24/10/21 18:55:16 WARN HintErrorLogger: A join hint (strategy=broadcast) is specified but it is not part of a join relation.\n",
      "100%|██████████| 39/39 [00:10<00:00,  3.55it/s]\n"
     ]
    }
   ],
   "source": [
    "learner_2.fit(bandit_feedback_train)\n",
    "all_action_dist_2 = get_dist(learner_2)"
   ]
  },
  {
   "cell_type": "code",
   "execution_count": 57,
   "id": "1463548b-a63e-4a18-b14f-563d343bc99a",
   "metadata": {
    "tags": []
   },
   "outputs": [
    {
     "name": "stderr",
     "output_type": "stream",
     "text": [
      "24/10/21 18:55:31 WARN HintErrorLogger: A join hint (strategy=broadcast) is specified but it is not part of a join relation.\n",
      "24/10/21 18:55:31 WARN HintErrorLogger: A join hint (strategy=broadcast) is specified but it is not part of a join relation.\n",
      "24/10/21 18:55:32 WARN HintErrorLogger: A join hint (strategy=broadcast) is specified but it is not part of a join relation.\n",
      "24/10/21 18:55:32 WARN HintErrorLogger: A join hint (strategy=broadcast) is specified but it is not part of a join relation.\n",
      "100%|██████████| 314/314 [00:53<00:00,  5.92it/s]\n"
     ]
    }
   ],
   "source": [
    "learner_3.fit(bandit_feedback_train)\n",
    "all_action_dist_3 = get_dist(learner_3)"
   ]
  },
  {
   "cell_type": "code",
   "execution_count": 58,
   "id": "ba591240-3774-4d1d-b561-f8d029e1ae44",
   "metadata": {
    "tags": []
   },
   "outputs": [],
   "source": [
    "np.save(f'UCB_policy', all_action_dist_1)\n",
    "np.save(f'Lin_UCB_policy', all_action_dist_2)\n",
    "np.save(f'Random_policy', all_action_dist_3)"
   ]
  },
  {
   "cell_type": "code",
   "execution_count": 60,
   "id": "61b31410",
   "metadata": {},
   "outputs": [
    {
     "name": "stdout",
     "output_type": "stream",
     "text": [
      "momory usage: 26.7\n"
     ]
    }
   ],
   "source": [
    "print('momory usage:', psutil.virtual_memory().percent)"
   ]
  },
  {
   "cell_type": "code",
   "execution_count": 69,
   "id": "983d2a0a-0e8d-42e1-aef7-31fe343a2767",
   "metadata": {
    "tags": []
   },
   "outputs": [
    {
     "name": "stderr",
     "output_type": "stream",
     "text": [
      "24/10/21 19:05:17 WARN TaskSetManager: Stage 18357 contains a task of very large size (1026 KiB). The maximum recommended task size is 1000 KiB.\n"
     ]
    }
   ],
   "source": [
    "new_log = dataset.log.toPandas().copy()\n",
    "map_pop_dist = new_log['item_idx'].value_counts(normalize=True)\n",
    "pop_dist = map_pop_dist.loc[dataset.action].values\n",
    "pop_dist_test = map_pop_dist.loc[bandit_feedback_test['action']].values"
   ]
  },
  {
   "cell_type": "code",
   "execution_count": 70,
   "id": "83ed4fa1-56c5-4cd5-9136-d90303454531",
   "metadata": {
    "tags": []
   },
   "outputs": [],
   "source": [
    "any_dist = np.random.rand(bandit_feedback_test['n_actions'])\n",
    "any_dist = np.exp(any_dist)/ np.exp(any_dist).sum()\n",
    "any_dist_test = np.array([any_dist[i] for i in bandit_feedback_test['action']])\n",
    "any_dist_train = np.array([any_dist[i] for i in dataset.action])"
   ]
  },
  {
   "cell_type": "code",
   "execution_count": 71,
   "id": "113294fa-2b2e-4cf5-ab6c-f8044ab9e723",
   "metadata": {
    "tags": []
   },
   "outputs": [
    {
     "data": {
      "text/plain": [
       "(313742,)"
      ]
     },
     "execution_count": 71,
     "metadata": {},
     "output_type": "execute_result"
    }
   ],
   "source": [
    "any_dist_train.shape"
   ]
  },
  {
   "cell_type": "code",
   "execution_count": 64,
   "id": "ccd4ffcb-e0eb-4a2b-99e6-f10eb66bb5cc",
   "metadata": {
    "tags": []
   },
   "outputs": [],
   "source": [
    "import torch\n",
    "def CrossEntropyLoss_my(pred, labels, kl_dist, pop_dist, alpha):\n",
    "    log_loss = torch.nn.functional.cross_entropy(pred,labels)\n",
    "    probs = torch.nn.functional.softmax(pred, dim=1)\n",
    "    my_reg = (((kl_dist/ probs)[np.arange(labels.shape[0]), labels].sum() - 1)**2 + ((pop_dist / probs[np.arange(labels.shape[0]), labels]).sum() - 1)**2)/(2 * labels.shape[0]**2)\n",
    "    # kl_reg = torch.mean(torch.sum((kl_dist * torch.log(kl_dist/torch.nn.functional.softmax(pred, dim=1))), dim=1))\n",
    "    return log_loss + alpha * my_reg\n",
    "\n",
    "def CrossEntropyLoss_oh(pred, labels, kl_dist, pop_dist, alpha):\n",
    "    log_loss = torch.nn.functional.cross_entropy(pred,labels)\n",
    "    kl_reg = torch.mean(torch.sum((kl_dist * torch.log(kl_dist/torch.nn.functional.softmax(pred, dim=1))), dim=1))\n",
    "    return log_loss + alpha * kl_reg\n",
    "\n",
    "class my_Model(torch.nn.Module):\n",
    "    def __init__(self,cnt_feat, num_classes, hidden_size):\n",
    "        super().__init__()\n",
    "        self.lin = torch.nn.Sequential(\n",
    "            torch.nn.Linear(cnt_feat, num_classes, bias=True)           \n",
    "        )\n",
    "    def forward(self, x):\n",
    "        return self.lin(x)\n",
    "\n",
    "class Behavior_Clone_Model:\n",
    "    def __init__(self, cnt_feat, num_classes, hidden_size, type_loss, lr, n_epochs, batch_size, alpha):\n",
    "        self.n_epochs = n_epochs  # epochs\n",
    "        self.lr = lr  # learning rate\n",
    "        self.batch_size = batch_size #batch_size\n",
    "        self.alpha = alpha #param of regul\n",
    "        # model\n",
    "        self.model = my_Model(cnt_feat, num_classes, hidden_size)\n",
    "        self.num_classes = num_classes\n",
    "\n",
    "    def fit(self, x_train, Y_train, x_test, Y_test, pop_dist, pop_dist_test):\n",
    "        # training graph and optimization\n",
    "        optimizer = torch.optim.Adam(self.model.parameters(), lr=self.lr)\n",
    "        # loss and accuracy storage\n",
    "        cnt_batch_per_epoch = Y_train.size//self.batch_size\n",
    "        self.model.train()\n",
    "        for epoch in range(self.n_epochs*cnt_batch_per_epoch + 1):\n",
    "            # randomic batch definition\n",
    "            rbatch = np.random.choice(Y_train.size, size=self.batch_size)\n",
    "            # variables initialization\n",
    "            X = torch.autograd.Variable(torch.FloatTensor(x_train[rbatch]))\n",
    "            Y = torch.LongTensor(Y_train[rbatch].astype(np.int))\n",
    "            dist_batch = torch.FloatTensor(np.ones((self.batch_size, self.num_classes))* (1/self.num_classes))\n",
    "            pop_dist_batch = torch.FloatTensor(pop_dist[rbatch])\n",
    "            # training, metrics and storage\n",
    "            optimizer.zero_grad()\n",
    "            pred = self.model(X)\n",
    "            L = CrossEntropyLoss_my(pred, Y, dist_batch, pop_dist_batch, self.alpha)\n",
    "            L.backward()\n",
    "            optimizer.step()\n",
    "\n",
    "            if epoch%1000 == 0:\n",
    "                self.model.eval()\n",
    "                with torch.no_grad():\n",
    "                    X_ = torch.autograd.Variable(torch.FloatTensor(x_test))\n",
    "                    pred_test = self.model(X_)\n",
    "                    Y_ = torch.LongTensor(Y_test)\n",
    "                    dist_test = torch.FloatTensor(np.ones((Y_.shape[0], self.num_classes))* (1/self.num_classes))\n",
    "                    pop_test = torch.FloatTensor(pop_dist_test)\n",
    "                    loss_test = CrossEntropyLoss_my(pred_test, Y_, dist_test, pop_test, self.alpha)\n",
    "                    print('epoch', epoch, 'ce_loss_test: ', loss_test.detach())\n",
    "                print('epoch: {0:04d} | loss: {1:.3f}'.format(epoch, L))\n",
    "    \n",
    "    def predict_proba(self, x_test, Y_test):\n",
    "        self.model.eval()\n",
    "        with torch.no_grad():\n",
    "            X_ = torch.autograd.Variable(torch.FloatTensor(x_test))\n",
    "            probs = torch.nn.functional.softmax(self.model(X_), dim=1).detach().numpy()\n",
    "        print('acc: ',(np.argmax(probs, axis = 1) == Y_test).mean())\n",
    "        return probs[np.arange(Y_test.size), Y_test]"
   ]
  },
  {
   "cell_type": "code",
   "execution_count": 65,
   "id": "b9bdd00f-9fb3-4da4-ab1e-2448c93c2b35",
   "metadata": {
    "tags": []
   },
   "outputs": [],
   "source": [
    "num_polices = 25"
   ]
  },
  {
   "cell_type": "code",
   "execution_count": 66,
   "id": "54041c59-e600-47b6-8220-5d8b0feab6e5",
   "metadata": {
    "collapsed": true,
    "jupyter": {
     "outputs_hidden": true
    },
    "tags": []
   },
   "outputs": [
    {
     "name": "stdout",
     "output_type": "stream",
     "text": [
      "0 start\n",
      "0 start\n",
      "epoch 0 ce_loss_test:  tensor(7.3368)\n",
      "epoch: 0000 | loss: 7.325\n",
      "epoch 1000 ce_loss_test:  tensor(7.3144)\n",
      "epoch: 1000 | loss: 7.351\n",
      "epoch 2000 ce_loss_test:  tensor(7.2984)\n",
      "epoch: 2000 | loss: 7.290\n",
      "epoch 3000 ce_loss_test:  tensor(7.2855)\n",
      "epoch: 3000 | loss: 7.304\n",
      "epoch 4000 ce_loss_test:  tensor(7.2746)\n",
      "epoch: 4000 | loss: 7.255\n",
      "epoch 5000 ce_loss_test:  tensor(7.2651)\n",
      "epoch: 5000 | loss: 7.248\n",
      "epoch 6000 ce_loss_test:  tensor(7.2568)\n",
      "epoch: 6000 | loss: 7.210\n",
      "epoch 7000 ce_loss_test:  tensor(7.2496)\n",
      "epoch: 7000 | loss: 7.231\n",
      "epoch 8000 ce_loss_test:  tensor(7.2435)\n",
      "epoch: 8000 | loss: 7.198\n",
      "epoch 9000 ce_loss_test:  tensor(7.2380)\n",
      "epoch: 9000 | loss: 7.231\n",
      "epoch 10000 ce_loss_test:  tensor(7.2331)\n",
      "epoch: 10000 | loss: 7.244\n",
      "epoch 11000 ce_loss_test:  tensor(7.2290)\n",
      "epoch: 11000 | loss: 7.187\n",
      "epoch 12000 ce_loss_test:  tensor(7.2254)\n",
      "epoch: 12000 | loss: 7.217\n",
      "epoch 13000 ce_loss_test:  tensor(7.2223)\n",
      "epoch: 13000 | loss: 7.170\n",
      "epoch 14000 ce_loss_test:  tensor(7.2197)\n",
      "epoch: 14000 | loss: 7.283\n",
      "epoch 15000 ce_loss_test:  tensor(7.2174)\n",
      "epoch: 15000 | loss: 7.223\n"
     ]
    },
    {
     "ename": "RuntimeError",
     "evalue": "Parent directory ./models_pi_0_without_id_my_reg_mean_any_dist does not exist.",
     "output_type": "error",
     "traceback": [
      "\u001b[0;31m---------------------------------------------------------------------------\u001b[0m",
      "\u001b[0;31mRuntimeError\u001b[0m                              Traceback (most recent call last)",
      "Cell \u001b[0;32mIn[66], line 12\u001b[0m\n\u001b[1;32m     10\u001b[0m     b_model \u001b[38;5;241m=\u001b[39m Behavior_Clone_Model(context_train\u001b[38;5;241m.\u001b[39mshape[\u001b[38;5;241m1\u001b[39m], bandit_feedback_train[\u001b[38;5;124m'\u001b[39m\u001b[38;5;124mn_actions\u001b[39m\u001b[38;5;124m'\u001b[39m], \u001b[38;5;241m3000\u001b[39m, \u001b[38;5;124m'\u001b[39m\u001b[38;5;124mkl\u001b[39m\u001b[38;5;124m'\u001b[39m, \u001b[38;5;241m1e-4\u001b[39m, \u001b[38;5;241m4\u001b[39m, \u001b[38;5;241m64\u001b[39m, alpha)\n\u001b[1;32m     11\u001b[0m     b_model\u001b[38;5;241m.\u001b[39mfit(context_train[bootstrap_idx], action_train[bootstrap_idx], bandit_feedback_test[\u001b[38;5;124m'\u001b[39m\u001b[38;5;124mcontext\u001b[39m\u001b[38;5;124m'\u001b[39m][:\u001b[38;5;241m10000\u001b[39m], bandit_feedback_test[\u001b[38;5;124m'\u001b[39m\u001b[38;5;124maction\u001b[39m\u001b[38;5;124m'\u001b[39m][:\u001b[38;5;241m10000\u001b[39m], any_dist_train[bootstrap_idx], any_dist_test[:\u001b[38;5;241m10000\u001b[39m])\n\u001b[0;32m---> 12\u001b[0m     \u001b[43mtorch\u001b[49m\u001b[38;5;241;43m.\u001b[39;49m\u001b[43msave\u001b[49m\u001b[43m(\u001b[49m\u001b[43mb_model\u001b[49m\u001b[38;5;241;43m.\u001b[39;49m\u001b[43mmodel\u001b[49m\u001b[38;5;241;43m.\u001b[39;49m\u001b[43mstate_dict\u001b[49m\u001b[43m(\u001b[49m\u001b[43m)\u001b[49m\u001b[43m,\u001b[49m\u001b[43m \u001b[49m\u001b[38;5;124;43mf\u001b[39;49m\u001b[38;5;124;43m'\u001b[39;49m\u001b[38;5;124;43m./models_pi_0_without_id_my_reg_mean_any_dist/model_\u001b[39;49m\u001b[38;5;132;43;01m{\u001b[39;49;00m\u001b[43mi\u001b[49m\u001b[38;5;132;43;01m}\u001b[39;49;00m\u001b[38;5;124;43m_alpha_\u001b[39;49m\u001b[38;5;132;43;01m{\u001b[39;49;00m\u001b[43malpha\u001b[49m\u001b[38;5;132;43;01m}\u001b[39;49;00m\u001b[38;5;124;43m.pt\u001b[39;49m\u001b[38;5;124;43m'\u001b[39;49m\u001b[43m)\u001b[49m\n\u001b[1;32m     13\u001b[0m     behavior_policies\u001b[38;5;241m.\u001b[39mappend(b_model\u001b[38;5;241m.\u001b[39mpredict_proba(bandit_feedback_test[\u001b[38;5;124m'\u001b[39m\u001b[38;5;124mcontext\u001b[39m\u001b[38;5;124m'\u001b[39m], bandit_feedback_test[\u001b[38;5;124m'\u001b[39m\u001b[38;5;124maction\u001b[39m\u001b[38;5;124m'\u001b[39m]))\n\u001b[1;32m     14\u001b[0m behavior_policies_np \u001b[38;5;241m=\u001b[39m np\u001b[38;5;241m.\u001b[39marray(behavior_policies)\n",
      "File \u001b[0;32m~/Desktop/RePlayHDILab2024/.conda/lib/python3.8/site-packages/torch/serialization.py:422\u001b[0m, in \u001b[0;36msave\u001b[0;34m(obj, f, pickle_module, pickle_protocol, _use_new_zipfile_serialization)\u001b[0m\n\u001b[1;32m    419\u001b[0m _check_dill_version(pickle_module)\n\u001b[1;32m    421\u001b[0m \u001b[38;5;28;01mif\u001b[39;00m _use_new_zipfile_serialization:\n\u001b[0;32m--> 422\u001b[0m     \u001b[38;5;28;01mwith\u001b[39;00m \u001b[43m_open_zipfile_writer\u001b[49m\u001b[43m(\u001b[49m\u001b[43mf\u001b[49m\u001b[43m)\u001b[49m \u001b[38;5;28;01mas\u001b[39;00m opened_zipfile:\n\u001b[1;32m    423\u001b[0m         _save(obj, opened_zipfile, pickle_module, pickle_protocol)\n\u001b[1;32m    424\u001b[0m         \u001b[38;5;28;01mreturn\u001b[39;00m\n",
      "File \u001b[0;32m~/Desktop/RePlayHDILab2024/.conda/lib/python3.8/site-packages/torch/serialization.py:309\u001b[0m, in \u001b[0;36m_open_zipfile_writer\u001b[0;34m(name_or_buffer)\u001b[0m\n\u001b[1;32m    307\u001b[0m \u001b[38;5;28;01melse\u001b[39;00m:\n\u001b[1;32m    308\u001b[0m     container \u001b[38;5;241m=\u001b[39m _open_zipfile_writer_buffer\n\u001b[0;32m--> 309\u001b[0m \u001b[38;5;28;01mreturn\u001b[39;00m \u001b[43mcontainer\u001b[49m\u001b[43m(\u001b[49m\u001b[43mname_or_buffer\u001b[49m\u001b[43m)\u001b[49m\n",
      "File \u001b[0;32m~/Desktop/RePlayHDILab2024/.conda/lib/python3.8/site-packages/torch/serialization.py:287\u001b[0m, in \u001b[0;36m_open_zipfile_writer_file.__init__\u001b[0;34m(self, name)\u001b[0m\n\u001b[1;32m    286\u001b[0m \u001b[38;5;28;01mdef\u001b[39;00m \u001b[38;5;21m__init__\u001b[39m(\u001b[38;5;28mself\u001b[39m, name) \u001b[38;5;241m-\u001b[39m\u001b[38;5;241m>\u001b[39m \u001b[38;5;28;01mNone\u001b[39;00m:\n\u001b[0;32m--> 287\u001b[0m     \u001b[38;5;28msuper\u001b[39m(_open_zipfile_writer_file, \u001b[38;5;28mself\u001b[39m)\u001b[38;5;241m.\u001b[39m\u001b[38;5;21m__init__\u001b[39m(\u001b[43mtorch\u001b[49m\u001b[38;5;241;43m.\u001b[39;49m\u001b[43m_C\u001b[49m\u001b[38;5;241;43m.\u001b[39;49m\u001b[43mPyTorchFileWriter\u001b[49m\u001b[43m(\u001b[49m\u001b[38;5;28;43mstr\u001b[39;49m\u001b[43m(\u001b[49m\u001b[43mname\u001b[49m\u001b[43m)\u001b[49m\u001b[43m)\u001b[49m)\n",
      "\u001b[0;31mRuntimeError\u001b[0m: Parent directory ./models_pi_0_without_id_my_reg_mean_any_dist does not exist."
     ]
    }
   ],
   "source": [
    "context_train = dataset.context\n",
    "action_train = dataset.action\n",
    "size_subset = int(0.8*context_train.shape[0])\n",
    "for alpha in [0,  1e-2, 1e-1, 1, 5, 10]:\n",
    "    behavior_policies = []\n",
    "    print(alpha, 'start')\n",
    "    for i in range(num_polices):\n",
    "        print(i,\"start\")\n",
    "        bootstrap_idx = np.random.choice(context_train.shape[0], size=size_subset)\n",
    "        b_model = Behavior_Clone_Model(context_train.shape[1], bandit_feedback_train['n_actions'], 3000, 'kl', 1e-4, 4, 64, alpha)\n",
    "        b_model.fit(context_train[bootstrap_idx], action_train[bootstrap_idx], bandit_feedback_test['context'][:10000], bandit_feedback_test['action'][:10000], any_dist_train[bootstrap_idx], any_dist_test[:10000])\n",
    "        torch.save(b_model.model.state_dict(), f'./models_pi_0_without_id_my_reg_mean_any_dist/model_{i}_alpha_{alpha}.pt')\n",
    "        behavior_policies.append(b_model.predict_proba(bandit_feedback_test['context'], bandit_feedback_test['action']))\n",
    "    behavior_policies_np = np.array(behavior_policies)\n",
    "    np.save(f'behavior_policies_full_without_id_my_reg_mean_any_dist_np_25_alpha={alpha}', behavior_policies_np)"
   ]
  },
  {
   "cell_type": "code",
   "execution_count": 24,
   "id": "f5b0935b-ba37-4014-8ecc-7fbfd2243327",
   "metadata": {},
   "outputs": [],
   "source": [
    "def ipw(pi_e, pi_0, r, r_hat):\n",
    "    weights = pi_e/pi_0\n",
    "    return weights * r\n",
    "\n",
    "def snipw(pi_e, pi_0, r, r_hat):\n",
    "    weights = pi_e/pi_0\n",
    "    weights = weights/weights.mean()\n",
    "    return weights * r\n",
    "    \n",
    "def sndr(pi_e, pi_0, r, r_hat, dm):\n",
    "    weights = pi_e/pi_0\n",
    "    weights = weights/weights.mean()\n",
    "    return dm + weights*(r-r_hat)\n",
    "\n",
    "def dm(dm):\n",
    "    return dm\n",
    "    "
   ]
  },
  {
   "cell_type": "code",
   "execution_count": 92,
   "id": "616b5d36-d06f-4051-9b06-da0a0c7eb3e5",
   "metadata": {
    "tags": []
   },
   "outputs": [],
   "source": [
    "r_hat = estimated_rewards_by_reg_model[np.arange(bandit_feedback_test['action'].shape[0]), bandit_feedback_test['action'], 0]"
   ]
  },
  {
   "cell_type": "code",
   "execution_count": 93,
   "id": "2638db2c-7aa3-48c1-9b38-f5157f071b4f",
   "metadata": {
    "tags": []
   },
   "outputs": [],
   "source": [
    "DM_method_1 = (estimated_rewards_by_reg_model * all_action_dist_1).sum(axis = 1).squeeze()\n",
    "DM_method_2 = (estimated_rewards_by_reg_model * all_action_dist_2).sum(axis = 1).squeeze()\n",
    "DM_method_3 = (estimated_rewards_by_reg_model * all_action_dist_3).sum(axis = 1).squeeze()"
   ]
  },
  {
   "cell_type": "code",
   "execution_count": 130,
   "id": "c0d228d7-5ec1-4fea-ae34-0aba1954c3b7",
   "metadata": {
    "tags": []
   },
   "outputs": [],
   "source": [
    "# np.save(f'DM_method_1', DM_method_1)\n",
    "# np.save(f'DM_method_2', DM_method_2)\n",
    "# np.save(f'DM_method_3', DM_method_3)"
   ]
  },
  {
   "cell_type": "code",
   "execution_count": 91,
   "id": "a0104857-a9fd-4cec-a00b-8ae628c99a9c",
   "metadata": {
    "tags": []
   },
   "outputs": [],
   "source": [
    "all_action_dist_1 = np.load(\"UCB_policy.npy\")\n",
    "all_action_dist_2 = np.load(\"Lin_UCB_policy.npy\")\n",
    "all_action_dist_3 = np.load(\"Random_policy.npy\")"
   ]
  },
  {
   "cell_type": "code",
   "execution_count": 113,
   "id": "8fae6e03-f1e0-4909-bf80-04c5d8ff73a9",
   "metadata": {
    "tags": []
   },
   "outputs": [
    {
     "data": {
      "text/plain": [
       "array([0.00079178, 0.00079155, 0.00077414, ..., 0.00076017, 0.00059812,\n",
       "       0.00050405])"
      ]
     },
     "execution_count": 113,
     "metadata": {},
     "output_type": "execute_result"
    }
   ],
   "source": [
    "all_action_dist_1[0, : ,0]"
   ]
  },
  {
   "cell_type": "code",
   "execution_count": 95,
   "id": "4131427e-e1e3-4cf5-80a5-d0eac7888cdf",
   "metadata": {
    "tags": []
   },
   "outputs": [],
   "source": [
    "all_action_dist_1_new = all_action_dist_1.copy()\n",
    "for i in range(all_action_dist_1.shape[0]):\n",
    "    all_action_dist_1_new[i][viewed_items_for_test[i]] = 0\n",
    "    all_action_dist_1_new[i]/= all_action_dist_1_new[i].sum()"
   ]
  },
  {
   "cell_type": "code",
   "execution_count": 96,
   "id": "531ecb9a-4bb4-4286-86f3-444764566d02",
   "metadata": {
    "tags": []
   },
   "outputs": [],
   "source": [
    "all_action_dist_2_new = all_action_dist_2.copy()\n",
    "for i in range(all_action_dist_2.shape[0]):\n",
    "    all_action_dist_2_new[i][viewed_items_for_test[i]] = 0\n",
    "    all_action_dist_2_new[i]/= all_action_dist_2_new[i].sum()"
   ]
  },
  {
   "cell_type": "code",
   "execution_count": 97,
   "id": "f44f8de1-f700-4ebf-8f23-6558ead82236",
   "metadata": {
    "tags": []
   },
   "outputs": [],
   "source": [
    "all_action_dist_3_new = all_action_dist_3.copy()\n",
    "for i in range(all_action_dist_3.shape[0]):\n",
    "    all_action_dist_3_new[i][viewed_items_for_test[i]] = 0\n",
    "    all_action_dist_3_new[i]/= all_action_dist_3_new[i].sum()"
   ]
  },
  {
   "cell_type": "code",
   "execution_count": 98,
   "id": "7a2a7bc4-51c2-4e51-8129-66f39715651d",
   "metadata": {
    "tags": []
   },
   "outputs": [],
   "source": [
    "all_action_dist_1_top_10 = all_action_dist_1_new.copy()\n",
    "idx_1 = np.argsort(-all_action_dist_1_top_10, axis = 1)\n",
    "for i in range(all_action_dist_1_top_10.shape[0]):\n",
    "    all_action_dist_1_top_10[i][idx_1[i][10:]] = 0\n",
    "    all_action_dist_1_top_10[i] /= all_action_dist_1_top_10[i].sum()"
   ]
  },
  {
   "cell_type": "code",
   "execution_count": 99,
   "id": "467a1708-fe3c-4a4b-bd5d-7e575bf4610d",
   "metadata": {
    "tags": []
   },
   "outputs": [],
   "source": [
    "all_action_dist_2_top_10 = all_action_dist_2_new.copy()\n",
    "idx_2 = np.argsort(-all_action_dist_2_top_10, axis = 1)\n",
    "for i in range(all_action_dist_2_top_10.shape[0]):\n",
    "    all_action_dist_2_top_10[i][idx_2[i][10:]] = 0\n",
    "    all_action_dist_2_top_10[i] /= all_action_dist_2_top_10[i].sum()"
   ]
  },
  {
   "cell_type": "code",
   "execution_count": 100,
   "id": "22d4b889-f0db-4d3b-8c88-65d935da345c",
   "metadata": {
    "tags": []
   },
   "outputs": [],
   "source": [
    "all_action_dist_3_top_10 = all_action_dist_3_new.copy()\n",
    "idx_3 = np.argsort(-all_action_dist_3_top_10, axis = 1)\n",
    "for i in range(all_action_dist_3_top_10.shape[0]):\n",
    "    all_action_dist_3_top_10[i][idx_3[i][10:]] = 0\n",
    "    all_action_dist_3_top_10[i] /= all_action_dist_3_top_10[i].sum()"
   ]
  },
  {
   "cell_type": "code",
   "execution_count": 165,
   "id": "18a5bdbd-a223-4992-bc29-f62d94795d7f",
   "metadata": {
    "tags": []
   },
   "outputs": [
    {
     "data": {
      "text/plain": [
       "1.0"
      ]
     },
     "execution_count": 165,
     "metadata": {},
     "output_type": "execute_result"
    }
   ],
   "source": [
    "all_action_dist_1_top_10[5].sum()"
   ]
  },
  {
   "cell_type": "code",
   "execution_count": 101,
   "id": "32049fae-770d-4d70-92c9-d93ad2f067d4",
   "metadata": {
    "tags": []
   },
   "outputs": [],
   "source": [
    "DM_method_1_new = (estimated_rewards_by_reg_model * all_action_dist_1_new).sum(axis = 1).squeeze()\n",
    "DM_method_2_new = (estimated_rewards_by_reg_model * all_action_dist_2_new).sum(axis = 1).squeeze()\n",
    "DM_method_3_new = (estimated_rewards_by_reg_model * all_action_dist_3_new).sum(axis = 1).squeeze()"
   ]
  },
  {
   "cell_type": "code",
   "execution_count": 102,
   "id": "489ac6f5-62c7-4afd-bce6-fa74a683ea6d",
   "metadata": {
    "tags": []
   },
   "outputs": [],
   "source": [
    "DM_method_1_top_10 = (estimated_rewards_by_reg_model * all_action_dist_1_top_10).sum(axis = 1).squeeze()\n",
    "DM_method_2_top_10 = (estimated_rewards_by_reg_model * all_action_dist_2_top_10).sum(axis = 1).squeeze()\n",
    "DM_method_3_top_10 = (estimated_rewards_by_reg_model * all_action_dist_3_top_10).sum(axis = 1).squeeze()"
   ]
  },
  {
   "cell_type": "code",
   "execution_count": 67,
   "id": "6ee56b97-56f6-4334-9218-57bc813b239b",
   "metadata": {
    "tags": []
   },
   "outputs": [],
   "source": [
    "# DM_method_1 = np.load('DM_method_1.npy')\n",
    "# DM_method_2 = np.load('DM_method_2.npy')\n",
    "# DM_method_3 = np.load('DM_method_3.npy')"
   ]
  },
  {
   "cell_type": "code",
   "execution_count": 123,
   "id": "72c9d481-81e0-455c-9c92-f723aa7104b5",
   "metadata": {},
   "outputs": [],
   "source": [
    "def run_exp(all_action_dist, DM_method):\n",
    "    metrics = ['ipw', 'snipw', 'sndr', 'dm']\n",
    "    pi_e = all_action_dist[np.arange(bandit_feedback_test['action'].shape[0]), bandit_feedback_test['action'], 0].copy()\n",
    "    cnt_inner_bootstraps = 100\n",
    "    _alpha = 0.05\n",
    "    CIs = []\n",
    "    prefixs = ['behavior_policies_full_without_id_my_reg_mean_any_dist']#['behavior_policies_full', 'behavior_policies_full_without_id_my_reg_mean', 'behavior_policies_full_without_id', 'behavior_policies_full_without_id_my_reg_mean_any_dist']\n",
    "    for n_size in [10000, 20000, 50000, 70000, 94124]:\n",
    "        res = {}\n",
    "        pi_e_subset = pi_e[:n_size].copy()\n",
    "        r_hat_subset = r_hat[:n_size].copy()\n",
    "        r_subset = bandit_feedback_test['reward'][:n_size].copy()\n",
    "        dm_subset = DM_method[:n_size].copy()\n",
    "        stats = {}\n",
    "        print(n_size)\n",
    "        for metric in metrics:\n",
    "            stats[metric] = []\n",
    "        for prefix in prefixs:\n",
    "            alpha = 0 \n",
    "            behavior_policies = np.load(f\"{prefix}_np_25_alpha={alpha}.npy\")\n",
    "            for i in range(num_polices):\n",
    "                pi_0_subset= all_action_dist_3[np.arange(bandit_feedback_test['action'].shape[0]), bandit_feedback_test['action'], 0][:n_size].copy()#behavior_policies[i][:n_size]\n",
    "\n",
    "                ipw_est_round_rewards = ipw(pi_e_subset, pi_0_subset, r_subset, r_hat_subset)\n",
    "                snipw_est_round_rewards = snipw(pi_e_subset, pi_0_subset, r_subset, r_hat_subset)\n",
    "                sndr_est_round_rewards = sndr(pi_e_subset, pi_0_subset, r_subset, r_hat_subset, dm_subset)\n",
    "                dm_est_round_rewards = dm(dm_subset)\n",
    "\n",
    "                for j in range(cnt_inner_bootstraps):\n",
    "                    bootstrap_idxs = np.random.randint(n_size, size=n_size)\n",
    "                    stats['ipw'].append(ipw_est_round_rewards[bootstrap_idxs].mean())\n",
    "                    stats['snipw'].append(snipw_est_round_rewards[bootstrap_idxs].mean())\n",
    "                    stats['sndr'].append(sndr_est_round_rewards[bootstrap_idxs].mean())\n",
    "                    stats['dm'].append(dm_est_round_rewards[bootstrap_idxs].mean())\n",
    "        for metric in metrics:\n",
    "            dct = {}\n",
    "            values = stats[metric]\n",
    "            dct['mean'] = np.mean(values)\n",
    "            dct['95.0% CI (lower)'] = np.percentile(values, 100 * (_alpha / 2))\n",
    "            dct['95.0% CI (upper)'] = np.percentile(values, 100 * (1.0 - _alpha / 2))\n",
    "            res[metric] = dct\n",
    "        CIs.append(res)\n",
    "    return CIs"
   ]
  },
  {
   "cell_type": "code",
   "execution_count": 124,
   "id": "fe68f886-316a-415d-ad95-c6ec4052e21d",
   "metadata": {},
   "outputs": [
    {
     "name": "stdout",
     "output_type": "stream",
     "text": [
      "10000\n",
      "20000\n",
      "50000\n",
      "70000\n",
      "94124\n"
     ]
    }
   ],
   "source": [
    "CIs_1 = run_exp(all_action_dist_1_top_10, DM_method_1_top_10)"
   ]
  },
  {
   "cell_type": "code",
   "execution_count": 125,
   "id": "a2949832-2f08-45dc-91af-30632b70c7fd",
   "metadata": {
    "tags": []
   },
   "outputs": [
    {
     "name": "stdout",
     "output_type": "stream",
     "text": [
      "10000\n",
      "20000\n",
      "50000\n",
      "70000\n",
      "94124\n"
     ]
    }
   ],
   "source": [
    "CIs_2 = run_exp(all_action_dist_2_top_10, DM_method_2_top_10)"
   ]
  },
  {
   "cell_type": "code",
   "execution_count": 126,
   "id": "35541708-7135-4ba9-a117-a089057bab9b",
   "metadata": {
    "tags": []
   },
   "outputs": [
    {
     "name": "stdout",
     "output_type": "stream",
     "text": [
      "10000\n",
      "20000\n",
      "50000\n",
      "70000\n",
      "94124\n"
     ]
    }
   ],
   "source": [
    "CIs_3 = run_exp(all_action_dist_3_top_10, DM_method_3_top_10)"
   ]
  },
  {
   "cell_type": "code",
   "execution_count": 127,
   "id": "a5db3c2b-cc0e-4d5c-a043-5e6e6994a8a2",
   "metadata": {
    "tags": []
   },
   "outputs": [
    {
     "data": {
      "text/plain": [
       "{'ipw': {'mean': 1.041885275948386,\n",
       "  '95.0% CI (lower)': 0.9204316135758553,\n",
       "  '95.0% CI (upper)': 1.1604932127409016},\n",
       " 'snipw': {'mean': 0.9262359267529539,\n",
       "  '95.0% CI (lower)': 0.8182636306450526,\n",
       "  '95.0% CI (upper)': 1.0316783730484647},\n",
       " 'sndr': {'mean': 0.926192219729574,\n",
       "  '95.0% CI (lower)': 0.8903922428116986,\n",
       "  '95.0% CI (upper)': 0.9576386894841326},\n",
       " 'dm': {'mean': 0.8253706837990188,\n",
       "  '95.0% CI (lower)': 0.8251967239134227,\n",
       "  '95.0% CI (upper)': 0.8255347630469807}}"
      ]
     },
     "execution_count": 127,
     "metadata": {},
     "output_type": "execute_result"
    }
   ],
   "source": [
    "CIs_1[-1]"
   ]
  },
  {
   "cell_type": "code",
   "execution_count": 128,
   "id": "302f11bd-b0b7-43dc-9b6a-5b5a3779db6e",
   "metadata": {
    "tags": []
   },
   "outputs": [
    {
     "data": {
      "text/plain": [
       "{'ipw': {'mean': 1.0230459654271686,\n",
       "  '95.0% CI (lower)': 0.9753451111624567,\n",
       "  '95.0% CI (upper)': 1.0692258796869134},\n",
       " 'snipw': {'mean': 0.9404683979375077,\n",
       "  '95.0% CI (lower)': 0.8966178306056158,\n",
       "  '95.0% CI (upper)': 0.9829207915233809},\n",
       " 'sndr': {'mean': 0.9409028907801626,\n",
       "  '95.0% CI (lower)': 0.9287117921653938,\n",
       "  '95.0% CI (upper)': 0.9527681094054228},\n",
       " 'dm': {'mean': 0.8373102823046525,\n",
       "  '95.0% CI (lower)': 0.8371435520370606,\n",
       "  '95.0% CI (upper)': 0.8374793757139825}}"
      ]
     },
     "execution_count": 128,
     "metadata": {},
     "output_type": "execute_result"
    }
   ],
   "source": [
    "CIs_2[-1]"
   ]
  },
  {
   "cell_type": "code",
   "execution_count": 129,
   "id": "7386b4ca-4246-48c3-9e54-306f536a089a",
   "metadata": {
    "tags": []
   },
   "outputs": [
    {
     "data": {
      "text/plain": [
       "{'ipw': {'mean': 1.0086624369793766,\n",
       "  '95.0% CI (lower)': 0.9656949840988247,\n",
       "  '95.0% CI (upper)': 1.053740005258371},\n",
       " 'snipw': {'mean': 0.9481301762123329,\n",
       "  '95.0% CI (lower)': 0.9077413036049297,\n",
       "  '95.0% CI (upper)': 0.9905025311139163},\n",
       " 'sndr': {'mean': 0.9477231699912992,\n",
       "  '95.0% CI (lower)': 0.9371635208427741,\n",
       "  '95.0% CI (upper)': 0.9588064899249399},\n",
       " 'dm': {'mean': 0.8388684871360882,\n",
       "  '95.0% CI (lower)': 0.8387140618859202,\n",
       "  '95.0% CI (upper)': 0.8390268217051302}}"
      ]
     },
     "execution_count": 129,
     "metadata": {},
     "output_type": "execute_result"
    }
   ],
   "source": [
    "CIs_3[-1]"
   ]
  },
  {
   "cell_type": "code",
   "execution_count": 130,
   "id": "19f89ba7-7d91-46d2-b95c-1a98c1a4c2d2",
   "metadata": {},
   "outputs": [],
   "source": [
    "def plot_CIs(CIs_1, CIs_2, CIs_3, model_1, model_2, model_3):\n",
    "    fig, ax = plt.subplots(4, figsize=(10, 10))\n",
    "    \n",
    "    x = [10000, 20000, 50000, 70000, 94124]\n",
    "\n",
    "    colors = ['b', 'r', 'g', 'y']\n",
    "    i = 0 \n",
    "    for name in ['ipw', 'dm', 'sndr', 'snipw']:\n",
    "        y_est = [estimated_ci[name][\"mean\"] for estimated_ci in CIs_1]\n",
    "        y_up = [estimated_ci[name][\"95.0% CI (upper)\"] for estimated_ci in CIs_1]\n",
    "        y_low = [estimated_ci[name][\"95.0% CI (lower)\"] for estimated_ci in CIs_1]\n",
    "        \n",
    "        ax[i].plot(x, y_est, '-', label=model_1, color = colors[0])\n",
    "        ax[i].fill_between(x, y_low, y_up, alpha=0.2, color = colors[0])\n",
    "        \n",
    "        y_est = [estimated_ci[name][\"mean\"] for estimated_ci in CIs_2]\n",
    "        y_up = [estimated_ci[name][\"95.0% CI (upper)\"] for estimated_ci in CIs_2]\n",
    "        y_low = [estimated_ci[name][\"95.0% CI (lower)\"] for estimated_ci in CIs_2]\n",
    "        \n",
    "        ax[i].plot(x, y_est, '-', label=model_2, color = colors[1])\n",
    "        ax[i].fill_between(x, y_low, y_up, alpha=0.2, color = colors[1])\n",
    "        \n",
    "        y_est = [estimated_ci[name][\"mean\"] for estimated_ci in CIs_3]\n",
    "        y_up = [estimated_ci[name][\"95.0% CI (upper)\"] for estimated_ci in CIs_3]\n",
    "        y_low = [estimated_ci[name][\"95.0% CI (lower)\"] for estimated_ci in CIs_3]\n",
    "        \n",
    "        ax[i].plot(x, y_est, '-', label=model_3, color = colors[2])\n",
    "        ax[i].fill_between(x, y_low, y_up, alpha=0.2, color = colors[2])\n",
    "        \n",
    "        ax[i].set_title(name)\n",
    "        i+=1\n",
    "\n",
    "    fig.suptitle(\"OPE for \" + \" \" + model_1 + \" \" + model_2 + \" \" + model_2, fontsize=16)\n",
    "    fig.legend(bbox_to_anchor=(1.04, 1), loc=\"upper left\")\n",
    "    plt.tight_layout()"
   ]
  },
  {
   "cell_type": "code",
   "execution_count": 140,
   "id": "9d487e0a-0c67-4dad-83f2-48335ee5451e",
   "metadata": {
    "tags": []
   },
   "outputs": [],
   "source": [
    "users_train = np.unique(bandit_feedback_train['log'].toPandas()['user_idx'].values)"
   ]
  },
  {
   "cell_type": "code",
   "execution_count": 141,
   "id": "ba48ea09-5e85-41cb-8a21-ba91774a3e5f",
   "metadata": {
    "tags": []
   },
   "outputs": [],
   "source": [
    "users_test = np.unique(bandit_feedback_test['log'].toPandas()['user_idx'].values)"
   ]
  },
  {
   "cell_type": "code",
   "execution_count": 148,
   "id": "499c4c64-2367-4566-a367-df87429c8d8b",
   "metadata": {
    "tags": []
   },
   "outputs": [],
   "source": [
    "cold_users = []\n",
    "for u in  users_test:\n",
    "    if not (u in users_train):\n",
    "        cold_users.append(u)\n",
    "cold_users = np.array(cold_users)"
   ]
  },
  {
   "cell_type": "code",
   "execution_count": 149,
   "id": "650d642f-7f4b-484a-a2a0-aec745825bc7",
   "metadata": {
    "tags": []
   },
   "outputs": [
    {
     "data": {
      "text/plain": [
       "array([  5,  15,  20,  33,  41,  42,  44,  47,  70,  84,  89,  96,  98,\n",
       "       108, 110, 112, 116, 121, 134, 135, 143, 166, 168, 173, 178, 189,\n",
       "       192, 200, 202, 209, 210, 216, 226, 242, 245, 246, 255, 257, 283,\n",
       "       297, 299, 302, 304, 310, 311, 316, 318, 342, 360, 362, 368, 371,\n",
       "       372, 398, 403, 413, 421, 423, 433, 436, 438, 439, 456, 457, 462,\n",
       "       464, 478, 480, 493, 497, 499, 505, 506, 509, 511, 516, 523, 527,\n",
       "       528, 532, 538, 539, 544, 555, 557, 570, 578, 595, 599], dtype=int32)"
      ]
     },
     "execution_count": 149,
     "metadata": {},
     "output_type": "execute_result"
    }
   ],
   "source": [
    "cold_users"
   ]
  },
  {
   "cell_type": "code",
   "execution_count": 156,
   "id": "31c86c6d-38c9-41b0-8f64-34514aebad97",
   "metadata": {
    "tags": []
   },
   "outputs": [],
   "source": [
    "not_cold_idx = (bandit_feedback_test['log'].toPandas()['user_idx'].isin(cold_users)).values"
   ]
  },
  {
   "cell_type": "code",
   "execution_count": 131,
   "id": "59a62a1e-2203-4cf5-83cf-e24c32305f77",
   "metadata": {
    "tags": []
   },
   "outputs": [
    {
     "data": {
      "image/png": "[encoded data removed]",
      "text/plain": [
       "<Figure size 1000x1000 with 4 Axes>"
      ]
     },
     "metadata": {},
     "output_type": "display_data"
    }
   ],
   "source": [
    "plot_CIs(CIs_1,CIs_2, CIs_3, 'UCB', 'Lin_UCB', 'Random')"
   ]
  },
  {
   "cell_type": "code",
   "execution_count": 73,
   "id": "903a33ef-67ca-4662-af40-738843f6cbe5",
   "metadata": {
    "tags": []
   },
   "outputs": [
    {
     "ename": "NameError",
     "evalue": "name 'learner_1' is not defined",
     "output_type": "error",
     "traceback": [
      "\u001b[0;31m---------------------------------------------------------------------------\u001b[0m",
      "\u001b[0;31mNameError\u001b[0m                                 Traceback (most recent call last)",
      "Cell \u001b[0;32mIn[73], line 1\u001b[0m\n\u001b[0;32m----> 1\u001b[0m \u001b[43mlearner_1\u001b[49m\u001b[38;5;241m.\u001b[39mpredict_and_evaluate_new(bandit_feedback_test, K\u001b[38;5;241m=\u001b[39m\u001b[38;5;241m10\u001b[39m)\n",
      "\u001b[0;31mNameError\u001b[0m: name 'learner_1' is not defined"
     ]
    }
   ],
   "source": [
    "learner_1.predict_and_evaluate_new(bandit_feedback_test, K=10)"
   ]
  },
  {
   "cell_type": "code",
   "execution_count": 73,
   "id": "c9d3ef2b-a1be-4ac1-a0a3-8f39e1213a99",
   "metadata": {
    "tags": []
   },
   "outputs": [
    {
     "name": "stderr",
     "output_type": "stream",
     "text": [
      "100%|█████████████████████████████████████████████████████████████████████████████████████████████| 39/39 [00:24<00:00,  1.57it/s]\n"
     ]
    },
    {
     "data": {
      "text/plain": [
       "{'hr@10': 0.04183306807114465,\n",
       " 'mrr@10': 0.01427059733071232,\n",
       " 'ndcg@10': 0.020625325468776063,\n",
       " 'cov@10': 0.24933333333333332}"
      ]
     },
     "execution_count": 73,
     "metadata": {},
     "output_type": "execute_result"
    }
   ],
   "source": [
    "learner_2.predict_and_evaluate_new(bandit_feedback_test, K=10)"
   ]
  },
  {
   "cell_type": "code",
   "execution_count": 74,
   "id": "934d80f1-10c8-47e8-99be-416224a35ae1",
   "metadata": {
    "tags": []
   },
   "outputs": [
    {
     "name": "stderr",
     "output_type": "stream",
     "text": [
      "100%|█████████████████████████████████████████████████████████████████████████████████████████████| 39/39 [00:07<00:00,  5.16it/s]\n"
     ]
    },
    {
     "data": {
      "text/plain": [
       "{'hr@10': 0.009256523649549911,\n",
       " 'mrr@10': 0.0027288165025053414,\n",
       " 'ndcg@10': 0.0042169598803056445,\n",
       " 'cov@10': 0.9446666666666667}"
      ]
     },
     "execution_count": 74,
     "metadata": {},
     "output_type": "execute_result"
    }
   ],
   "source": [
    "learner_3.predict_and_evaluate_new(bandit_feedback_test, K=10)"
   ]
  },
  {
   "cell_type": "code",
   "execution_count": 160,
   "id": "08c8b41c-95ca-4955-964d-25304022854c",
   "metadata": {},
   "outputs": [],
   "source": [
    "my_log = bandit_feedback_test['log'].toPandas().copy()\n",
    "check_map_pop_dist = my_log['item_idx'].value_counts(normalize=True)\n",
    "check_pop_dist =[]\n",
    "for a in range(bandit_feedback_test['n_actions']):\n",
    "    if a in bandit_feedback_test['action']:\n",
    "        check_pop_dist.append(check_map_pop_dist.loc[[a]].values[0])\n",
    "    else:\n",
    "        check_pop_dist.append(0)"
   ]
  },
  {
   "cell_type": "code",
   "execution_count": 162,
   "id": "78124539-e8be-4f78-949d-0ef8a5672ab8",
   "metadata": {
    "tags": []
   },
   "outputs": [
    {
     "data": {
      "text/plain": [
       "[<matplotlib.lines.Line2D at 0x7fe0cd050a90>]"
      ]
     },
     "execution_count": 162,
     "metadata": {},
     "output_type": "execute_result"
    },
    {
     "data": {
      "image/png": "[encoded data removed]",
      "text/plain": [
       "<Figure size 640x480 with 1 Axes>"
      ]
     },
     "metadata": {},
     "output_type": "display_data"
    }
   ],
   "source": [
    "plt.plot(np.arange(bandit_feedback_test['n_actions']), check_pop_dist)"
   ]
  },
  {
   "cell_type": "code",
   "execution_count": 163,
   "id": "82c15ad1-e9b4-42b3-adc7-756ee30d41b5",
   "metadata": {
    "tags": []
   },
   "outputs": [],
   "source": [
    "my_log = bandit_feedback_train['log'].toPandas().copy()\n",
    "check_map_pop_dist = my_log['item_idx'].value_counts(normalize=True)\n",
    "check_pop_dist =[]\n",
    "for a in range(bandit_feedback_train['n_actions']):\n",
    "    if a in bandit_feedback_train['action']:\n",
    "        check_pop_dist.append(check_map_pop_dist.loc[[a]].values[0])\n",
    "    else:\n",
    "        check_pop_dist.append(0)"
   ]
  },
  {
   "cell_type": "code",
   "execution_count": 164,
   "id": "f7aeb5e3-b24b-4dc6-9736-0fbcc255eba9",
   "metadata": {
    "tags": []
   },
   "outputs": [
    {
     "data": {
      "text/plain": [
       "[<matplotlib.lines.Line2D at 0x7fe0caf2fbe0>]"
      ]
     },
     "execution_count": 164,
     "metadata": {},
     "output_type": "execute_result"
    },
    {
     "data": {
      "image/png": "[encoded data removed]",
      "text/plain": [
       "<Figure size 640x480 with 1 Axes>"
      ]
     },
     "metadata": {},
     "output_type": "display_data"
    }
   ],
   "source": [
    "plt.plot(np.arange(bandit_feedback_test['n_actions']), check_pop_dist)"
   ]
  },
  {
   "cell_type": "code",
   "execution_count": null,
   "id": "e8e53e43-fcf9-4437-8873-4b13a78ede61",
   "metadata": {},
   "outputs": [],
   "source": []
  }
 ],
 "metadata": {
  "kernelspec": {
   "display_name": "Python 3",
   "language": "python",
   "name": "python3"
  },
  "language_info": {
   "codemirror_mode": {
    "name": "ipython",
    "version": 3
   },
   "file_extension": ".py",
   "mimetype": "text/x-python",
   "name": "python",
   "nbconvert_exporter": "python",
   "pygments_lexer": "ipython3",
   "version": "3.8.20"
  }
 },
 "nbformat": 4,
 "nbformat_minor": 5
}
